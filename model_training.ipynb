{
 "cells": [
  {
   "cell_type": "markdown",
   "id": "d3d7d468",
   "metadata": {},
   "source": [
    "# Model Training & Prediction  Analysis\n",
    "\n",
    "Model training in machine language is the process of feeding an ML algorithm with data to help identify and learn good values for all attributes involved. There are several types of machine learning models, of which the most common ones are supervised and unsupervised learning. According to the nature of our problem and the dataset the learning algorithm will be Supervised machine learning. \n",
    "\n",
    "Five (5) classification algorithm will be use\n",
    "\n",
    "1. RandomForest Classifier\n",
    "\n",
    "2. Support Vector Machine\n",
    "\n",
    "3. Naive Bayes\n",
    "\n",
    "4. XBoost\n",
    "\n",
    "5. DecisionTree Classifier\n",
    "\n",
    "We will train all the five algorithms and compare the accuracy of prediction among them and then select the best algorithms with high accuracy prediction as our final algorithms for mobile price range prediction.\n",
    " \n"
   ]
  },
  {
   "cell_type": "code",
   "execution_count": 99,
   "id": "42b5e7de",
   "metadata": {},
   "outputs": [
    {
     "name": "stdout",
     "output_type": "stream",
     "text": [
      "The autoreload extension is already loaded. To reload it, use:\n",
      "  %reload_ext autoreload\n"
     ]
    }
   ],
   "source": [
    "%load_ext autoreload\n",
    "#hide warnings\n",
    "import warnings\n",
    "warnings.filterwarnings('ignore')"
   ]
  },
  {
   "cell_type": "code",
   "execution_count": 2,
   "id": "a74f8b88",
   "metadata": {},
   "outputs": [],
   "source": [
    "#import libraries\n",
    "import numpy as np\n",
    "import matplotlib.pyplot as plt\n",
    "import seaborn as sn\n",
    "import pandas as pd\n",
    "from collections import Counter\n",
    "from IPython.core.interactiveshell import InteractiveShell\n",
    "InteractiveShell.ast_node_interactivity = \"all\"\n",
    "pd.set_option('precision', 3)\n"
   ]
  },
  {
   "cell_type": "code",
   "execution_count": 3,
   "id": "99363409",
   "metadata": {},
   "outputs": [],
   "source": [
    "# extra imports\n",
    "from pandas import read_csv\n",
    "import plotly.express as px\n",
    "from plotly.offline import plot, iplot, init_notebook_mode\n",
    "\n",
    "\n",
    "#library for visualization\n",
    "from pandas.plotting import scatter_matrix\n",
    "from scipy.stats import boxcox\n",
    "from matplotlib.pyplot import figure\n",
    "\n",
    "#models \n",
    "from scipy import stats\n",
    "import statsmodels.api as sm\n",
    "from sklearn.model_selection import train_test_split,  KFold, cross_val_score, GridSearchCV\n",
    "from sklearn.metrics import mean_squared_error, r2_score, classification_report, confusion_matrix, accuracy_score\n",
    "from sklearn.metrics import ConfusionMatrixDisplay\n",
    "from sklearn.feature_selection import SelectKBest, chi2\n",
    "from sklearn.ensemble import ExtraTreesClassifier , GradientBoostingClassifier , RandomForestClassifier  \n",
    "from sklearn.neighbors import KNeighborsClassifier\n",
    "from sklearn.tree import DecisionTreeClassifier\n",
    "from sklearn.naive_bayes import GaussianNB\n",
    "from sklearn.svm import SVC\n",
    "from xgboost import XGBClassifier\n"
   ]
  },
  {
   "cell_type": "markdown",
   "id": "98aa2269",
   "metadata": {},
   "source": [
    "##### Reading the file"
   ]
  },
  {
   "cell_type": "markdown",
   "id": "ebbc5460",
   "metadata": {},
   "source": [
    "Here we are reading the .csv of the preprocessed file, we use the file which is already clean and therefore we will not do any data preprocessing work."
   ]
  },
  {
   "cell_type": "code",
   "execution_count": 4,
   "id": "9ca66492",
   "metadata": {},
   "outputs": [
    {
     "data": {
      "text/plain": [
       "(1600, 21)"
      ]
     },
     "execution_count": 4,
     "metadata": {},
     "output_type": "execute_result"
    }
   ],
   "source": [
    "mobile = read_csv(\"Data/clean_train.csv\", header=0, delimiter=',')\n",
    "mobile.shape"
   ]
  },
  {
   "cell_type": "code",
   "execution_count": 5,
   "id": "24b32cbe",
   "metadata": {},
   "outputs": [
    {
     "data": {
      "text/html": [
       "<div>\n",
       "<style scoped>\n",
       "    .dataframe tbody tr th:only-of-type {\n",
       "        vertical-align: middle;\n",
       "    }\n",
       "\n",
       "    .dataframe tbody tr th {\n",
       "        vertical-align: top;\n",
       "    }\n",
       "\n",
       "    .dataframe thead th {\n",
       "        text-align: right;\n",
       "    }\n",
       "</style>\n",
       "<table border=\"1\" class=\"dataframe\">\n",
       "  <thead>\n",
       "    <tr style=\"text-align: right;\">\n",
       "      <th></th>\n",
       "      <th>battery_power</th>\n",
       "      <th>blue</th>\n",
       "      <th>clock_speed</th>\n",
       "      <th>dual_sim</th>\n",
       "      <th>fc</th>\n",
       "      <th>four_g</th>\n",
       "      <th>int_memory</th>\n",
       "      <th>m_dep</th>\n",
       "      <th>mobile_wt</th>\n",
       "      <th>n_cores</th>\n",
       "      <th>...</th>\n",
       "      <th>px_height</th>\n",
       "      <th>px_width</th>\n",
       "      <th>ram</th>\n",
       "      <th>sc_h</th>\n",
       "      <th>sc_w</th>\n",
       "      <th>talk_time</th>\n",
       "      <th>three_g</th>\n",
       "      <th>touch_screen</th>\n",
       "      <th>wifi</th>\n",
       "      <th>price_range</th>\n",
       "    </tr>\n",
       "  </thead>\n",
       "  <tbody>\n",
       "    <tr>\n",
       "      <th>0</th>\n",
       "      <td>959</td>\n",
       "      <td>1</td>\n",
       "      <td>2.6</td>\n",
       "      <td>1</td>\n",
       "      <td>15.0</td>\n",
       "      <td>0</td>\n",
       "      <td>20</td>\n",
       "      <td>1.0</td>\n",
       "      <td>84</td>\n",
       "      <td>4</td>\n",
       "      <td>...</td>\n",
       "      <td>561.0</td>\n",
       "      <td>1631</td>\n",
       "      <td>3965</td>\n",
       "      <td>16</td>\n",
       "      <td>1.0</td>\n",
       "      <td>6</td>\n",
       "      <td>1</td>\n",
       "      <td>0</td>\n",
       "      <td>0</td>\n",
       "      <td>3</td>\n",
       "    </tr>\n",
       "    <tr>\n",
       "      <th>1</th>\n",
       "      <td>1724</td>\n",
       "      <td>0</td>\n",
       "      <td>2.0</td>\n",
       "      <td>1</td>\n",
       "      <td>2.0</td>\n",
       "      <td>1</td>\n",
       "      <td>57</td>\n",
       "      <td>0.5</td>\n",
       "      <td>177</td>\n",
       "      <td>3</td>\n",
       "      <td>...</td>\n",
       "      <td>1605.0</td>\n",
       "      <td>1924</td>\n",
       "      <td>2822</td>\n",
       "      <td>19</td>\n",
       "      <td>3.0</td>\n",
       "      <td>16</td>\n",
       "      <td>1</td>\n",
       "      <td>1</td>\n",
       "      <td>0</td>\n",
       "      <td>3</td>\n",
       "    </tr>\n",
       "    <tr>\n",
       "      <th>2</th>\n",
       "      <td>1456</td>\n",
       "      <td>1</td>\n",
       "      <td>0.5</td>\n",
       "      <td>1</td>\n",
       "      <td>7.0</td>\n",
       "      <td>0</td>\n",
       "      <td>7</td>\n",
       "      <td>0.4</td>\n",
       "      <td>105</td>\n",
       "      <td>5</td>\n",
       "      <td>...</td>\n",
       "      <td>823.0</td>\n",
       "      <td>1104</td>\n",
       "      <td>1587</td>\n",
       "      <td>6</td>\n",
       "      <td>5.0</td>\n",
       "      <td>20</td>\n",
       "      <td>1</td>\n",
       "      <td>0</td>\n",
       "      <td>1</td>\n",
       "      <td>1</td>\n",
       "    </tr>\n",
       "    <tr>\n",
       "      <th>3</th>\n",
       "      <td>1993</td>\n",
       "      <td>1</td>\n",
       "      <td>0.5</td>\n",
       "      <td>0</td>\n",
       "      <td>10.0</td>\n",
       "      <td>1</td>\n",
       "      <td>27</td>\n",
       "      <td>0.3</td>\n",
       "      <td>147</td>\n",
       "      <td>8</td>\n",
       "      <td>...</td>\n",
       "      <td>150.0</td>\n",
       "      <td>510</td>\n",
       "      <td>2437</td>\n",
       "      <td>14</td>\n",
       "      <td>1.0</td>\n",
       "      <td>9</td>\n",
       "      <td>1</td>\n",
       "      <td>0</td>\n",
       "      <td>0</td>\n",
       "      <td>2</td>\n",
       "    </tr>\n",
       "    <tr>\n",
       "      <th>4</th>\n",
       "      <td>864</td>\n",
       "      <td>0</td>\n",
       "      <td>1.6</td>\n",
       "      <td>1</td>\n",
       "      <td>2.0</td>\n",
       "      <td>1</td>\n",
       "      <td>53</td>\n",
       "      <td>0.3</td>\n",
       "      <td>88</td>\n",
       "      <td>6</td>\n",
       "      <td>...</td>\n",
       "      <td>262.0</td>\n",
       "      <td>1436</td>\n",
       "      <td>493</td>\n",
       "      <td>18</td>\n",
       "      <td>9.0</td>\n",
       "      <td>10</td>\n",
       "      <td>1</td>\n",
       "      <td>1</td>\n",
       "      <td>0</td>\n",
       "      <td>0</td>\n",
       "    </tr>\n",
       "  </tbody>\n",
       "</table>\n",
       "<p>5 rows × 21 columns</p>\n",
       "</div>"
      ],
      "text/plain": [
       "   battery_power  blue  clock_speed  dual_sim    fc  four_g  int_memory  \\\n",
       "0            959     1          2.6         1  15.0       0          20   \n",
       "1           1724     0          2.0         1   2.0       1          57   \n",
       "2           1456     1          0.5         1   7.0       0           7   \n",
       "3           1993     1          0.5         0  10.0       1          27   \n",
       "4            864     0          1.6         1   2.0       1          53   \n",
       "\n",
       "   m_dep  mobile_wt  n_cores  ...  px_height  px_width   ram  sc_h  sc_w  \\\n",
       "0    1.0         84        4  ...      561.0      1631  3965    16   1.0   \n",
       "1    0.5        177        3  ...     1605.0      1924  2822    19   3.0   \n",
       "2    0.4        105        5  ...      823.0      1104  1587     6   5.0   \n",
       "3    0.3        147        8  ...      150.0       510  2437    14   1.0   \n",
       "4    0.3         88        6  ...      262.0      1436   493    18   9.0   \n",
       "\n",
       "   talk_time  three_g  touch_screen  wifi  price_range  \n",
       "0          6        1             0     0            3  \n",
       "1         16        1             1     0            3  \n",
       "2         20        1             0     1            1  \n",
       "3          9        1             0     0            2  \n",
       "4         10        1             1     0            0  \n",
       "\n",
       "[5 rows x 21 columns]"
      ]
     },
     "execution_count": 5,
     "metadata": {},
     "output_type": "execute_result"
    }
   ],
   "source": [
    "mobile.head()"
   ]
  },
  {
   "cell_type": "code",
   "execution_count": 6,
   "id": "09281dea",
   "metadata": {},
   "outputs": [
    {
     "data": {
      "text/html": [
       "<div>\n",
       "<style scoped>\n",
       "    .dataframe tbody tr th:only-of-type {\n",
       "        vertical-align: middle;\n",
       "    }\n",
       "\n",
       "    .dataframe tbody tr th {\n",
       "        vertical-align: top;\n",
       "    }\n",
       "\n",
       "    .dataframe thead th {\n",
       "        text-align: right;\n",
       "    }\n",
       "</style>\n",
       "<table border=\"1\" class=\"dataframe\">\n",
       "  <thead>\n",
       "    <tr style=\"text-align: right;\">\n",
       "      <th></th>\n",
       "      <th>battery_power</th>\n",
       "      <th>blue</th>\n",
       "      <th>clock_speed</th>\n",
       "      <th>dual_sim</th>\n",
       "      <th>fc</th>\n",
       "      <th>four_g</th>\n",
       "      <th>int_memory</th>\n",
       "      <th>m_dep</th>\n",
       "      <th>mobile_wt</th>\n",
       "      <th>n_cores</th>\n",
       "      <th>...</th>\n",
       "      <th>px_height</th>\n",
       "      <th>px_width</th>\n",
       "      <th>ram</th>\n",
       "      <th>sc_h</th>\n",
       "      <th>sc_w</th>\n",
       "      <th>talk_time</th>\n",
       "      <th>three_g</th>\n",
       "      <th>touch_screen</th>\n",
       "      <th>wifi</th>\n",
       "      <th>price_range</th>\n",
       "    </tr>\n",
       "  </thead>\n",
       "  <tbody>\n",
       "    <tr>\n",
       "      <th>count</th>\n",
       "      <td>1600.000</td>\n",
       "      <td>1600.000</td>\n",
       "      <td>1600.000</td>\n",
       "      <td>1600.000</td>\n",
       "      <td>1600.000</td>\n",
       "      <td>1600.000</td>\n",
       "      <td>1600.000</td>\n",
       "      <td>1600.000</td>\n",
       "      <td>1600.000</td>\n",
       "      <td>1600.000</td>\n",
       "      <td>...</td>\n",
       "      <td>1600.000</td>\n",
       "      <td>1600.000</td>\n",
       "      <td>1600.000</td>\n",
       "      <td>1600.000</td>\n",
       "      <td>1600.000</td>\n",
       "      <td>1600.000</td>\n",
       "      <td>1600.000</td>\n",
       "      <td>1600.0</td>\n",
       "      <td>1600.000</td>\n",
       "      <td>1600.000</td>\n",
       "    </tr>\n",
       "    <tr>\n",
       "      <th>mean</th>\n",
       "      <td>1244.831</td>\n",
       "      <td>0.508</td>\n",
       "      <td>1.520</td>\n",
       "      <td>0.509</td>\n",
       "      <td>5.476</td>\n",
       "      <td>0.516</td>\n",
       "      <td>32.142</td>\n",
       "      <td>0.499</td>\n",
       "      <td>140.364</td>\n",
       "      <td>4.522</td>\n",
       "      <td>...</td>\n",
       "      <td>644.715</td>\n",
       "      <td>1249.115</td>\n",
       "      <td>2117.431</td>\n",
       "      <td>12.299</td>\n",
       "      <td>6.326</td>\n",
       "      <td>10.948</td>\n",
       "      <td>0.762</td>\n",
       "      <td>0.5</td>\n",
       "      <td>0.497</td>\n",
       "      <td>1.500</td>\n",
       "    </tr>\n",
       "    <tr>\n",
       "      <th>std</th>\n",
       "      <td>433.193</td>\n",
       "      <td>0.500</td>\n",
       "      <td>0.815</td>\n",
       "      <td>0.500</td>\n",
       "      <td>3.950</td>\n",
       "      <td>0.500</td>\n",
       "      <td>18.114</td>\n",
       "      <td>0.288</td>\n",
       "      <td>35.495</td>\n",
       "      <td>2.286</td>\n",
       "      <td>...</td>\n",
       "      <td>441.211</td>\n",
       "      <td>431.139</td>\n",
       "      <td>1081.240</td>\n",
       "      <td>4.224</td>\n",
       "      <td>4.181</td>\n",
       "      <td>5.461</td>\n",
       "      <td>0.426</td>\n",
       "      <td>0.5</td>\n",
       "      <td>0.500</td>\n",
       "      <td>1.118</td>\n",
       "    </tr>\n",
       "    <tr>\n",
       "      <th>min</th>\n",
       "      <td>502.000</td>\n",
       "      <td>0.000</td>\n",
       "      <td>0.500</td>\n",
       "      <td>0.000</td>\n",
       "      <td>1.000</td>\n",
       "      <td>0.000</td>\n",
       "      <td>2.000</td>\n",
       "      <td>0.100</td>\n",
       "      <td>80.000</td>\n",
       "      <td>1.000</td>\n",
       "      <td>...</td>\n",
       "      <td>1.000</td>\n",
       "      <td>500.000</td>\n",
       "      <td>258.000</td>\n",
       "      <td>5.000</td>\n",
       "      <td>1.000</td>\n",
       "      <td>2.000</td>\n",
       "      <td>0.000</td>\n",
       "      <td>0.0</td>\n",
       "      <td>0.000</td>\n",
       "      <td>0.000</td>\n",
       "    </tr>\n",
       "    <tr>\n",
       "      <th>25%</th>\n",
       "      <td>864.750</td>\n",
       "      <td>0.000</td>\n",
       "      <td>0.700</td>\n",
       "      <td>0.000</td>\n",
       "      <td>2.000</td>\n",
       "      <td>0.000</td>\n",
       "      <td>16.000</td>\n",
       "      <td>0.200</td>\n",
       "      <td>109.000</td>\n",
       "      <td>3.000</td>\n",
       "      <td>...</td>\n",
       "      <td>285.500</td>\n",
       "      <td>874.000</td>\n",
       "      <td>1209.750</td>\n",
       "      <td>9.000</td>\n",
       "      <td>3.000</td>\n",
       "      <td>6.000</td>\n",
       "      <td>1.000</td>\n",
       "      <td>0.0</td>\n",
       "      <td>0.000</td>\n",
       "      <td>0.750</td>\n",
       "    </tr>\n",
       "    <tr>\n",
       "      <th>50%</th>\n",
       "      <td>1235.000</td>\n",
       "      <td>1.000</td>\n",
       "      <td>1.500</td>\n",
       "      <td>1.000</td>\n",
       "      <td>5.000</td>\n",
       "      <td>1.000</td>\n",
       "      <td>32.000</td>\n",
       "      <td>0.500</td>\n",
       "      <td>141.000</td>\n",
       "      <td>4.000</td>\n",
       "      <td>...</td>\n",
       "      <td>567.750</td>\n",
       "      <td>1247.000</td>\n",
       "      <td>2125.500</td>\n",
       "      <td>12.000</td>\n",
       "      <td>5.000</td>\n",
       "      <td>11.000</td>\n",
       "      <td>1.000</td>\n",
       "      <td>0.5</td>\n",
       "      <td>0.000</td>\n",
       "      <td>1.500</td>\n",
       "    </tr>\n",
       "    <tr>\n",
       "      <th>75%</th>\n",
       "      <td>1616.250</td>\n",
       "      <td>1.000</td>\n",
       "      <td>2.200</td>\n",
       "      <td>1.000</td>\n",
       "      <td>8.000</td>\n",
       "      <td>1.000</td>\n",
       "      <td>48.000</td>\n",
       "      <td>0.800</td>\n",
       "      <td>170.000</td>\n",
       "      <td>7.000</td>\n",
       "      <td>...</td>\n",
       "      <td>945.000</td>\n",
       "      <td>1629.500</td>\n",
       "      <td>3040.500</td>\n",
       "      <td>16.000</td>\n",
       "      <td>9.000</td>\n",
       "      <td>16.000</td>\n",
       "      <td>1.000</td>\n",
       "      <td>1.0</td>\n",
       "      <td>1.000</td>\n",
       "      <td>2.250</td>\n",
       "    </tr>\n",
       "    <tr>\n",
       "      <th>max</th>\n",
       "      <td>1998.000</td>\n",
       "      <td>1.000</td>\n",
       "      <td>3.000</td>\n",
       "      <td>1.000</td>\n",
       "      <td>17.000</td>\n",
       "      <td>1.000</td>\n",
       "      <td>64.000</td>\n",
       "      <td>1.000</td>\n",
       "      <td>200.000</td>\n",
       "      <td>8.000</td>\n",
       "      <td>...</td>\n",
       "      <td>1920.000</td>\n",
       "      <td>1998.000</td>\n",
       "      <td>3998.000</td>\n",
       "      <td>19.000</td>\n",
       "      <td>18.000</td>\n",
       "      <td>20.000</td>\n",
       "      <td>1.000</td>\n",
       "      <td>1.0</td>\n",
       "      <td>1.000</td>\n",
       "      <td>3.000</td>\n",
       "    </tr>\n",
       "  </tbody>\n",
       "</table>\n",
       "<p>8 rows × 21 columns</p>\n",
       "</div>"
      ],
      "text/plain": [
       "       battery_power      blue  clock_speed  dual_sim        fc    four_g  \\\n",
       "count       1600.000  1600.000     1600.000  1600.000  1600.000  1600.000   \n",
       "mean        1244.831     0.508        1.520     0.509     5.476     0.516   \n",
       "std          433.193     0.500        0.815     0.500     3.950     0.500   \n",
       "min          502.000     0.000        0.500     0.000     1.000     0.000   \n",
       "25%          864.750     0.000        0.700     0.000     2.000     0.000   \n",
       "50%         1235.000     1.000        1.500     1.000     5.000     1.000   \n",
       "75%         1616.250     1.000        2.200     1.000     8.000     1.000   \n",
       "max         1998.000     1.000        3.000     1.000    17.000     1.000   \n",
       "\n",
       "       int_memory     m_dep  mobile_wt   n_cores  ...  px_height  px_width  \\\n",
       "count    1600.000  1600.000   1600.000  1600.000  ...   1600.000  1600.000   \n",
       "mean       32.142     0.499    140.364     4.522  ...    644.715  1249.115   \n",
       "std        18.114     0.288     35.495     2.286  ...    441.211   431.139   \n",
       "min         2.000     0.100     80.000     1.000  ...      1.000   500.000   \n",
       "25%        16.000     0.200    109.000     3.000  ...    285.500   874.000   \n",
       "50%        32.000     0.500    141.000     4.000  ...    567.750  1247.000   \n",
       "75%        48.000     0.800    170.000     7.000  ...    945.000  1629.500   \n",
       "max        64.000     1.000    200.000     8.000  ...   1920.000  1998.000   \n",
       "\n",
       "            ram      sc_h      sc_w  talk_time   three_g  touch_screen  \\\n",
       "count  1600.000  1600.000  1600.000   1600.000  1600.000        1600.0   \n",
       "mean   2117.431    12.299     6.326     10.948     0.762           0.5   \n",
       "std    1081.240     4.224     4.181      5.461     0.426           0.5   \n",
       "min     258.000     5.000     1.000      2.000     0.000           0.0   \n",
       "25%    1209.750     9.000     3.000      6.000     1.000           0.0   \n",
       "50%    2125.500    12.000     5.000     11.000     1.000           0.5   \n",
       "75%    3040.500    16.000     9.000     16.000     1.000           1.0   \n",
       "max    3998.000    19.000    18.000     20.000     1.000           1.0   \n",
       "\n",
       "           wifi  price_range  \n",
       "count  1600.000     1600.000  \n",
       "mean      0.497        1.500  \n",
       "std       0.500        1.118  \n",
       "min       0.000        0.000  \n",
       "25%       0.000        0.750  \n",
       "50%       0.000        1.500  \n",
       "75%       1.000        2.250  \n",
       "max       1.000        3.000  \n",
       "\n",
       "[8 rows x 21 columns]"
      ]
     },
     "execution_count": 6,
     "metadata": {},
     "output_type": "execute_result"
    }
   ],
   "source": [
    "mobile.describe()"
   ]
  },
  {
   "cell_type": "markdown",
   "id": "2575be81",
   "metadata": {},
   "source": [
    "## Section 1: Model Selection\n",
    "Model selection is a process of comparing the relative value of different statistical models and determine which one is the best fit for the observed data. The models that will be compared are:\n",
    "\n",
    "  1. RandomForest Classifier\n",
    "  2. Support Vector Machine\n",
    "  3. Naive Bayes\n",
    "  4. XBoost\n",
    "  5. DecisionTree Classifier\n",
    "\n",
    "We will fit all the five algorithms and compare the accuracy of prediction among them and then select the best algorithms with high accuracy prediction as our final algorithms for mobile price range prediction."
   ]
  },
  {
   "cell_type": "code",
   "execution_count": 7,
   "id": "a3c770c6",
   "metadata": {},
   "outputs": [],
   "source": [
    "#import library\n",
    "from sklearn.metrics import ConfusionMatrixDisplay\n",
    "from sklearn.ensemble import GradientBoostingClassifier , RandomForestClassifier  \n",
    "from sklearn.neighbors import KNeighborsClassifier\n",
    "from sklearn.tree import DecisionTreeClassifier\n",
    "from sklearn.naive_bayes import GaussianNB\n",
    "from sklearn.svm import SVC\n",
    "from xgboost import XGBClassifier"
   ]
  },
  {
   "cell_type": "markdown",
   "id": "d3f42a33",
   "metadata": {},
   "source": [
    "### 1.1 Hyperparameter Tuning using GridSearchCV  & k-Fold Cross Validation\n",
    "Hyperparameter optimization refers to performing a search in order to discover the set of specific model configuration arguments that result in the best performance of the model on a specific dataset. These hyperparameters may be used to address model design questions such as; the maximum depth allowed decision treebe ,maximum features used to the model, how many number of trees should included in random forest and many other important configaration such as value of parameter c in SVC. \n",
    "In this section we will find the best parameters for all the five algorithms we want to compare using GridSearchCV method."
   ]
  },
  {
   "cell_type": "markdown",
   "id": "22352c9e",
   "metadata": {},
   "source": [
    "### Data pipeline"
   ]
  },
  {
   "cell_type": "code",
   "execution_count": 84,
   "id": "d45c292c",
   "metadata": {},
   "outputs": [],
   "source": [
    "from sklearn.model_selection import train_test_split\n",
    "#Data set without target variable\n",
    "X = mobile.loc[:,mobile.columns != 'price_range']\n",
    "\n",
    "#target variable\n",
    "y = mobile['price_range']\n",
    "X_train, X_test, y_train, y_test = train_test_split(X, y, test_size=0.33, random_state = 42)"
   ]
  },
  {
   "cell_type": "code",
   "execution_count": 85,
   "id": "1a3fa8a4",
   "metadata": {},
   "outputs": [
    {
     "data": {
      "text/plain": [
       "(1072, 20)"
      ]
     },
     "execution_count": 85,
     "metadata": {},
     "output_type": "execute_result"
    }
   ],
   "source": [
    "X_train.shape"
   ]
  },
  {
   "cell_type": "code",
   "execution_count": 9,
   "id": "e38edb5b",
   "metadata": {},
   "outputs": [],
   "source": [
    "#dictionary to store the score of each algorthms the algorithsm\n",
    "model_accuracy = {}"
   ]
  },
  {
   "cell_type": "markdown",
   "id": "c6469a4f",
   "metadata": {},
   "source": [
    "#### Function to get best estimator"
   ]
  },
  {
   "cell_type": "code",
   "execution_count": 10,
   "id": "d2e10fa2",
   "metadata": {},
   "outputs": [],
   "source": [
    "#define a method to get best estimater and it scores\n",
    "from sklearn.metrics import f1_score, make_scorer\n",
    "from sklearn.model_selection import GridSearchCV\n",
    "f1 = make_scorer(f1_score, average='micro')\n",
    "cv = KFold(n_splits=5, random_state=None, shuffle=False)\n",
    "def get_best(classifier,grid_param):\n",
    "    gre= GridSearchCV(estimator=classifier,\n",
    "                     param_grid=grid_param,\n",
    "                     scoring=f1,\n",
    "                     cv=cv,\n",
    "                     n_jobs=-1)\n",
    "\n",
    "    gre.fit(X, y)\n",
    "    \n",
    "    return gre.best_estimator_,gre.best_score_"
   ]
  },
  {
   "cell_type": "markdown",
   "id": "adba7e11",
   "metadata": {},
   "source": [
    "### Random Forest Classifier\n",
    "\n",
    "A random forest is a supervised machine learning method built from decision tree techniques. It is used to solve both regression and classification problem. This technique use ensemble learning which combine multiple classifiers to solve complicated problems\n",
    "A random forest is a machine learning approach for solving regression and classification issues. It makes use of ensemble learning, which is a technique that combines multiple classifiers to solve complicated problems.\n",
    "\n",
    "A random forest method is made up of a large number of decision trees. The random forest algorithm’s ‘forest’ is trained via bagging or bootstrap aggregation. Bagging is a meta-algorithm ensemble that increases the accuracy of machine learning algorithms."
   ]
  },
  {
   "cell_type": "code",
   "execution_count": 11,
   "id": "79569bdd",
   "metadata": {},
   "outputs": [],
   "source": [
    "from sklearn.ensemble import RandomForestClassifier \n",
    "\n",
    "classifier = RandomForestClassifier()\n",
    "grid_param = {'criterion':['gini','entropy'],\n",
    "         'n_estimators':[10,15,20,25,30],\n",
    "          'min_samples_leaf':[1,2,3],\n",
    "          'min_samples_split':[3,4,5,6,7],\n",
    "          'max_features': [7,10,15,20],\n",
    "          }"
   ]
  },
  {
   "cell_type": "code",
   "execution_count": 12,
   "id": "8573a674",
   "metadata": {},
   "outputs": [],
   "source": [
    "best_estimator,best_score = get_best(classifier,grid_param)\n",
    "model_accuracy['RandomForest']=best_score"
   ]
  },
  {
   "cell_type": "code",
   "execution_count": 13,
   "id": "2affd393",
   "metadata": {},
   "outputs": [
    {
     "name": "stdout",
     "output_type": "stream",
     "text": [
      "The best estimator:  RandomForestClassifier(criterion='entropy', max_features=15, min_samples_leaf=3,\n",
      "                       min_samples_split=6, n_estimators=30)\n",
      "The best score is 0.91.\n"
     ]
    }
   ],
   "source": [
    "print(\"The best estimator: \", best_estimator)\n",
    "print(\"The best score is {:.2f}.\".format(best_score))"
   ]
  },
  {
   "cell_type": "markdown",
   "id": "6ab7b3e4",
   "metadata": {},
   "source": [
    "### Support Vector Machine\n",
    "Support-vector machines (SVMs) is the supervised learning models with associated learning algorithms that analyze data for classification, regression analysis and outlier detection.\n",
    "\n",
    "The goal of the SVM algorithm is to create the best line or decision boundary that can segregate n-dimensional space into classes so that we can easily put the new data point in the correct category in the future. This best decision boundary is called a hyperplane.\n"
   ]
  },
  {
   "cell_type": "code",
   "execution_count": 14,
   "id": "56c13d21",
   "metadata": {},
   "outputs": [],
   "source": [
    "from sklearn.model_selection import train_test_split,  KFold, cross_val_score, GridSearchCV\n",
    "from sklearn.svm import SVC\n",
    "classifier = SVC()\n",
    "grid_param = {'C': [1,5,10,50,100],\n",
    "              'gamma': [.1,.5,.25,1],\n",
    "             'kernel':['rbf','poly','sigmoid','linear']}"
   ]
  },
  {
   "cell_type": "code",
   "execution_count": 15,
   "id": "e3ef8ad5",
   "metadata": {},
   "outputs": [],
   "source": [
    "best_estimator,best_score = get_best(classifier,grid_param)\n",
    "model_accuracy['SVM']=best_score"
   ]
  },
  {
   "cell_type": "code",
   "execution_count": 18,
   "id": "707a6e3c",
   "metadata": {},
   "outputs": [
    {
     "name": "stdout",
     "output_type": "stream",
     "text": [
      "The best estimator:  SVC(C=1, gamma=0.1, kernel='linear')\n",
      "The best score is 0.97.\n"
     ]
    }
   ],
   "source": [
    "print(\"The best estimator: \", best_estimator)\n",
    "print(\"The best score is {:.2f}.\".format(best_score))"
   ]
  },
  {
   "cell_type": "markdown",
   "id": "92b919dc",
   "metadata": {},
   "source": [
    "### Naive Bayes Classifier\n",
    "A Naive Bayes classifier is a probabilistic machine learning model that’s used for classification task. The crux of the classifier is based on the Bayes theorem. This algorithms work well in the data with gaussian distribution, we assume that the dataset we have is normal distributed.\n"
   ]
  },
  {
   "cell_type": "code",
   "execution_count": 57,
   "id": "461c25e1",
   "metadata": {},
   "outputs": [],
   "source": [
    "from sklearn.naive_bayes import GaussianNB\n",
    "classifier = GaussianNB()\n",
    "grid_param = {'var_smoothing': np.logspace(0,-5, num=5)}"
   ]
  },
  {
   "cell_type": "code",
   "execution_count": 58,
   "id": "7e0b6150",
   "metadata": {},
   "outputs": [],
   "source": [
    "best_estimator,best_score = get_best(classifier,grid_param)\n",
    "model_accuracy['Naive Bayes']= best_score"
   ]
  },
  {
   "cell_type": "code",
   "execution_count": 59,
   "id": "c006c2be",
   "metadata": {},
   "outputs": [
    {
     "name": "stdout",
     "output_type": "stream",
     "text": [
      "The best estimator:  GaussianNB(var_smoothing=1e-05)\n",
      "The best score is 0.80.\n"
     ]
    }
   ],
   "source": [
    "print(\"The best estimator: \", best_estimator)\n",
    "print(\"The best score is {:.2f}.\".format(best_score))"
   ]
  },
  {
   "cell_type": "markdown",
   "id": "59d2708f",
   "metadata": {},
   "source": [
    "### XGBOOST\n",
    "\n",
    "XGBoost, which stands for Extreme Gradient Boosting, is a scalable, distributed gradient-boosted decision tree (GBDT) machine learning library. It provides parallel tree boosting and is the leading machine learning library for regression, classification, and ranking problems."
   ]
  },
  {
   "cell_type": "code",
   "execution_count": 29,
   "id": "d35e5cfe",
   "metadata": {},
   "outputs": [],
   "source": [
    "from xgboost import XGBClassifier\n",
    "classifier = XGBClassifier()\n",
    "grid_param = {\n",
    "    'learning_rate':[0.01],\n",
    "    'n_estimators':[5000],\n",
    "    'max_depth':[4],\n",
    "    'min_child_weight':[6],\n",
    "    'gamma':[0],\n",
    "    'subsample':[0.8],\n",
    "    'colsample_bytree':[0.8],\n",
    "    'reg_alpha':[0.005],\n",
    "    'objective':['binary:logistic'],\n",
    "}"
   ]
  },
  {
   "cell_type": "code",
   "execution_count": 30,
   "id": "ccd5ac38",
   "metadata": {},
   "outputs": [
    {
     "name": "stderr",
     "output_type": "stream",
     "text": [
      "C:\\Users\\ashas\\anaconda3\\lib\\site-packages\\xgboost\\sklearn.py:1224: UserWarning:\n",
      "\n",
      "The use of label encoder in XGBClassifier is deprecated and will be removed in a future release. To remove this warning, do the following: 1) Pass option use_label_encoder=False when constructing XGBClassifier object; and 2) Encode your labels (y) as integers starting with 0, i.e. 0, 1, 2, ..., [num_class - 1].\n",
      "\n"
     ]
    },
    {
     "name": "stdout",
     "output_type": "stream",
     "text": [
      "[16:25:27] WARNING: ..\\src\\learner.cc:1115: Starting in XGBoost 1.3.0, the default evaluation metric used with the objective 'multi:softprob' was changed from 'merror' to 'mlogloss'. Explicitly set eval_metric if you'd like to restore the old behavior.\n"
     ]
    }
   ],
   "source": [
    "best_estimator,best_score = get_best(classifier,grid_param)\n",
    "model_accuracy['XGBOOST']= best_score"
   ]
  },
  {
   "cell_type": "code",
   "execution_count": 31,
   "id": "96a55296",
   "metadata": {},
   "outputs": [
    {
     "name": "stdout",
     "output_type": "stream",
     "text": [
      "The best estimator:  XGBClassifier(base_score=0.5, booster='gbtree', colsample_bylevel=1,\n",
      "              colsample_bynode=1, colsample_bytree=0.8,\n",
      "              enable_categorical=False, gamma=0, gpu_id=-1,\n",
      "              importance_type=None, interaction_constraints='',\n",
      "              learning_rate=0.01, max_delta_step=0, max_depth=4,\n",
      "              min_child_weight=6, missing=nan, monotone_constraints='()',\n",
      "              n_estimators=5000, n_jobs=8, num_parallel_tree=1,\n",
      "              objective='multi:softprob', predictor='auto', random_state=0,\n",
      "              reg_alpha=0.005, reg_lambda=1, scale_pos_weight=None,\n",
      "              subsample=0.8, tree_method='exact', validate_parameters=1,\n",
      "              verbosity=None)\n",
      "The best score is 0.91.\n"
     ]
    }
   ],
   "source": [
    "print(\"The best estimator: \", best_estimator)\n",
    "print(\"The best score is {:.2f}.\".format(best_score))"
   ]
  },
  {
   "cell_type": "markdown",
   "id": "0e1abeb4",
   "metadata": {},
   "source": [
    "### Decision Tree Classifier\n",
    "Decision Tree Classifier is a supervised learning technique that can be used for both classification and Regression problems, but mostly it is preferred for solving Classification problems. It is a tree-structured classifier, where internal nodes represent the features of a dataset, branches represent the decision rules and each leaf node represents the outcome."
   ]
  },
  {
   "cell_type": "code",
   "execution_count": 25,
   "id": "e3664137",
   "metadata": {},
   "outputs": [],
   "source": [
    "from sklearn.tree import DecisionTreeClassifier\n",
    "classifier = DecisionTreeClassifier()\n",
    "grid_param ={\n",
    "    'max_features':['auto','sqrt','log2'],\n",
    "    'min_samples_split':[2,3,4,5,6,7,8,9,10,11,12,13,14,15],\n",
    "    'min_samples_leaf':[1,2,3,4,5,6,7,8,9,10,11],\n",
    "    'random_state':[123],\n",
    "}"
   ]
  },
  {
   "cell_type": "code",
   "execution_count": 26,
   "id": "137a79d9",
   "metadata": {},
   "outputs": [],
   "source": [
    "best_estimator,best_score = get_best(classifier,grid_param)\n",
    "model_accuracy['Decision Tree']= best_score"
   ]
  },
  {
   "cell_type": "code",
   "execution_count": 27,
   "id": "c34895a4",
   "metadata": {},
   "outputs": [
    {
     "name": "stdout",
     "output_type": "stream",
     "text": [
      "The best estimator:  DecisionTreeClassifier(max_features='auto', min_samples_leaf=3,\n",
      "                       min_samples_split=12, random_state=123)\n",
      "The best score is 0.70.\n"
     ]
    }
   ],
   "source": [
    "print(\"The best estimator: \", best_estimator)\n",
    "print(\"The best score is {:.2f}.\".format(best_score))"
   ]
  },
  {
   "cell_type": "markdown",
   "id": "0a808172",
   "metadata": {},
   "source": [
    "#### Best Score Prediction Of Algorithsm"
   ]
  },
  {
   "cell_type": "code",
   "execution_count": 34,
   "id": "662718ed",
   "metadata": {},
   "outputs": [
    {
     "data": {
      "text/plain": [
       "{'RandomForest': 0.9068750000000001,\n",
       " 'SVM': 0.9706250000000001,\n",
       " 'Naive Bayes': 0.8018750000000001,\n",
       " 'XGBOOST': 0.906875,\n",
       " 'Decision Tree': 0.703125}"
      ]
     },
     "execution_count": 34,
     "metadata": {},
     "output_type": "execute_result"
    }
   ],
   "source": [
    "model_accuracy"
   ]
  },
  {
   "cell_type": "code",
   "execution_count": 35,
   "id": "074d23d0",
   "metadata": {},
   "outputs": [
    {
     "data": {
      "text/plain": [
       "Text(0.5, 1.0, 'The Model Perfomance Result Score')"
      ]
     },
     "execution_count": 35,
     "metadata": {},
     "output_type": "execute_result"
    },
    {
     "data": {
      "image/png": "[encoded data removed]",
      "text/plain": [
       "<Figure size 504x504 with 1 Axes>"
      ]
     },
     "metadata": {
      "needs_background": "light"
     },
     "output_type": "display_data"
    }
   ],
   "source": [
    "fig, ax = plt.subplots(figsize=(7,7))\n",
    "models= pd.DataFrame.from_dict(model_accuracy, orient=\"index\").reset_index()\n",
    "plt.title('The Model Perfomance Result Score')\n",
    "models.columns = ['Model','Accuracy']\n",
    "ax = sn.barplot(x=\"Model\", y=\"Accuracy\", data=models, ax=ax)\n",
    "ax.tick_params(axis='x', rotation=45)\n",
    "fig.savefig('Figures/final_model_validator.jpeg')"
   ]
  },
  {
   "cell_type": "markdown",
   "id": "cbd9daac",
   "metadata": {},
   "source": [
    "### 1.2:  Select a winner\n",
    "After doing model validation of different algorithsm now we compare the best scores of all the algorithsm and choose the one with the highest score\n",
    "\n",
    "The figure above show that the highest accuracy model is obtained by Support Vector Machine with the the highest accuracy performance prediction score of approximately 0.97 equivalent to 97% followed by RandomForest with an accuracy of 91%, XGBoost with 91%, Gaussian Naive Bayes with 80% and the last one is Decision Tree with 70% accuracy.\n",
    "\n",
    "Therefore we select Support Vector Machine (SVC) as our final model for prediction the price range of the mobile with paramters configuration of (kernel='linear',gamma=0.1,C=1)\n"
   ]
  },
  {
   "cell_type": "markdown",
   "id": "5e52340e",
   "metadata": {},
   "source": [
    "### Section 2: Build a Final Model & Validation Analysis"
   ]
  },
  {
   "cell_type": "code",
   "execution_count": 190,
   "id": "96b6dd23",
   "metadata": {},
   "outputs": [],
   "source": [
    "SVM = SVC(kernel='linear',gamma=0.1,C=1)"
   ]
  },
  {
   "cell_type": "markdown",
   "id": "93733592",
   "metadata": {},
   "source": [
    "##### Training the Model with All the Features uncomment  the below code"
   ]
  },
  {
   "cell_type": "code",
   "execution_count": 191,
   "id": "55ddcaa6",
   "metadata": {},
   "outputs": [
    {
     "data": {
      "text/plain": [
       "SVC(C=1, gamma=0.1, kernel='linear')"
      ]
     },
     "execution_count": 191,
     "metadata": {},
     "output_type": "execute_result"
    }
   ],
   "source": [
    "#fit model to final training set with\n",
    "#SVM.fit(X_train, y_train)"
   ]
  },
  {
   "cell_type": "markdown",
   "id": "67a70b5c",
   "metadata": {},
   "source": [
    "##### Training the model with 10 best features "
   ]
  },
  {
   "cell_type": "code",
   "execution_count": 206,
   "id": "87ef0da7",
   "metadata": {
    "scrolled": true
   },
   "outputs": [
    {
     "name": "stdout",
     "output_type": "stream",
     "text": [
      "(1072, 10)\n"
     ]
    }
   ],
   "source": [
    "fs = SelectKBest(score_func=chi2, k=10)\n",
    "# apply feature selection\n",
    "X_selected = fs.fit_transform(X_train, y_train)\n",
    "print(X_selected.shape)\n"
   ]
  },
  {
   "cell_type": "code",
   "execution_count": 207,
   "id": "1deea891",
   "metadata": {},
   "outputs": [
    {
     "data": {
      "text/plain": [
       "SVC(C=1, gamma=0.1, kernel='linear')"
      ]
     },
     "execution_count": 207,
     "metadata": {},
     "output_type": "execute_result"
    }
   ],
   "source": [
    "#fit the model with 10 best features\n",
    "SVM.fit(X_train, y_train)"
   ]
  },
  {
   "cell_type": "code",
   "execution_count": 208,
   "id": "07aa0ecf",
   "metadata": {},
   "outputs": [],
   "source": [
    "#predict the price\n",
    "y_pred  = SVM.predict(X_test)"
   ]
  },
  {
   "cell_type": "markdown",
   "id": "ed167735",
   "metadata": {},
   "source": [
    "#### 2.1 Estimate Predictive Error"
   ]
  },
  {
   "cell_type": "code",
   "execution_count": 209,
   "id": "393aaf2c",
   "metadata": {},
   "outputs": [
    {
     "name": "stdout",
     "output_type": "stream",
     "text": [
      "Mean_Squared_Error :0.04\n",
      "r_square_value :0.97\n"
     ]
    }
   ],
   "source": [
    "from sklearn.metrics import mean_squared_error, r2_score\n",
    "\n",
    "mse = mean_squared_error(y_test, y_pred)\n",
    "r_squared = r2_score(y_test, y_pred)\n",
    "\n",
    "print('Mean_Squared_Error :{:.2f}'.format(mse))\n",
    "print('r_square_value :{:.2f}'.format(r_squared))"
   ]
  },
  {
   "cell_type": "markdown",
   "id": "6ab58a88",
   "metadata": {},
   "source": [
    "#### 2.2  Classification Report"
   ]
  },
  {
   "cell_type": "code",
   "execution_count": 210,
   "id": "7e43946e",
   "metadata": {},
   "outputs": [
    {
     "name": "stdout",
     "output_type": "stream",
     "text": [
      "Prediction Accuracy Score 0.96.\n"
     ]
    },
    {
     "data": {
      "text/html": [
       "<div>\n",
       "<style scoped>\n",
       "    .dataframe tbody tr th:only-of-type {\n",
       "        vertical-align: middle;\n",
       "    }\n",
       "\n",
       "    .dataframe tbody tr th {\n",
       "        vertical-align: top;\n",
       "    }\n",
       "\n",
       "    .dataframe thead th {\n",
       "        text-align: right;\n",
       "    }\n",
       "</style>\n",
       "<table border=\"1\" class=\"dataframe\">\n",
       "  <thead>\n",
       "    <tr style=\"text-align: right;\">\n",
       "      <th></th>\n",
       "      <th>precision</th>\n",
       "      <th>recall</th>\n",
       "      <th>f1-score</th>\n",
       "      <th>support</th>\n",
       "    </tr>\n",
       "  </thead>\n",
       "  <tbody>\n",
       "    <tr>\n",
       "      <th>0</th>\n",
       "      <td>0.977</td>\n",
       "      <td>0.969</td>\n",
       "      <td>0.973</td>\n",
       "      <td>129.000</td>\n",
       "    </tr>\n",
       "    <tr>\n",
       "      <th>1</th>\n",
       "      <td>0.926</td>\n",
       "      <td>0.969</td>\n",
       "      <td>0.947</td>\n",
       "      <td>130.000</td>\n",
       "    </tr>\n",
       "    <tr>\n",
       "      <th>2</th>\n",
       "      <td>0.977</td>\n",
       "      <td>0.912</td>\n",
       "      <td>0.943</td>\n",
       "      <td>137.000</td>\n",
       "    </tr>\n",
       "    <tr>\n",
       "      <th>3</th>\n",
       "      <td>0.956</td>\n",
       "      <td>0.985</td>\n",
       "      <td>0.970</td>\n",
       "      <td>132.000</td>\n",
       "    </tr>\n",
       "    <tr>\n",
       "      <th>accuracy</th>\n",
       "      <td>0.958</td>\n",
       "      <td>0.958</td>\n",
       "      <td>0.958</td>\n",
       "      <td>0.958</td>\n",
       "    </tr>\n",
       "    <tr>\n",
       "      <th>macro avg</th>\n",
       "      <td>0.959</td>\n",
       "      <td>0.959</td>\n",
       "      <td>0.958</td>\n",
       "      <td>528.000</td>\n",
       "    </tr>\n",
       "    <tr>\n",
       "      <th>weighted avg</th>\n",
       "      <td>0.959</td>\n",
       "      <td>0.958</td>\n",
       "      <td>0.958</td>\n",
       "      <td>528.000</td>\n",
       "    </tr>\n",
       "  </tbody>\n",
       "</table>\n",
       "</div>"
      ],
      "text/plain": [
       "              precision  recall  f1-score  support\n",
       "0                 0.977   0.969     0.973  129.000\n",
       "1                 0.926   0.969     0.947  130.000\n",
       "2                 0.977   0.912     0.943  137.000\n",
       "3                 0.956   0.985     0.970  132.000\n",
       "accuracy          0.958   0.958     0.958    0.958\n",
       "macro avg         0.959   0.959     0.958  528.000\n",
       "weighted avg      0.959   0.958     0.958  528.000"
      ]
     },
     "execution_count": 210,
     "metadata": {},
     "output_type": "execute_result"
    }
   ],
   "source": [
    "print('Prediction Accuracy Score {:.2f}.'.format(accuracy_score(y_test,y_pred)))\n",
    "clax_report = classification_report(y_test,y_pred,output_dict=True)\n",
    "report_df = pd.DataFrame(clax_report).transpose()\n",
    "report_df\n"
   ]
  },
  {
   "cell_type": "markdown",
   "id": "9f3501f4",
   "metadata": {},
   "source": [
    "#### 2.3 Confusion Matrix"
   ]
  },
  {
   "cell_type": "code",
   "execution_count": 211,
   "id": "bcdcdea9",
   "metadata": {},
   "outputs": [
    {
     "data": {
      "text/plain": [
       "<AxesSubplot:>"
      ]
     },
     "execution_count": 211,
     "metadata": {},
     "output_type": "execute_result"
    },
    {
     "data": {
      "text/plain": [
       "Text(0.5, 42.0, 'Predicted Values')"
      ]
     },
     "execution_count": 211,
     "metadata": {},
     "output_type": "execute_result"
    },
    {
     "data": {
      "text/plain": [
       "Text(42.0, 0.5, 'Actual Values')"
      ]
     },
     "execution_count": 211,
     "metadata": {},
     "output_type": "execute_result"
    },
    {
     "data": {
      "text/plain": [
       "Text(0.5, 1.0, 'Accuracy Prediction Score During Training 0.96 ')"
      ]
     },
     "execution_count": 211,
     "metadata": {},
     "output_type": "execute_result"
    },
    {
     "data": {
      "image/png": "[encoded data removed]",
      "text/plain": [
       "<Figure size 504x504 with 2 Axes>"
      ]
     },
     "metadata": {
      "needs_background": "light"
     },
     "output_type": "display_data"
    }
   ],
   "source": [
    "cm = confusion_matrix(y_test,y_pred)\n",
    "f, ax = plt.subplots(figsize=(7,7))\n",
    "sn.heatmap(cm, annot=True, fmt='d', ax=ax)\n",
    "plt.xlabel('Predicted Values')\n",
    "plt.ylabel('Actual Values')\n",
    "plt.title('Accuracy Prediction Score During Training {:.2f} '.format(accuracy_score(y_test,y_pred)))\n",
    "plt.show()\n",
    "f.savefig('Figures/confusion_svc.jpeg')"
   ]
  },
  {
   "cell_type": "markdown",
   "id": "a36f455b",
   "metadata": {},
   "source": [
    "### Section 3: Prediction Analysis\n",
    "Now we will use our final model to predict the price range using test data (unseen data) and evaluate it performance"
   ]
  },
  {
   "cell_type": "markdown",
   "id": "b6d92123",
   "metadata": {},
   "source": [
    "#### 3.1 Data Pipeline"
   ]
  },
  {
   "cell_type": "code",
   "execution_count": 223,
   "id": "99271919",
   "metadata": {},
   "outputs": [
    {
     "data": {
      "text/plain": [
       "(400, 21)"
      ]
     },
     "execution_count": 223,
     "metadata": {},
     "output_type": "execute_result"
    }
   ],
   "source": [
    "#load the testing data\n",
    "data = read_csv(\"Data/clean_test.csv\", header=0, delimiter=',')\n",
    "data.shape"
   ]
  },
  {
   "cell_type": "code",
   "execution_count": 224,
   "id": "bbfd6ed8",
   "metadata": {
    "scrolled": true
   },
   "outputs": [],
   "source": [
    "#separet the data featured and target variables\n",
    "X_test2 = data.loc[:,data.columns != 'price_range']\n",
    "y_act = data ['price_range']"
   ]
  },
  {
   "cell_type": "code",
   "execution_count": 225,
   "id": "1488dd6e",
   "metadata": {
    "scrolled": true
   },
   "outputs": [
    {
     "data": {
      "text/plain": [
       "(400, 20)"
      ]
     },
     "execution_count": 225,
     "metadata": {},
     "output_type": "execute_result"
    }
   ],
   "source": [
    "X_test2.shape"
   ]
  },
  {
   "cell_type": "markdown",
   "id": "7af91e84",
   "metadata": {},
   "source": [
    "#### 3.2 Predict the mobile price range\n",
    "Here we will use the intitial trained SVC model which is trained with 20 features to predict the final price range of the phone."
   ]
  },
  {
   "cell_type": "code",
   "execution_count": 226,
   "id": "7effd9b9",
   "metadata": {},
   "outputs": [],
   "source": [
    "#predicted price range\n",
    "y_pred  = SVM.predict(X_test2)"
   ]
  },
  {
   "cell_type": "code",
   "execution_count": 227,
   "id": "f96cbfc6",
   "metadata": {},
   "outputs": [
    {
     "data": {
      "text/plain": [
       "array([2, 0, 1, 2, 0, 1, 0, 0, 0, 1, 3, 2, 3, 3, 1, 3, 2, 2, 0, 2, 3, 3,\n",
       "       0, 0, 3, 0, 0, 2, 1, 2, 0, 1, 1, 3, 3, 3, 3, 0, 1, 1, 3, 0, 3, 1,\n",
       "       0, 2, 1, 0, 2, 0, 1, 0, 0, 0, 3, 0, 0, 3, 1, 2, 0, 2, 2, 1, 2, 0,\n",
       "       1, 1, 0, 3, 1, 0, 3, 2, 0, 0, 3, 2, 0, 2, 2, 0, 0, 2, 2, 3, 0, 1,\n",
       "       2, 1, 2, 3, 0, 2, 0, 0, 1, 2, 0, 1, 0, 0, 3, 2, 3, 0, 0, 3, 2, 3,\n",
       "       3, 3, 0, 2, 1, 1, 3, 0, 0, 1, 3, 0, 0, 3, 0, 2, 3, 3, 0, 3, 3, 1,\n",
       "       3, 1, 3, 1, 1, 3, 1, 2, 1, 2, 2, 2, 0, 0, 1, 3, 0, 3, 1, 3, 2, 3,\n",
       "       2, 2, 3, 3, 2, 2, 2, 3, 0, 2, 1, 3, 2, 2, 1, 0, 1, 3, 0, 1, 1, 1,\n",
       "       2, 1, 1, 0, 3, 2, 2, 2, 2, 1, 0, 0, 0, 2, 0, 0, 1, 2, 2, 3, 1, 3,\n",
       "       3, 2, 0, 2, 1, 3, 1, 3, 3, 1, 1, 1, 3, 0, 0, 3, 3, 2, 2, 2, 2, 0,\n",
       "       2, 0, 2, 2, 1, 1, 2, 3, 1, 3, 1, 0, 1, 3, 0, 3, 3, 2, 2, 3, 1, 1,\n",
       "       1, 2, 3, 1, 0, 1, 3, 1, 0, 2, 0, 1, 3, 0, 0, 2, 1, 1, 1, 1, 1, 3,\n",
       "       2, 2, 1, 0, 1, 3, 0, 2, 3, 0, 2, 1, 2, 3, 3, 2, 0, 0, 1, 1, 3, 0,\n",
       "       1, 1, 1, 0, 2, 0, 1, 2, 2, 3, 3, 1, 1, 3, 3, 3, 1, 3, 0, 2, 2, 2,\n",
       "       2, 2, 2, 2, 3, 3, 3, 2, 3, 0, 3, 3, 1, 3, 3, 2, 3, 0, 0, 0, 0, 2,\n",
       "       1, 3, 0, 1, 1, 1, 2, 2, 2, 3, 1, 3, 2, 1, 0, 0, 3, 3, 3, 3, 0, 3,\n",
       "       0, 1, 2, 3, 3, 0, 1, 2, 3, 1, 3, 3, 1, 0, 1, 0, 1, 0, 2, 0, 2, 2,\n",
       "       3, 0, 0, 1, 3, 0, 3, 0, 3, 1, 1, 2, 2, 2, 1, 1, 0, 1, 1, 0, 2, 2,\n",
       "       0, 1, 0, 1], dtype=int64)"
      ]
     },
     "execution_count": 227,
     "metadata": {},
     "output_type": "execute_result"
    }
   ],
   "source": [
    "y_pred"
   ]
  },
  {
   "cell_type": "markdown",
   "id": "4afdc750",
   "metadata": {},
   "source": [
    "#### 3.3 Performing  Error Prediction Check\n",
    "In this section we will look how our model have predicted well for unseen, therefore we will check the results of prediction columns and the one with the original price and fiter out those with incorrectly label"
   ]
  },
  {
   "cell_type": "code",
   "execution_count": 228,
   "id": "6c6586ed",
   "metadata": {},
   "outputs": [
    {
     "name": "stdout",
     "output_type": "stream",
     "text": [
      "Prediction Accuracy Score 0.98.\n"
     ]
    },
    {
     "data": {
      "text/html": [
       "<div>\n",
       "<style scoped>\n",
       "    .dataframe tbody tr th:only-of-type {\n",
       "        vertical-align: middle;\n",
       "    }\n",
       "\n",
       "    .dataframe tbody tr th {\n",
       "        vertical-align: top;\n",
       "    }\n",
       "\n",
       "    .dataframe thead th {\n",
       "        text-align: right;\n",
       "    }\n",
       "</style>\n",
       "<table border=\"1\" class=\"dataframe\">\n",
       "  <thead>\n",
       "    <tr style=\"text-align: right;\">\n",
       "      <th></th>\n",
       "      <th>precision</th>\n",
       "      <th>recall</th>\n",
       "      <th>f1-score</th>\n",
       "      <th>support</th>\n",
       "    </tr>\n",
       "  </thead>\n",
       "  <tbody>\n",
       "    <tr>\n",
       "      <th>0</th>\n",
       "      <td>0.980</td>\n",
       "      <td>1.000</td>\n",
       "      <td>0.990</td>\n",
       "      <td>100.000</td>\n",
       "    </tr>\n",
       "    <tr>\n",
       "      <th>1</th>\n",
       "      <td>0.980</td>\n",
       "      <td>0.970</td>\n",
       "      <td>0.975</td>\n",
       "      <td>100.000</td>\n",
       "    </tr>\n",
       "    <tr>\n",
       "      <th>2</th>\n",
       "      <td>0.990</td>\n",
       "      <td>0.960</td>\n",
       "      <td>0.975</td>\n",
       "      <td>100.000</td>\n",
       "    </tr>\n",
       "    <tr>\n",
       "      <th>3</th>\n",
       "      <td>0.980</td>\n",
       "      <td>1.000</td>\n",
       "      <td>0.990</td>\n",
       "      <td>100.000</td>\n",
       "    </tr>\n",
       "    <tr>\n",
       "      <th>accuracy</th>\n",
       "      <td>0.983</td>\n",
       "      <td>0.983</td>\n",
       "      <td>0.983</td>\n",
       "      <td>0.983</td>\n",
       "    </tr>\n",
       "    <tr>\n",
       "      <th>macro avg</th>\n",
       "      <td>0.983</td>\n",
       "      <td>0.982</td>\n",
       "      <td>0.982</td>\n",
       "      <td>400.000</td>\n",
       "    </tr>\n",
       "    <tr>\n",
       "      <th>weighted avg</th>\n",
       "      <td>0.983</td>\n",
       "      <td>0.983</td>\n",
       "      <td>0.982</td>\n",
       "      <td>400.000</td>\n",
       "    </tr>\n",
       "  </tbody>\n",
       "</table>\n",
       "</div>"
      ],
      "text/plain": [
       "              precision  recall  f1-score  support\n",
       "0                 0.980   1.000     0.990  100.000\n",
       "1                 0.980   0.970     0.975  100.000\n",
       "2                 0.990   0.960     0.975  100.000\n",
       "3                 0.980   1.000     0.990  100.000\n",
       "accuracy          0.983   0.983     0.983    0.983\n",
       "macro avg         0.983   0.982     0.982  400.000\n",
       "weighted avg      0.983   0.983     0.982  400.000"
      ]
     },
     "execution_count": 228,
     "metadata": {},
     "output_type": "execute_result"
    }
   ],
   "source": [
    "print('Prediction Accuracy Score {:.2f}.'.format(accuracy_score(y_act,y_pred)))\n",
    "clax_report = classification_report(y_act,y_pred,output_dict=True)\n",
    "report_df = pd.DataFrame(clax_report).transpose()\n",
    "report_df"
   ]
  },
  {
   "cell_type": "code",
   "execution_count": 229,
   "id": "b4b048b6",
   "metadata": {},
   "outputs": [
    {
     "data": {
      "text/plain": [
       "<AxesSubplot:>"
      ]
     },
     "execution_count": 229,
     "metadata": {},
     "output_type": "execute_result"
    },
    {
     "data": {
      "text/plain": [
       "Text(0.5, 42.0, 'Predicted Values')"
      ]
     },
     "execution_count": 229,
     "metadata": {},
     "output_type": "execute_result"
    },
    {
     "data": {
      "text/plain": [
       "Text(42.0, 0.5, 'Actual Values')"
      ]
     },
     "execution_count": 229,
     "metadata": {},
     "output_type": "execute_result"
    },
    {
     "data": {
      "text/plain": [
       "Text(0.5, 1.0, 'Accuracy Prediction Score of the Final Test 0.98 ')"
      ]
     },
     "execution_count": 229,
     "metadata": {},
     "output_type": "execute_result"
    },
    {
     "data": {
      "image/png": "[encoded data removed]",
      "text/plain": [
       "<Figure size 504x504 with 2 Axes>"
      ]
     },
     "metadata": {
      "needs_background": "light"
     },
     "output_type": "display_data"
    }
   ],
   "source": [
    "cm = confusion_matrix(y_act,y_pred)\n",
    "f, ax = plt.subplots(figsize=(7,7))\n",
    "sn.heatmap(cm, annot=True, fmt='d', ax=ax)\n",
    "plt.xlabel('Predicted Values')\n",
    "plt.ylabel('Actual Values')\n",
    "plt.title('Accuracy Prediction Score of the Final Test {:.2f} '.format(accuracy_score(y_act,y_pred)))\n",
    "plt.show()\n",
    "f.savefig('Figures/svc_final_test.jpeg')"
   ]
  },
  {
   "cell_type": "markdown",
   "id": "9df64b03",
   "metadata": {},
   "source": [
    "#### Results\n",
    "The results show that our model predict the price range of the phome with the accuracy of 98%\n",
    "The total number of observations tested are 400 with equally distribution of 100 samples per each class.\n",
    "\n",
    "The model predict well in class 0 (low cost price) and class 3 (very highest cost) in which all sample were correctly classified, the model did not predict well in class 1(medium cost) and class 2(hight cost), this is actually because most of the features in this two classes are related. In class (1 ) 94 observation were predicted correctly while 2 observations were predicted in class (0) and the remaining 4 predicted in class 2. And in the class (2) 97 obseravtions were predicted correctly, 2 observations predicted in class (1) and the remaining 1 is predicted in class (3)\n",
    "\n",
    "In general we can conclude that the prediction performance of our model is quite good. "
   ]
  },
  {
   "cell_type": "code",
   "execution_count": 230,
   "id": "588ce54a",
   "metadata": {},
   "outputs": [],
   "source": [
    "data['predicted_price_range']=y_pred"
   ]
  },
  {
   "cell_type": "markdown",
   "id": "979dbaaf",
   "metadata": {},
   "source": [
    "#### List of samples that are incorrectly classified!"
   ]
  },
  {
   "cell_type": "code",
   "execution_count": 231,
   "id": "9fadfb90",
   "metadata": {},
   "outputs": [
    {
     "data": {
      "text/html": [
       "<div>\n",
       "<style scoped>\n",
       "    .dataframe tbody tr th:only-of-type {\n",
       "        vertical-align: middle;\n",
       "    }\n",
       "\n",
       "    .dataframe tbody tr th {\n",
       "        vertical-align: top;\n",
       "    }\n",
       "\n",
       "    .dataframe thead th {\n",
       "        text-align: right;\n",
       "    }\n",
       "</style>\n",
       "<table border=\"1\" class=\"dataframe\">\n",
       "  <thead>\n",
       "    <tr style=\"text-align: right;\">\n",
       "      <th></th>\n",
       "      <th>battery_power</th>\n",
       "      <th>blue</th>\n",
       "      <th>clock_speed</th>\n",
       "      <th>dual_sim</th>\n",
       "      <th>fc</th>\n",
       "      <th>four_g</th>\n",
       "      <th>int_memory</th>\n",
       "      <th>m_dep</th>\n",
       "      <th>mobile_wt</th>\n",
       "      <th>n_cores</th>\n",
       "      <th>...</th>\n",
       "      <th>px_width</th>\n",
       "      <th>ram</th>\n",
       "      <th>sc_h</th>\n",
       "      <th>sc_w</th>\n",
       "      <th>talk_time</th>\n",
       "      <th>three_g</th>\n",
       "      <th>touch_screen</th>\n",
       "      <th>wifi</th>\n",
       "      <th>price_range</th>\n",
       "      <th>predicted_price_range</th>\n",
       "    </tr>\n",
       "  </thead>\n",
       "  <tbody>\n",
       "    <tr>\n",
       "      <th>26</th>\n",
       "      <td>1731</td>\n",
       "      <td>1</td>\n",
       "      <td>2.3</td>\n",
       "      <td>1</td>\n",
       "      <td>5.0</td>\n",
       "      <td>0</td>\n",
       "      <td>60</td>\n",
       "      <td>0.5</td>\n",
       "      <td>171</td>\n",
       "      <td>4</td>\n",
       "      <td>...</td>\n",
       "      <td>1039</td>\n",
       "      <td>1220</td>\n",
       "      <td>9</td>\n",
       "      <td>3.0</td>\n",
       "      <td>20</td>\n",
       "      <td>0</td>\n",
       "      <td>1</td>\n",
       "      <td>0</td>\n",
       "      <td>1</td>\n",
       "      <td>0</td>\n",
       "    </tr>\n",
       "    <tr>\n",
       "      <th>147</th>\n",
       "      <td>1583</td>\n",
       "      <td>0</td>\n",
       "      <td>1.2</td>\n",
       "      <td>1</td>\n",
       "      <td>2.0</td>\n",
       "      <td>0</td>\n",
       "      <td>14</td>\n",
       "      <td>0.2</td>\n",
       "      <td>148</td>\n",
       "      <td>2</td>\n",
       "      <td>...</td>\n",
       "      <td>1673</td>\n",
       "      <td>2498</td>\n",
       "      <td>13</td>\n",
       "      <td>6.0</td>\n",
       "      <td>8</td>\n",
       "      <td>0</td>\n",
       "      <td>0</td>\n",
       "      <td>1</td>\n",
       "      <td>2</td>\n",
       "      <td>3</td>\n",
       "    </tr>\n",
       "    <tr>\n",
       "      <th>185</th>\n",
       "      <td>1476</td>\n",
       "      <td>1</td>\n",
       "      <td>1.2</td>\n",
       "      <td>1</td>\n",
       "      <td>5.0</td>\n",
       "      <td>1</td>\n",
       "      <td>55</td>\n",
       "      <td>0.1</td>\n",
       "      <td>171</td>\n",
       "      <td>4</td>\n",
       "      <td>...</td>\n",
       "      <td>1666</td>\n",
       "      <td>1529</td>\n",
       "      <td>13</td>\n",
       "      <td>8.0</td>\n",
       "      <td>3</td>\n",
       "      <td>1</td>\n",
       "      <td>0</td>\n",
       "      <td>1</td>\n",
       "      <td>2</td>\n",
       "      <td>1</td>\n",
       "    </tr>\n",
       "    <tr>\n",
       "      <th>300</th>\n",
       "      <td>633</td>\n",
       "      <td>1</td>\n",
       "      <td>2.2</td>\n",
       "      <td>0</td>\n",
       "      <td>9.0</td>\n",
       "      <td>1</td>\n",
       "      <td>49</td>\n",
       "      <td>0.1</td>\n",
       "      <td>139</td>\n",
       "      <td>8</td>\n",
       "      <td>...</td>\n",
       "      <td>1009</td>\n",
       "      <td>3560</td>\n",
       "      <td>11</td>\n",
       "      <td>1.0</td>\n",
       "      <td>16</td>\n",
       "      <td>1</td>\n",
       "      <td>1</td>\n",
       "      <td>1</td>\n",
       "      <td>2</td>\n",
       "      <td>3</td>\n",
       "    </tr>\n",
       "    <tr>\n",
       "      <th>379</th>\n",
       "      <td>1744</td>\n",
       "      <td>1</td>\n",
       "      <td>1.0</td>\n",
       "      <td>0</td>\n",
       "      <td>1.0</td>\n",
       "      <td>1</td>\n",
       "      <td>20</td>\n",
       "      <td>0.5</td>\n",
       "      <td>112</td>\n",
       "      <td>8</td>\n",
       "      <td>...</td>\n",
       "      <td>718</td>\n",
       "      <td>1205</td>\n",
       "      <td>18</td>\n",
       "      <td>7.0</td>\n",
       "      <td>14</td>\n",
       "      <td>1</td>\n",
       "      <td>0</td>\n",
       "      <td>0</td>\n",
       "      <td>1</td>\n",
       "      <td>0</td>\n",
       "    </tr>\n",
       "    <tr>\n",
       "      <th>394</th>\n",
       "      <td>1885</td>\n",
       "      <td>0</td>\n",
       "      <td>2.4</td>\n",
       "      <td>1</td>\n",
       "      <td>12.0</td>\n",
       "      <td>1</td>\n",
       "      <td>14</td>\n",
       "      <td>0.6</td>\n",
       "      <td>92</td>\n",
       "      <td>4</td>\n",
       "      <td>...</td>\n",
       "      <td>1517</td>\n",
       "      <td>1277</td>\n",
       "      <td>9</td>\n",
       "      <td>6.0</td>\n",
       "      <td>16</td>\n",
       "      <td>1</td>\n",
       "      <td>0</td>\n",
       "      <td>1</td>\n",
       "      <td>1</td>\n",
       "      <td>2</td>\n",
       "    </tr>\n",
       "    <tr>\n",
       "      <th>397</th>\n",
       "      <td>645</td>\n",
       "      <td>0</td>\n",
       "      <td>0.5</td>\n",
       "      <td>0</td>\n",
       "      <td>1.0</td>\n",
       "      <td>0</td>\n",
       "      <td>41</td>\n",
       "      <td>1.0</td>\n",
       "      <td>197</td>\n",
       "      <td>7</td>\n",
       "      <td>...</td>\n",
       "      <td>580</td>\n",
       "      <td>2962</td>\n",
       "      <td>12</td>\n",
       "      <td>9.0</td>\n",
       "      <td>4</td>\n",
       "      <td>1</td>\n",
       "      <td>1</td>\n",
       "      <td>1</td>\n",
       "      <td>2</td>\n",
       "      <td>1</td>\n",
       "    </tr>\n",
       "  </tbody>\n",
       "</table>\n",
       "<p>7 rows × 22 columns</p>\n",
       "</div>"
      ],
      "text/plain": [
       "     battery_power  blue  clock_speed  dual_sim    fc  four_g  int_memory  \\\n",
       "26            1731     1          2.3         1   5.0       0          60   \n",
       "147           1583     0          1.2         1   2.0       0          14   \n",
       "185           1476     1          1.2         1   5.0       1          55   \n",
       "300            633     1          2.2         0   9.0       1          49   \n",
       "379           1744     1          1.0         0   1.0       1          20   \n",
       "394           1885     0          2.4         1  12.0       1          14   \n",
       "397            645     0          0.5         0   1.0       0          41   \n",
       "\n",
       "     m_dep  mobile_wt  n_cores  ...  px_width   ram  sc_h  sc_w  talk_time  \\\n",
       "26     0.5        171        4  ...      1039  1220     9   3.0         20   \n",
       "147    0.2        148        2  ...      1673  2498    13   6.0          8   \n",
       "185    0.1        171        4  ...      1666  1529    13   8.0          3   \n",
       "300    0.1        139        8  ...      1009  3560    11   1.0         16   \n",
       "379    0.5        112        8  ...       718  1205    18   7.0         14   \n",
       "394    0.6         92        4  ...      1517  1277     9   6.0         16   \n",
       "397    1.0        197        7  ...       580  2962    12   9.0          4   \n",
       "\n",
       "     three_g  touch_screen  wifi  price_range  predicted_price_range  \n",
       "26         0             1     0            1                      0  \n",
       "147        0             0     1            2                      3  \n",
       "185        1             0     1            2                      1  \n",
       "300        1             1     1            2                      3  \n",
       "379        1             0     0            1                      0  \n",
       "394        1             0     1            1                      2  \n",
       "397        1             1     1            2                      1  \n",
       "\n",
       "[7 rows x 22 columns]"
      ]
     },
     "execution_count": 231,
     "metadata": {},
     "output_type": "execute_result"
    }
   ],
   "source": [
    "data[data['price_range']!=data['predicted_price_range']]"
   ]
  },
  {
   "cell_type": "markdown",
   "id": "2fef3e55",
   "metadata": {},
   "source": [
    "##### Save file"
   ]
  },
  {
   "cell_type": "code",
   "execution_count": 232,
   "id": "d4c22c1a",
   "metadata": {},
   "outputs": [],
   "source": [
    "#save the results\n",
    "data.to_csv('Data/predicted_price_range.csv',index=False)"
   ]
  },
  {
   "cell_type": "markdown",
   "id": "76b83fb3",
   "metadata": {},
   "source": [
    "### Conclusion\n",
    "\n",
    "Supper Vector Machine is the final chosen algorithm among all the other classification models, SVM got the highest accuracy performance prediction score of approximately 0.97 equivalent to 97% followed by RandomForest with an accuracy of 91%, XGBoost with 90%, Gaussian Naive Bayes with 81% and the last one is Decision Tree with 70% accuracy.\n",
    "\n",
    "The configuration paramters of (kernel='linear',gamma=0.1,C=1)\n",
    "Mean_Squared_Error : 0.03977272727272727\n"
   ]
  },
  {
   "cell_type": "code",
   "execution_count": null,
   "id": "474f8997",
   "metadata": {},
   "outputs": [],
   "source": []
  }
 ],
 "metadata": {
  "kernelspec": {
   "display_name": "Python 3",
   "language": "python",
   "name": "python3"
  },
  "language_info": {
   "codemirror_mode": {
    "name": "ipython",
    "version": 3
   },
   "file_extension": ".py",
   "mimetype": "text/x-python",
   "name": "python",
   "nbconvert_exporter": "python",
   "pygments_lexer": "ipython3",
   "version": "3.8.8"
  }
 },
 "nbformat": 4,
 "nbformat_minor": 5
}
