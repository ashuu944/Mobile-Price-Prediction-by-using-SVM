{
 "cells": [
  {
   "cell_type": "markdown",
   "id": "d3d7d468",
   "metadata": {},
   "source": [
    "# Model Training, Prediction & Analysis\n",
    "\n",
    "Model training in machine language is the process of feeding an ML algorithm with data to help identify and learn good values for all attributes involved. There are several types of machine learning models, of which the most common ones are supervised and unsupervised learning. According to the nature of our problem and the dataset the learning algorithm will be Supervised machine learning. \n",
    "\n",
    "Five (5) classification algorithm will be use\n",
    "\n",
    "1. RandomForest Classifier\n",
    "\n",
    "2. Support Vector Machine\n",
    "\n",
    "3. Naive Bayes\n",
    "\n",
    "4. XBoost\n",
    "\n",
    "5. DecisionTree Classifier\n",
    "\n",
    "We will train all the five algorithms and compare the accuracy of prediction among them and then select the best algorithms with high accuracy prediction as our final algorithms for mobile price range prediction.\n",
    " \n"
   ]
  },
  {
   "cell_type": "markdown",
   "id": "37f4d2a0",
   "metadata": {},
   "source": [
    "After doing preprocessing to our dataset now we want to build our machine learning model to predict the price range of phone based on its features."
   ]
  },
  {
   "cell_type": "code",
   "execution_count": 3,
   "id": "42b5e7de",
   "metadata": {},
   "outputs": [],
   "source": [
    "%load_ext autoreload\n",
    "#hide warnings\n",
    "import warnings\n",
    "warnings.filterwarnings('ignore')"
   ]
  },
  {
   "cell_type": "code",
   "execution_count": 4,
   "id": "a74f8b88",
   "metadata": {},
   "outputs": [],
   "source": [
    "#import libraries\n",
    "import numpy as np\n",
    "import matplotlib.pyplot as plt\n",
    "import seaborn as sn\n",
    "import pandas as pd\n",
    "from collections import Counter\n",
    "from IPython.core.interactiveshell import InteractiveShell\n",
    "InteractiveShell.ast_node_interactivity = \"all\"\n",
    "pd.set_option('precision', 3)\n"
   ]
  },
  {
   "cell_type": "code",
   "execution_count": 5,
   "id": "99363409",
   "metadata": {},
   "outputs": [],
   "source": [
    "# extra imports\n",
    "from pandas import read_csv\n",
    "import plotly.express as px\n",
    "from plotly.offline import plot, iplot, init_notebook_mode\n",
    "\n",
    "\n",
    "#library for visualization\n",
    "from pandas.plotting import scatter_matrix\n",
    "from scipy.stats import boxcox\n",
    "from matplotlib.pyplot import figure\n",
    "\n",
    "#models \n",
    "from scipy import stats\n",
    "import statsmodels.api as sm\n",
    "from sklearn.model_selection import train_test_split,  KFold, cross_val_score, GridSearchCV\n",
    "from sklearn.metrics import mean_squared_error, r2_score, classification_report, confusion_matrix, accuracy_score\n",
    "from sklearn.metrics import ConfusionMatrixDisplay\n",
    "from sklearn.feature_selection import SelectKBest, chi2\n",
    "from sklearn.ensemble import ExtraTreesClassifier , GradientBoostingClassifier , RandomForestClassifier  \n",
    "from sklearn.neighbors import KNeighborsClassifier\n",
    "from sklearn.tree import DecisionTreeClassifier\n",
    "from sklearn.naive_bayes import GaussianNB\n",
    "from sklearn.svm import SVC\n",
    "from xgboost import XGBClassifier\n"
   ]
  },
  {
   "cell_type": "markdown",
   "id": "98aa2269",
   "metadata": {},
   "source": [
    "## Section 1: Reading the file"
   ]
  },
  {
   "cell_type": "markdown",
   "id": "ebbc5460",
   "metadata": {},
   "source": [
    "Here we are reading the .csv of the preprocessed file, we use the file which is already clean and therefore we will not do any data preprocessing work."
   ]
  },
  {
   "cell_type": "code",
   "execution_count": 6,
   "id": "9ca66492",
   "metadata": {},
   "outputs": [
    {
     "data": {
      "text/plain": [
       "(1600, 21)"
      ]
     },
     "execution_count": 6,
     "metadata": {},
     "output_type": "execute_result"
    }
   ],
   "source": [
    "mobile = read_csv(\"Data/cleaned_dataset.csv\", header=0, delimiter=',')\n",
    "mobile.shape"
   ]
  },
  {
   "cell_type": "code",
   "execution_count": 7,
   "id": "24b32cbe",
   "metadata": {},
   "outputs": [
    {
     "data": {
      "text/html": [
       "<div>\n",
       "<style scoped>\n",
       "    .dataframe tbody tr th:only-of-type {\n",
       "        vertical-align: middle;\n",
       "    }\n",
       "\n",
       "    .dataframe tbody tr th {\n",
       "        vertical-align: top;\n",
       "    }\n",
       "\n",
       "    .dataframe thead th {\n",
       "        text-align: right;\n",
       "    }\n",
       "</style>\n",
       "<table border=\"1\" class=\"dataframe\">\n",
       "  <thead>\n",
       "    <tr style=\"text-align: right;\">\n",
       "      <th></th>\n",
       "      <th>battery_power</th>\n",
       "      <th>blue</th>\n",
       "      <th>clock_speed</th>\n",
       "      <th>dual_sim</th>\n",
       "      <th>fc</th>\n",
       "      <th>four_g</th>\n",
       "      <th>int_memory</th>\n",
       "      <th>m_dep</th>\n",
       "      <th>mobile_wt</th>\n",
       "      <th>n_cores</th>\n",
       "      <th>...</th>\n",
       "      <th>px_height</th>\n",
       "      <th>px_width</th>\n",
       "      <th>ram</th>\n",
       "      <th>sc_h</th>\n",
       "      <th>sc_w</th>\n",
       "      <th>talk_time</th>\n",
       "      <th>three_g</th>\n",
       "      <th>touch_screen</th>\n",
       "      <th>wifi</th>\n",
       "      <th>price_range</th>\n",
       "    </tr>\n",
       "  </thead>\n",
       "  <tbody>\n",
       "    <tr>\n",
       "      <th>0</th>\n",
       "      <td>959</td>\n",
       "      <td>1</td>\n",
       "      <td>2.6</td>\n",
       "      <td>1</td>\n",
       "      <td>15.0</td>\n",
       "      <td>0</td>\n",
       "      <td>20</td>\n",
       "      <td>1.0</td>\n",
       "      <td>84</td>\n",
       "      <td>4</td>\n",
       "      <td>...</td>\n",
       "      <td>561.0</td>\n",
       "      <td>1631</td>\n",
       "      <td>3965</td>\n",
       "      <td>16</td>\n",
       "      <td>1.0</td>\n",
       "      <td>6</td>\n",
       "      <td>1</td>\n",
       "      <td>0</td>\n",
       "      <td>0</td>\n",
       "      <td>3</td>\n",
       "    </tr>\n",
       "    <tr>\n",
       "      <th>1</th>\n",
       "      <td>1724</td>\n",
       "      <td>0</td>\n",
       "      <td>2.0</td>\n",
       "      <td>1</td>\n",
       "      <td>2.0</td>\n",
       "      <td>1</td>\n",
       "      <td>57</td>\n",
       "      <td>0.5</td>\n",
       "      <td>177</td>\n",
       "      <td>3</td>\n",
       "      <td>...</td>\n",
       "      <td>1605.0</td>\n",
       "      <td>1924</td>\n",
       "      <td>2822</td>\n",
       "      <td>19</td>\n",
       "      <td>3.0</td>\n",
       "      <td>16</td>\n",
       "      <td>1</td>\n",
       "      <td>1</td>\n",
       "      <td>0</td>\n",
       "      <td>3</td>\n",
       "    </tr>\n",
       "    <tr>\n",
       "      <th>2</th>\n",
       "      <td>1456</td>\n",
       "      <td>1</td>\n",
       "      <td>0.5</td>\n",
       "      <td>1</td>\n",
       "      <td>7.0</td>\n",
       "      <td>0</td>\n",
       "      <td>7</td>\n",
       "      <td>0.4</td>\n",
       "      <td>105</td>\n",
       "      <td>5</td>\n",
       "      <td>...</td>\n",
       "      <td>823.0</td>\n",
       "      <td>1104</td>\n",
       "      <td>1587</td>\n",
       "      <td>6</td>\n",
       "      <td>5.0</td>\n",
       "      <td>20</td>\n",
       "      <td>1</td>\n",
       "      <td>0</td>\n",
       "      <td>1</td>\n",
       "      <td>1</td>\n",
       "    </tr>\n",
       "    <tr>\n",
       "      <th>3</th>\n",
       "      <td>1993</td>\n",
       "      <td>1</td>\n",
       "      <td>0.5</td>\n",
       "      <td>0</td>\n",
       "      <td>10.0</td>\n",
       "      <td>1</td>\n",
       "      <td>27</td>\n",
       "      <td>0.3</td>\n",
       "      <td>147</td>\n",
       "      <td>8</td>\n",
       "      <td>...</td>\n",
       "      <td>150.0</td>\n",
       "      <td>510</td>\n",
       "      <td>2437</td>\n",
       "      <td>14</td>\n",
       "      <td>1.0</td>\n",
       "      <td>9</td>\n",
       "      <td>1</td>\n",
       "      <td>0</td>\n",
       "      <td>0</td>\n",
       "      <td>2</td>\n",
       "    </tr>\n",
       "    <tr>\n",
       "      <th>4</th>\n",
       "      <td>864</td>\n",
       "      <td>0</td>\n",
       "      <td>1.6</td>\n",
       "      <td>1</td>\n",
       "      <td>2.0</td>\n",
       "      <td>1</td>\n",
       "      <td>53</td>\n",
       "      <td>0.3</td>\n",
       "      <td>88</td>\n",
       "      <td>6</td>\n",
       "      <td>...</td>\n",
       "      <td>262.0</td>\n",
       "      <td>1436</td>\n",
       "      <td>493</td>\n",
       "      <td>18</td>\n",
       "      <td>9.0</td>\n",
       "      <td>10</td>\n",
       "      <td>1</td>\n",
       "      <td>1</td>\n",
       "      <td>0</td>\n",
       "      <td>0</td>\n",
       "    </tr>\n",
       "  </tbody>\n",
       "</table>\n",
       "<p>5 rows × 21 columns</p>\n",
       "</div>"
      ],
      "text/plain": [
       "   battery_power  blue  clock_speed  dual_sim    fc  four_g  int_memory  \\\n",
       "0            959     1          2.6         1  15.0       0          20   \n",
       "1           1724     0          2.0         1   2.0       1          57   \n",
       "2           1456     1          0.5         1   7.0       0           7   \n",
       "3           1993     1          0.5         0  10.0       1          27   \n",
       "4            864     0          1.6         1   2.0       1          53   \n",
       "\n",
       "   m_dep  mobile_wt  n_cores  ...  px_height  px_width   ram  sc_h  sc_w  \\\n",
       "0    1.0         84        4  ...      561.0      1631  3965    16   1.0   \n",
       "1    0.5        177        3  ...     1605.0      1924  2822    19   3.0   \n",
       "2    0.4        105        5  ...      823.0      1104  1587     6   5.0   \n",
       "3    0.3        147        8  ...      150.0       510  2437    14   1.0   \n",
       "4    0.3         88        6  ...      262.0      1436   493    18   9.0   \n",
       "\n",
       "   talk_time  three_g  touch_screen  wifi  price_range  \n",
       "0          6        1             0     0            3  \n",
       "1         16        1             1     0            3  \n",
       "2         20        1             0     1            1  \n",
       "3          9        1             0     0            2  \n",
       "4         10        1             1     0            0  \n",
       "\n",
       "[5 rows x 21 columns]"
      ]
     },
     "execution_count": 7,
     "metadata": {},
     "output_type": "execute_result"
    }
   ],
   "source": [
    "mobile.head()"
   ]
  },
  {
   "cell_type": "code",
   "execution_count": 8,
   "id": "09281dea",
   "metadata": {},
   "outputs": [
    {
     "data": {
      "text/html": [
       "<div>\n",
       "<style scoped>\n",
       "    .dataframe tbody tr th:only-of-type {\n",
       "        vertical-align: middle;\n",
       "    }\n",
       "\n",
       "    .dataframe tbody tr th {\n",
       "        vertical-align: top;\n",
       "    }\n",
       "\n",
       "    .dataframe thead th {\n",
       "        text-align: right;\n",
       "    }\n",
       "</style>\n",
       "<table border=\"1\" class=\"dataframe\">\n",
       "  <thead>\n",
       "    <tr style=\"text-align: right;\">\n",
       "      <th></th>\n",
       "      <th>battery_power</th>\n",
       "      <th>blue</th>\n",
       "      <th>clock_speed</th>\n",
       "      <th>dual_sim</th>\n",
       "      <th>fc</th>\n",
       "      <th>four_g</th>\n",
       "      <th>int_memory</th>\n",
       "      <th>m_dep</th>\n",
       "      <th>mobile_wt</th>\n",
       "      <th>n_cores</th>\n",
       "      <th>...</th>\n",
       "      <th>px_height</th>\n",
       "      <th>px_width</th>\n",
       "      <th>ram</th>\n",
       "      <th>sc_h</th>\n",
       "      <th>sc_w</th>\n",
       "      <th>talk_time</th>\n",
       "      <th>three_g</th>\n",
       "      <th>touch_screen</th>\n",
       "      <th>wifi</th>\n",
       "      <th>price_range</th>\n",
       "    </tr>\n",
       "  </thead>\n",
       "  <tbody>\n",
       "    <tr>\n",
       "      <th>count</th>\n",
       "      <td>1600.000</td>\n",
       "      <td>1600.000</td>\n",
       "      <td>1600.000</td>\n",
       "      <td>1600.000</td>\n",
       "      <td>1600.000</td>\n",
       "      <td>1600.000</td>\n",
       "      <td>1600.000</td>\n",
       "      <td>1600.000</td>\n",
       "      <td>1600.000</td>\n",
       "      <td>1600.000</td>\n",
       "      <td>...</td>\n",
       "      <td>1600.000</td>\n",
       "      <td>1600.000</td>\n",
       "      <td>1600.000</td>\n",
       "      <td>1600.000</td>\n",
       "      <td>1600.000</td>\n",
       "      <td>1600.000</td>\n",
       "      <td>1600.000</td>\n",
       "      <td>1600.0</td>\n",
       "      <td>1600.000</td>\n",
       "      <td>1600.000</td>\n",
       "    </tr>\n",
       "    <tr>\n",
       "      <th>mean</th>\n",
       "      <td>1244.831</td>\n",
       "      <td>0.508</td>\n",
       "      <td>1.520</td>\n",
       "      <td>0.509</td>\n",
       "      <td>5.476</td>\n",
       "      <td>0.516</td>\n",
       "      <td>32.142</td>\n",
       "      <td>0.499</td>\n",
       "      <td>140.364</td>\n",
       "      <td>4.522</td>\n",
       "      <td>...</td>\n",
       "      <td>644.715</td>\n",
       "      <td>1249.115</td>\n",
       "      <td>2117.431</td>\n",
       "      <td>12.299</td>\n",
       "      <td>6.326</td>\n",
       "      <td>10.948</td>\n",
       "      <td>0.762</td>\n",
       "      <td>0.5</td>\n",
       "      <td>0.497</td>\n",
       "      <td>1.500</td>\n",
       "    </tr>\n",
       "    <tr>\n",
       "      <th>std</th>\n",
       "      <td>433.193</td>\n",
       "      <td>0.500</td>\n",
       "      <td>0.815</td>\n",
       "      <td>0.500</td>\n",
       "      <td>3.950</td>\n",
       "      <td>0.500</td>\n",
       "      <td>18.114</td>\n",
       "      <td>0.288</td>\n",
       "      <td>35.495</td>\n",
       "      <td>2.286</td>\n",
       "      <td>...</td>\n",
       "      <td>441.211</td>\n",
       "      <td>431.139</td>\n",
       "      <td>1081.240</td>\n",
       "      <td>4.224</td>\n",
       "      <td>4.181</td>\n",
       "      <td>5.461</td>\n",
       "      <td>0.426</td>\n",
       "      <td>0.5</td>\n",
       "      <td>0.500</td>\n",
       "      <td>1.118</td>\n",
       "    </tr>\n",
       "    <tr>\n",
       "      <th>min</th>\n",
       "      <td>502.000</td>\n",
       "      <td>0.000</td>\n",
       "      <td>0.500</td>\n",
       "      <td>0.000</td>\n",
       "      <td>1.000</td>\n",
       "      <td>0.000</td>\n",
       "      <td>2.000</td>\n",
       "      <td>0.100</td>\n",
       "      <td>80.000</td>\n",
       "      <td>1.000</td>\n",
       "      <td>...</td>\n",
       "      <td>1.000</td>\n",
       "      <td>500.000</td>\n",
       "      <td>258.000</td>\n",
       "      <td>5.000</td>\n",
       "      <td>1.000</td>\n",
       "      <td>2.000</td>\n",
       "      <td>0.000</td>\n",
       "      <td>0.0</td>\n",
       "      <td>0.000</td>\n",
       "      <td>0.000</td>\n",
       "    </tr>\n",
       "    <tr>\n",
       "      <th>25%</th>\n",
       "      <td>864.750</td>\n",
       "      <td>0.000</td>\n",
       "      <td>0.700</td>\n",
       "      <td>0.000</td>\n",
       "      <td>2.000</td>\n",
       "      <td>0.000</td>\n",
       "      <td>16.000</td>\n",
       "      <td>0.200</td>\n",
       "      <td>109.000</td>\n",
       "      <td>3.000</td>\n",
       "      <td>...</td>\n",
       "      <td>285.500</td>\n",
       "      <td>874.000</td>\n",
       "      <td>1209.750</td>\n",
       "      <td>9.000</td>\n",
       "      <td>3.000</td>\n",
       "      <td>6.000</td>\n",
       "      <td>1.000</td>\n",
       "      <td>0.0</td>\n",
       "      <td>0.000</td>\n",
       "      <td>0.750</td>\n",
       "    </tr>\n",
       "    <tr>\n",
       "      <th>50%</th>\n",
       "      <td>1235.000</td>\n",
       "      <td>1.000</td>\n",
       "      <td>1.500</td>\n",
       "      <td>1.000</td>\n",
       "      <td>5.000</td>\n",
       "      <td>1.000</td>\n",
       "      <td>32.000</td>\n",
       "      <td>0.500</td>\n",
       "      <td>141.000</td>\n",
       "      <td>4.000</td>\n",
       "      <td>...</td>\n",
       "      <td>567.750</td>\n",
       "      <td>1247.000</td>\n",
       "      <td>2125.500</td>\n",
       "      <td>12.000</td>\n",
       "      <td>5.000</td>\n",
       "      <td>11.000</td>\n",
       "      <td>1.000</td>\n",
       "      <td>0.5</td>\n",
       "      <td>0.000</td>\n",
       "      <td>1.500</td>\n",
       "    </tr>\n",
       "    <tr>\n",
       "      <th>75%</th>\n",
       "      <td>1616.250</td>\n",
       "      <td>1.000</td>\n",
       "      <td>2.200</td>\n",
       "      <td>1.000</td>\n",
       "      <td>8.000</td>\n",
       "      <td>1.000</td>\n",
       "      <td>48.000</td>\n",
       "      <td>0.800</td>\n",
       "      <td>170.000</td>\n",
       "      <td>7.000</td>\n",
       "      <td>...</td>\n",
       "      <td>945.000</td>\n",
       "      <td>1629.500</td>\n",
       "      <td>3040.500</td>\n",
       "      <td>16.000</td>\n",
       "      <td>9.000</td>\n",
       "      <td>16.000</td>\n",
       "      <td>1.000</td>\n",
       "      <td>1.0</td>\n",
       "      <td>1.000</td>\n",
       "      <td>2.250</td>\n",
       "    </tr>\n",
       "    <tr>\n",
       "      <th>max</th>\n",
       "      <td>1998.000</td>\n",
       "      <td>1.000</td>\n",
       "      <td>3.000</td>\n",
       "      <td>1.000</td>\n",
       "      <td>17.000</td>\n",
       "      <td>1.000</td>\n",
       "      <td>64.000</td>\n",
       "      <td>1.000</td>\n",
       "      <td>200.000</td>\n",
       "      <td>8.000</td>\n",
       "      <td>...</td>\n",
       "      <td>1920.000</td>\n",
       "      <td>1998.000</td>\n",
       "      <td>3998.000</td>\n",
       "      <td>19.000</td>\n",
       "      <td>18.000</td>\n",
       "      <td>20.000</td>\n",
       "      <td>1.000</td>\n",
       "      <td>1.0</td>\n",
       "      <td>1.000</td>\n",
       "      <td>3.000</td>\n",
       "    </tr>\n",
       "  </tbody>\n",
       "</table>\n",
       "<p>8 rows × 21 columns</p>\n",
       "</div>"
      ],
      "text/plain": [
       "       battery_power      blue  clock_speed  dual_sim        fc    four_g  \\\n",
       "count       1600.000  1600.000     1600.000  1600.000  1600.000  1600.000   \n",
       "mean        1244.831     0.508        1.520     0.509     5.476     0.516   \n",
       "std          433.193     0.500        0.815     0.500     3.950     0.500   \n",
       "min          502.000     0.000        0.500     0.000     1.000     0.000   \n",
       "25%          864.750     0.000        0.700     0.000     2.000     0.000   \n",
       "50%         1235.000     1.000        1.500     1.000     5.000     1.000   \n",
       "75%         1616.250     1.000        2.200     1.000     8.000     1.000   \n",
       "max         1998.000     1.000        3.000     1.000    17.000     1.000   \n",
       "\n",
       "       int_memory     m_dep  mobile_wt   n_cores  ...  px_height  px_width  \\\n",
       "count    1600.000  1600.000   1600.000  1600.000  ...   1600.000  1600.000   \n",
       "mean       32.142     0.499    140.364     4.522  ...    644.715  1249.115   \n",
       "std        18.114     0.288     35.495     2.286  ...    441.211   431.139   \n",
       "min         2.000     0.100     80.000     1.000  ...      1.000   500.000   \n",
       "25%        16.000     0.200    109.000     3.000  ...    285.500   874.000   \n",
       "50%        32.000     0.500    141.000     4.000  ...    567.750  1247.000   \n",
       "75%        48.000     0.800    170.000     7.000  ...    945.000  1629.500   \n",
       "max        64.000     1.000    200.000     8.000  ...   1920.000  1998.000   \n",
       "\n",
       "            ram      sc_h      sc_w  talk_time   three_g  touch_screen  \\\n",
       "count  1600.000  1600.000  1600.000   1600.000  1600.000        1600.0   \n",
       "mean   2117.431    12.299     6.326     10.948     0.762           0.5   \n",
       "std    1081.240     4.224     4.181      5.461     0.426           0.5   \n",
       "min     258.000     5.000     1.000      2.000     0.000           0.0   \n",
       "25%    1209.750     9.000     3.000      6.000     1.000           0.0   \n",
       "50%    2125.500    12.000     5.000     11.000     1.000           0.5   \n",
       "75%    3040.500    16.000     9.000     16.000     1.000           1.0   \n",
       "max    3998.000    19.000    18.000     20.000     1.000           1.0   \n",
       "\n",
       "           wifi  price_range  \n",
       "count  1600.000     1600.000  \n",
       "mean      0.497        1.500  \n",
       "std       0.500        1.118  \n",
       "min       0.000        0.000  \n",
       "25%       0.000        0.750  \n",
       "50%       0.000        1.500  \n",
       "75%       1.000        2.250  \n",
       "max       1.000        3.000  \n",
       "\n",
       "[8 rows x 21 columns]"
      ]
     },
     "execution_count": 8,
     "metadata": {},
     "output_type": "execute_result"
    }
   ],
   "source": [
    "mobile.describe()"
   ]
  },
  {
   "cell_type": "code",
   "execution_count": 9,
   "id": "bdad7a82",
   "metadata": {},
   "outputs": [
    {
     "data": {
      "text/plain": [
       "battery_power    0\n",
       "blue             0\n",
       "clock_speed      0\n",
       "dual_sim         0\n",
       "fc               0\n",
       "four_g           0\n",
       "int_memory       0\n",
       "m_dep            0\n",
       "mobile_wt        0\n",
       "n_cores          0\n",
       "pc               0\n",
       "px_height        0\n",
       "px_width         0\n",
       "ram              0\n",
       "sc_h             0\n",
       "sc_w             0\n",
       "talk_time        0\n",
       "three_g          0\n",
       "touch_screen     0\n",
       "wifi             0\n",
       "price_range      0\n",
       "dtype: int64"
      ]
     },
     "execution_count": 9,
     "metadata": {},
     "output_type": "execute_result"
    }
   ],
   "source": [
    "#Checking for null values\n",
    "mobile.isnull().sum()"
   ]
  },
  {
   "cell_type": "code",
   "execution_count": 17,
   "id": "5e5d4110",
   "metadata": {},
   "outputs": [],
   "source": [
    "from sklearn.model_selection import train_test_split\n",
    "#Data set without target variable\n",
    "X = mobile.loc[:,mobile.columns != 'price_range']\n",
    "\n",
    "#target variable\n",
    "y = mobile['price_range']\n",
    "X_train, X_test, y_train, y_test = train_test_split(X, y, test_size=0.33, random_state = 42)"
   ]
  },
  {
   "cell_type": "markdown",
   "id": "51e59f35",
   "metadata": {},
   "source": [
    "##### SelectKBest()"
   ]
  },
  {
   "cell_type": "code",
   "execution_count": 14,
   "id": "8be1b90f",
   "metadata": {},
   "outputs": [],
   "source": [
    "#library\n",
    "from sklearn.feature_selection import SelectKBest, chi2\n",
    "\n",
    "bestfeatures = SelectKBest(score_func=chi2, k=4)\n",
    "model = bestfeatures.fit(X,y)"
   ]
  },
  {
   "cell_type": "code",
   "execution_count": 15,
   "id": "40db8283",
   "metadata": {},
   "outputs": [
    {
     "name": "stdout",
     "output_type": "stream",
     "text": [
      "          Feature       Score\n",
      "13            ram  741172.283\n",
      "11      px_height   13156.285\n",
      "0   battery_power   11545.467\n",
      "12       px_width    8102.912\n",
      "8       mobile_wt     120.438\n",
      "6      int_memory     107.088\n",
      "4              fc      16.992\n",
      "16      talk_time      14.473\n",
      "15           sc_w       9.248\n",
      "14           sc_h       7.641\n"
     ]
    }
   ],
   "source": [
    "dfscores = pd.DataFrame(model.scores_)\n",
    "dfcolumns = pd.DataFrame(X.columns)\n",
    "feature_scores = pd.concat([dfcolumns,dfscores],axis=1)\n",
    "feature_scores.columns = ['Feature','Score'] \n",
    "print(feature_scores.nlargest(10,'Score')) "
   ]
  },
  {
   "cell_type": "code",
   "execution_count": 16,
   "id": "27800d0b",
   "metadata": {},
   "outputs": [
    {
     "data": {
      "text/plain": [
       "ExtraTreesClassifier()"
      ]
     },
     "execution_count": 16,
     "metadata": {},
     "output_type": "execute_result"
    },
    {
     "data": {
      "text/plain": [
       "<AxesSubplot:>"
      ]
     },
     "execution_count": 16,
     "metadata": {},
     "output_type": "execute_result"
    },
    {
     "data": {
      "text/plain": [
       "Text(0.5, 1.0, 'The top 10 best important features')"
      ]
     },
     "execution_count": 16,
     "metadata": {},
     "output_type": "execute_result"
    },
    {
     "data": {
      "image/png": "[encoded data removed]",
      "text/plain": [
       "<Figure size 432x288 with 1 Axes>"
      ]
     },
     "metadata": {
      "needs_background": "light"
     },
     "output_type": "display_data"
    }
   ],
   "source": [
    "#Apply Feature Importance Method to select most important features\n",
    "from sklearn.ensemble import ExtraTreesClassifier  \n",
    "\n",
    "model = ExtraTreesClassifier()\n",
    "model.fit(X , y)\n",
    "important_features = pd.Series(model.feature_importances_ , index = X.columns)\n",
    "important_features.nlargest(10).plot(kind = 'barh')\n",
    "plt.title(\"The top 10 best important features\")\n",
    "plt.show()\n"
   ]
  },
  {
   "cell_type": "code",
   "execution_count": 17,
   "id": "a3c770c6",
   "metadata": {},
   "outputs": [],
   "source": [
    "#import library\n",
    "from sklearn.metrics import ConfusionMatrixDisplay\n",
    "from sklearn.ensemble import GradientBoostingClassifier , RandomForestClassifier  \n",
    "from sklearn.neighbors import KNeighborsClassifier\n",
    "from sklearn.tree import DecisionTreeClassifier\n",
    "from sklearn.naive_bayes import GaussianNB\n",
    "from sklearn.svm import SVC\n",
    "from xgboost import XGBClassifier"
   ]
  },
  {
   "cell_type": "markdown",
   "id": "69777d07",
   "metadata": {},
   "source": [
    "## Section 1: Data pipeline"
   ]
  },
  {
   "cell_type": "code",
   "execution_count": null,
   "id": "24014877",
   "metadata": {},
   "outputs": [],
   "source": [
    "## Section 3: Model Training and Testing"
   ]
  },
  {
   "cell_type": "code",
   "execution_count": null,
   "id": "d09c71c0",
   "metadata": {},
   "outputs": [],
   "source": []
  },
  {
   "cell_type": "markdown",
   "id": "43ec66ac",
   "metadata": {},
   "source": [
    "### Section 2.1 : Data pipeline using Cross Validation"
   ]
  },
  {
   "cell_type": "markdown",
   "id": "2020332b",
   "metadata": {},
   "source": [
    "## Section 2: Model Selection"
   ]
  },
  {
   "cell_type": "markdown",
   "id": "d3f42a33",
   "metadata": {},
   "source": [
    "### 3.2: Hyperparameter Tuning using GridSearchCV  Method\n",
    "Hyperparameter optimization refers to performing a search in order to discover the set of specific model configuration arguments that result in the best performance of the model on a specific dataset. These hyperparameters may be used to address model design questions such as; the maximum depth allowed decision treebe ,maximum features used to the model, how many number of trees should included in random forest and many other important configaration such as value of parameter c in SVC. \n",
    "In this section we will find the best parameters for all the five algorithms we want to compare using GridSearchCV method."
   ]
  },
  {
   "cell_type": "code",
   "execution_count": 21,
   "id": "e38edb5b",
   "metadata": {},
   "outputs": [],
   "source": [
    "#dictionary to store the score of each algorthms the algorithsm\n",
    "model_accuracy = {}"
   ]
  },
  {
   "cell_type": "markdown",
   "id": "adba7e11",
   "metadata": {},
   "source": [
    "#### 3.2.1 Random Forest Classifier\n",
    "\n",
    "A random forest is a supervised machine learning method built from decision tree techniques. It is used to solve both regression and classification problem. This technique use ensemble learning which combine multiple classifiers to solve complicated problems\n",
    "A random forest is a machine learning approach for solving regression and classification issues. It makes use of ensemble learning, which is a technique that combines multiple classifiers to solve complicated problems.\n",
    "\n",
    "A random forest method is made up of a large number of decision trees. The random forest algorithm’s ‘forest’ is trained via bagging or bootstrap aggregation. Bagging is a meta-algorithm ensemble that increases the accuracy of machine learning algorithms."
   ]
  },
  {
   "cell_type": "code",
   "execution_count": 22,
   "id": "79569bdd",
   "metadata": {},
   "outputs": [],
   "source": [
    "from sklearn.ensemble import RandomForestClassifier \n",
    "from sklearn.model_selection import GridSearchCV\n",
    "model = RandomForestClassifier()\n",
    "parameters = {'criterion':['gini','entropy'],\n",
    "         'n_estimators':[10,15,20,25,30],\n",
    "          'min_samples_leaf':[1,2,3],\n",
    "          'min_samples_split':[3,4,5,6,7],\n",
    "          'max_features': [7,10,15,20],\n",
    "          'random_state':[123]}\n",
    "RF = GridSearchCV(model,param_grid=parameters,n_jobs=-1)"
   ]
  },
  {
   "cell_type": "code",
   "execution_count": 23,
   "id": "60c72531",
   "metadata": {},
   "outputs": [
    {
     "data": {
      "text/plain": [
       "GridSearchCV(estimator=RandomForestClassifier(), n_jobs=-1,\n",
       "             param_grid={'criterion': ['gini', 'entropy'],\n",
       "                         'max_features': [7, 10, 15, 20],\n",
       "                         'min_samples_leaf': [1, 2, 3],\n",
       "                         'min_samples_split': [3, 4, 5, 6, 7],\n",
       "                         'n_estimators': [10, 15, 20, 25, 30],\n",
       "                         'random_state': [123]})"
      ]
     },
     "execution_count": 23,
     "metadata": {},
     "output_type": "execute_result"
    }
   ],
   "source": [
    "RF.fit(X_train,y_train)"
   ]
  },
  {
   "cell_type": "code",
   "execution_count": 30,
   "id": "2affd393",
   "metadata": {},
   "outputs": [
    {
     "name": "stdout",
     "output_type": "stream",
     "text": [
      "The best parameters are \n"
     ]
    },
    {
     "data": {
      "text/plain": [
       "{'criterion': 'entropy',\n",
       " 'max_features': 15,\n",
       " 'min_samples_leaf': 2,\n",
       " 'min_samples_split': 3,\n",
       " 'n_estimators': 30,\n",
       " 'random_state': 123}"
      ]
     },
     "execution_count": 30,
     "metadata": {},
     "output_type": "execute_result"
    },
    {
     "name": "stdout",
     "output_type": "stream",
     "text": [
      "The best score is 0.90.\n"
     ]
    }
   ],
   "source": [
    "print(\"The best parameters are \")\n",
    "RF.best_params_\n",
    "print(\"The best score is {:.2f}.\".format(RF.best_score_))"
   ]
  },
  {
   "cell_type": "markdown",
   "id": "6ab7b3e4",
   "metadata": {},
   "source": [
    "#### 3.2.2 Support Vector Machine\n",
    "Support-vector machines (SVMs) is the supervised learning models with associated learning algorithms that analyze data for classification, regression analysis and outlier detection.\n",
    "\n",
    "The goal of the SVM algorithm is to create the best line or decision boundary that can segregate n-dimensional space into classes so that we can easily put the new data point in the correct category in the future. This best decision boundary is called a hyperplane.\n"
   ]
  },
  {
   "cell_type": "code",
   "execution_count": 24,
   "id": "56c13d21",
   "metadata": {},
   "outputs": [],
   "source": [
    "from sklearn.model_selection import train_test_split,  KFold, cross_val_score, GridSearchCV\n",
    "from sklearn.svm import SVC\n",
    "\n",
    "param_grid = {'C': [1,5,10,50,100],\n",
    "              'gamma': [.1,.5,.25,1],\n",
    "             'kernel':['rbf','poly','sigmoid','linear']}\n",
    "SV = GridSearchCV(SVC(),param_grid,cv=5,refit='True')"
   ]
  },
  {
   "cell_type": "code",
   "execution_count": null,
   "id": "e3ef8ad5",
   "metadata": {},
   "outputs": [],
   "source": [
    "SV.fit(X_train,y_train)"
   ]
  },
  {
   "cell_type": "code",
   "execution_count": null,
   "id": "707a6e3c",
   "metadata": {},
   "outputs": [],
   "source": [
    "print(\"The best parameters are \")\n",
    "SV.best_params_\n",
    "print(\"The best score is {:.2f}.\".format(SV.best_score_))"
   ]
  },
  {
   "cell_type": "markdown",
   "id": "92b919dc",
   "metadata": {},
   "source": [
    "#### 3.2.3 Naive Bayes Classifier\n",
    "A Naive Bayes classifier is a probabilistic machine learning model that’s used for classification task. The crux of the classifier is based on the Bayes theorem. This algorithms work well in the data with gaussian distribution, we assume that the dataset we have is normal distributed.\n"
   ]
  },
  {
   "cell_type": "code",
   "execution_count": null,
   "id": "461c25e1",
   "metadata": {},
   "outputs": [],
   "source": [
    "from sklearn.naive_bayes import GaussianNB\n",
    "model = GaussianNB()"
   ]
  },
  {
   "cell_type": "code",
   "execution_count": null,
   "id": "3e33fd8d",
   "metadata": {},
   "outputs": [],
   "source": [
    "param_grid = {'var_smoothing': np.logspace(0,-5, num=5)}\n",
    "GNB = GridSearchCV(model,param_grid,cv=5)"
   ]
  },
  {
   "cell_type": "code",
   "execution_count": null,
   "id": "7e0b6150",
   "metadata": {},
   "outputs": [],
   "source": [
    "GNB.fit(X_train,y_train)"
   ]
  },
  {
   "cell_type": "code",
   "execution_count": null,
   "id": "922c2b16",
   "metadata": {},
   "outputs": [],
   "source": [
    "print(\"The best parameters are \")\n",
    "GNB.best_params_\n",
    "print(\"The best score is {:.2f}.\".format(GNB.best_score_))"
   ]
  },
  {
   "cell_type": "markdown",
   "id": "59d2708f",
   "metadata": {},
   "source": [
    "#### 3.2.4 XGBOOST\n",
    "\n",
    "XGBoost, which stands for Extreme Gradient Boosting, is a scalable, distributed gradient-boosted decision tree (GBDT) machine learning library. It provides parallel tree boosting and is the leading machine learning library for regression, classification, and ranking problems.\n"
   ]
  },
  {
   "cell_type": "code",
   "execution_count": 30,
   "id": "d35e5cfe",
   "metadata": {},
   "outputs": [],
   "source": [
    "from xgboost import XGBClassifier\n",
    "model = XGBClassifier()\n",
    "params = {\n",
    "    'learning_rate':[0.01],\n",
    "    'n_estimators':[5000],\n",
    "    'max_depth':[4],\n",
    "    'min_child_weight':[6],\n",
    "    'gamma':[0],\n",
    "    'subsample':[0.8],\n",
    "    'colsample_bytree':[0.8],\n",
    "    'reg_alpha':[0.005],\n",
    "    'objective':['binary:logistic'],\n",
    "    'nthread':[4],\n",
    "    'scale_pos_weight':[1],\n",
    "}\n",
    "XGB = GridSearchCV(model,param_grid=params)"
   ]
  },
  {
   "cell_type": "code",
   "execution_count": 31,
   "id": "96a55296",
   "metadata": {},
   "outputs": [
    {
     "name": "stdout",
     "output_type": "stream",
     "text": [
      "[00:45:52] WARNING: ..\\src\\learner.cc:576: \n",
      "Parameters: { \"scale_pos_weight\" } might not be used.\n",
      "\n",
      "  This could be a false alarm, with some parameters getting used by language bindings but\n",
      "  then being mistakenly passed down to XGBoost core, or some parameter actually being used\n",
      "  but getting flagged wrongly here. Please open an issue if you find any such cases.\n",
      "\n",
      "\n",
      "[00:45:52] WARNING: ..\\src\\learner.cc:1115: Starting in XGBoost 1.3.0, the default evaluation metric used with the objective 'multi:softprob' was changed from 'merror' to 'mlogloss'. Explicitly set eval_metric if you'd like to restore the old behavior.\n",
      "[00:46:03] WARNING: ..\\src\\learner.cc:576: \n",
      "Parameters: { \"scale_pos_weight\" } might not be used.\n",
      "\n",
      "  This could be a false alarm, with some parameters getting used by language bindings but\n",
      "  then being mistakenly passed down to XGBoost core, or some parameter actually being used\n",
      "  but getting flagged wrongly here. Please open an issue if you find any such cases.\n",
      "\n",
      "\n",
      "[00:46:03] WARNING: ..\\src\\learner.cc:1115: Starting in XGBoost 1.3.0, the default evaluation metric used with the objective 'multi:softprob' was changed from 'merror' to 'mlogloss'. Explicitly set eval_metric if you'd like to restore the old behavior.\n",
      "[00:46:13] WARNING: ..\\src\\learner.cc:576: \n",
      "Parameters: { \"scale_pos_weight\" } might not be used.\n",
      "\n",
      "  This could be a false alarm, with some parameters getting used by language bindings but\n",
      "  then being mistakenly passed down to XGBoost core, or some parameter actually being used\n",
      "  but getting flagged wrongly here. Please open an issue if you find any such cases.\n",
      "\n",
      "\n",
      "[00:46:13] WARNING: ..\\src\\learner.cc:1115: Starting in XGBoost 1.3.0, the default evaluation metric used with the objective 'multi:softprob' was changed from 'merror' to 'mlogloss'. Explicitly set eval_metric if you'd like to restore the old behavior.\n",
      "[00:46:23] WARNING: ..\\src\\learner.cc:576: \n",
      "Parameters: { \"scale_pos_weight\" } might not be used.\n",
      "\n",
      "  This could be a false alarm, with some parameters getting used by language bindings but\n",
      "  then being mistakenly passed down to XGBoost core, or some parameter actually being used\n",
      "  but getting flagged wrongly here. Please open an issue if you find any such cases.\n",
      "\n",
      "\n",
      "[00:46:23] WARNING: ..\\src\\learner.cc:1115: Starting in XGBoost 1.3.0, the default evaluation metric used with the objective 'multi:softprob' was changed from 'merror' to 'mlogloss'. Explicitly set eval_metric if you'd like to restore the old behavior.\n",
      "[00:46:33] WARNING: ..\\src\\learner.cc:576: \n",
      "Parameters: { \"scale_pos_weight\" } might not be used.\n",
      "\n",
      "  This could be a false alarm, with some parameters getting used by language bindings but\n",
      "  then being mistakenly passed down to XGBoost core, or some parameter actually being used\n",
      "  but getting flagged wrongly here. Please open an issue if you find any such cases.\n",
      "\n",
      "\n",
      "[00:46:33] WARNING: ..\\src\\learner.cc:1115: Starting in XGBoost 1.3.0, the default evaluation metric used with the objective 'multi:softprob' was changed from 'merror' to 'mlogloss'. Explicitly set eval_metric if you'd like to restore the old behavior.\n",
      "[00:46:43] WARNING: ..\\src\\learner.cc:576: \n",
      "Parameters: { \"scale_pos_weight\" } might not be used.\n",
      "\n",
      "  This could be a false alarm, with some parameters getting used by language bindings but\n",
      "  then being mistakenly passed down to XGBoost core, or some parameter actually being used\n",
      "  but getting flagged wrongly here. Please open an issue if you find any such cases.\n",
      "\n",
      "\n",
      "[00:46:43] WARNING: ..\\src\\learner.cc:1115: Starting in XGBoost 1.3.0, the default evaluation metric used with the objective 'multi:softprob' was changed from 'merror' to 'mlogloss'. Explicitly set eval_metric if you'd like to restore the old behavior.\n"
     ]
    },
    {
     "data": {
      "text/plain": [
       "GridSearchCV(estimator=XGBClassifier(base_score=None, booster=None,\n",
       "                                     colsample_bylevel=None,\n",
       "                                     colsample_bynode=None,\n",
       "                                     colsample_bytree=None,\n",
       "                                     enable_categorical=False, gamma=None,\n",
       "                                     gpu_id=None, importance_type=None,\n",
       "                                     interaction_constraints=None,\n",
       "                                     learning_rate=None, max_delta_step=None,\n",
       "                                     max_depth=None, min_child_weight=None,\n",
       "                                     missing=nan, monotone_constraints=None,\n",
       "                                     n_est...\n",
       "                                     reg_lambda=None, scale_pos_weight=None,\n",
       "                                     subsample=None, tree_method=None,\n",
       "                                     validate_parameters=None, verbosity=None),\n",
       "             param_grid={'colsample_bytree': [0.8], 'gamma': [0],\n",
       "                         'learning_rate': [0.01], 'max_depth': [4],\n",
       "                         'min_child_weight': [6], 'n_estimators': [5000],\n",
       "                         'nthread': [4], 'objective': ['binary:logistic'],\n",
       "                         'reg_alpha': [0.005], 'scale_pos_weight': [1],\n",
       "                         'subsample': [0.8]},\n",
       "             refit='True')"
      ]
     },
     "execution_count": 31,
     "metadata": {},
     "output_type": "execute_result"
    }
   ],
   "source": [
    "XGB.fit(X_train,y_train)"
   ]
  },
  {
   "cell_type": "code",
   "execution_count": 32,
   "id": "309ada13",
   "metadata": {},
   "outputs": [
    {
     "name": "stdout",
     "output_type": "stream",
     "text": [
      "The parameters {'colsample_bytree': 0.8, 'gamma': 0, 'learning_rate': 0.01, 'max_depth': 4, 'min_child_weight': 6, 'n_estimators': 5000, 'nthread': 4, 'objective': 'binary:logistic', 'reg_alpha': 0.005, 'scale_pos_weight': 1, 'subsample': 0.8} are the best.\n",
      "The best score is 0.89.\n"
     ]
    }
   ],
   "source": [
    "print(\"The parameters {} are the best.\".format(XGB.best_params_))\n",
    "print(\"The best score is {:.2f}.\".format(XGB.best_score_))"
   ]
  },
  {
   "cell_type": "markdown",
   "id": "0e1abeb4",
   "metadata": {},
   "source": [
    "#### 3.2.5 Decision Tree Classifier\n",
    "Decision Tree Classifier is a supervised learning technique that can be used for both classification and Regression problems, but mostly it is preferred for solving Classification problems. It is a tree-structured classifier, where internal nodes represent the features of a dataset, branches represent the decision rules and each leaf node represents the outcome."
   ]
  },
  {
   "cell_type": "code",
   "execution_count": 33,
   "id": "e3664137",
   "metadata": {},
   "outputs": [],
   "source": [
    "from sklearn.tree import DecisionTreeClassifier\n",
    "model = DecisionTreeClassifier()\n",
    "params={\n",
    "    'max_features':['auto','sqrt','log2'],\n",
    "    'min_samples_split':[2,3,4,5,6,7,8,9,10,11,12,13,14,15],\n",
    "    'min_samples_leaf':[1,2,3,4,5,6,7,8,9,10,11],\n",
    "    'random_state':[123],\n",
    "}\n",
    "DTC= GridSearchCV(model,param_grid=params,refit='True')"
   ]
  },
  {
   "cell_type": "code",
   "execution_count": 34,
   "id": "137a79d9",
   "metadata": {},
   "outputs": [
    {
     "data": {
      "text/plain": [
       "GridSearchCV(estimator=DecisionTreeClassifier(),\n",
       "             param_grid={'max_features': ['auto', 'sqrt', 'log2'],\n",
       "                         'min_samples_leaf': [1, 2, 3, 4, 5, 6, 7, 8, 9, 10,\n",
       "                                              11],\n",
       "                         'min_samples_split': [2, 3, 4, 5, 6, 7, 8, 9, 10, 11,\n",
       "                                               12, 13, 14, 15],\n",
       "                         'random_state': [123]},\n",
       "             refit='True')"
      ]
     },
     "execution_count": 34,
     "metadata": {},
     "output_type": "execute_result"
    }
   ],
   "source": [
    "DTC.fit(X_train,y_train)"
   ]
  },
  {
   "cell_type": "code",
   "execution_count": 35,
   "id": "c34895a4",
   "metadata": {},
   "outputs": [
    {
     "name": "stdout",
     "output_type": "stream",
     "text": [
      "The parameters {'max_features': 'auto', 'min_samples_leaf': 4, 'min_samples_split': 2, 'random_state': 123} are the best.\n",
      "The best score is 0.65.\n"
     ]
    }
   ],
   "source": [
    "print(\"The parameters {} are the best.\".format(DTC.best_params_))\n",
    "print(\"The best score is {:.2f}.\".format(DTC.best_score_))"
   ]
  },
  {
   "cell_type": "markdown",
   "id": "8bcb68dc",
   "metadata": {},
   "source": [
    "### 3.3: Training Model with best Parameters Comparison\n",
    "\n"
   ]
  },
  {
   "cell_type": "markdown",
   "id": "46dc8f51",
   "metadata": {},
   "source": [
    "In this section we will train all the model again using the hyperparameters values and then compare the results again."
   ]
  },
  {
   "cell_type": "code",
   "execution_count": 36,
   "id": "0199d565",
   "metadata": {},
   "outputs": [],
   "source": [
    "#List to store the score of the algorithms\n",
    "model_accuracy = {}\n",
    "\n",
    "\n",
    "{'criterion': 'entropy',\n",
    " 'max_features': 15,\n",
    " 'min_samples_leaf': 2,\n",
    " 'min_samples_split': 3,\n",
    " 'n_estimators': 30,\n",
    " 'random_state': 123}\n",
    "\n",
    "The best score is 0.90.\n"
   ]
  },
  {
   "cell_type": "markdown",
   "id": "b4ed1846",
   "metadata": {},
   "source": [
    "#### 3.3.1 Random Forest Classifier"
   ]
  },
  {
   "cell_type": "code",
   "execution_count": 37,
   "id": "ef0fc3e0",
   "metadata": {},
   "outputs": [],
   "source": [
    "#now we do training and prediction \n",
    "RF = RandomForestClassifier(criterion='entropy',\n",
    "                           max_depth= 10,\n",
    "                           max_features= 15,\n",
    "                           min_samples_leaf= 2,\n",
    "                           min_samples_split= 7,\n",
    "                           n_estimators= 25,\n",
    "                           random_state=123)\n"
   ]
  },
  {
   "cell_type": "code",
   "execution_count": 38,
   "id": "88aa8601",
   "metadata": {},
   "outputs": [
    {
     "data": {
      "text/plain": [
       "RandomForestClassifier(criterion='entropy', max_depth=10, max_features=15,\n",
       "                       min_samples_leaf=2, min_samples_split=7, n_estimators=25,\n",
       "                       random_state=123)"
      ]
     },
     "execution_count": 38,
     "metadata": {},
     "output_type": "execute_result"
    }
   ],
   "source": [
    "RF.fit(X_train, y_train)"
   ]
  },
  {
   "cell_type": "code",
   "execution_count": 39,
   "id": "758aba39",
   "metadata": {},
   "outputs": [],
   "source": [
    "y_pred  = RF.predict(X_test)"
   ]
  },
  {
   "cell_type": "code",
   "execution_count": 40,
   "id": "b8adc404",
   "metadata": {},
   "outputs": [
    {
     "data": {
      "text/html": [
       "<div>\n",
       "<style scoped>\n",
       "    .dataframe tbody tr th:only-of-type {\n",
       "        vertical-align: middle;\n",
       "    }\n",
       "\n",
       "    .dataframe tbody tr th {\n",
       "        vertical-align: top;\n",
       "    }\n",
       "\n",
       "    .dataframe thead th {\n",
       "        text-align: right;\n",
       "    }\n",
       "</style>\n",
       "<table border=\"1\" class=\"dataframe\">\n",
       "  <thead>\n",
       "    <tr style=\"text-align: right;\">\n",
       "      <th></th>\n",
       "      <th>precision</th>\n",
       "      <th>recall</th>\n",
       "      <th>f1-score</th>\n",
       "      <th>support</th>\n",
       "    </tr>\n",
       "  </thead>\n",
       "  <tbody>\n",
       "    <tr>\n",
       "      <th>0</th>\n",
       "      <td>0.953</td>\n",
       "      <td>0.959</td>\n",
       "      <td>0.956</td>\n",
       "      <td>169.000</td>\n",
       "    </tr>\n",
       "    <tr>\n",
       "      <th>1</th>\n",
       "      <td>0.873</td>\n",
       "      <td>0.895</td>\n",
       "      <td>0.884</td>\n",
       "      <td>162.000</td>\n",
       "    </tr>\n",
       "    <tr>\n",
       "      <th>2</th>\n",
       "      <td>0.878</td>\n",
       "      <td>0.846</td>\n",
       "      <td>0.862</td>\n",
       "      <td>162.000</td>\n",
       "    </tr>\n",
       "    <tr>\n",
       "      <th>3</th>\n",
       "      <td>0.935</td>\n",
       "      <td>0.940</td>\n",
       "      <td>0.937</td>\n",
       "      <td>167.000</td>\n",
       "    </tr>\n",
       "    <tr>\n",
       "      <th>accuracy</th>\n",
       "      <td>0.911</td>\n",
       "      <td>0.911</td>\n",
       "      <td>0.911</td>\n",
       "      <td>0.911</td>\n",
       "    </tr>\n",
       "    <tr>\n",
       "      <th>macro avg</th>\n",
       "      <td>0.910</td>\n",
       "      <td>0.910</td>\n",
       "      <td>0.910</td>\n",
       "      <td>660.000</td>\n",
       "    </tr>\n",
       "    <tr>\n",
       "      <th>weighted avg</th>\n",
       "      <td>0.910</td>\n",
       "      <td>0.911</td>\n",
       "      <td>0.910</td>\n",
       "      <td>660.000</td>\n",
       "    </tr>\n",
       "  </tbody>\n",
       "</table>\n",
       "</div>"
      ],
      "text/plain": [
       "              precision  recall  f1-score  support\n",
       "0                 0.953   0.959     0.956  169.000\n",
       "1                 0.873   0.895     0.884  162.000\n",
       "2                 0.878   0.846     0.862  162.000\n",
       "3                 0.935   0.940     0.937  167.000\n",
       "accuracy          0.911   0.911     0.911    0.911\n",
       "macro avg         0.910   0.910     0.910  660.000\n",
       "weighted avg      0.910   0.911     0.910  660.000"
      ]
     },
     "execution_count": 40,
     "metadata": {},
     "output_type": "execute_result"
    },
    {
     "name": "stdout",
     "output_type": "stream",
     "text": [
      "Random Forest Classifier Accuracy Score 0.91.\n"
     ]
    }
   ],
   "source": [
    "model_accuracy['RandomForest']= accuracy_score(y_test,y_pred)\n",
    "clax_report = classification_report(y_test,y_pred,output_dict=True)\n",
    "report_df = pd.DataFrame(clax_report).transpose()\n",
    "report_df\n",
    "print('Random Forest Classifier Accuracy Score {:.2f}.'.format(accuracy_score(y_test,y_pred),'\\n'))"
   ]
  },
  {
   "cell_type": "code",
   "execution_count": 41,
   "id": "d32d0c4e",
   "metadata": {},
   "outputs": [
    {
     "data": {
      "text/plain": [
       "<AxesSubplot:>"
      ]
     },
     "execution_count": 41,
     "metadata": {},
     "output_type": "execute_result"
    },
    {
     "data": {
      "text/plain": [
       "Text(0.5, 42.0, 'Predicted Values')"
      ]
     },
     "execution_count": 41,
     "metadata": {},
     "output_type": "execute_result"
    },
    {
     "data": {
      "text/plain": [
       "Text(42.0, 0.5, 'Actual Values')"
      ]
     },
     "execution_count": 41,
     "metadata": {},
     "output_type": "execute_result"
    },
    {
     "data": {
      "text/plain": [
       "Text(0.5, 1.0, 'RandomForest Accuracy Score 0.91 ')"
      ]
     },
     "execution_count": 41,
     "metadata": {},
     "output_type": "execute_result"
    },
    {
     "data": {
      "image/png": "[encoded data removed]",
      "text/plain": [
       "<Figure size 504x504 with 2 Axes>"
      ]
     },
     "metadata": {
      "needs_background": "light"
     },
     "output_type": "display_data"
    }
   ],
   "source": [
    "cm = confusion_matrix(y_test,y_pred)\n",
    "f, ax = plt.subplots(figsize=(7,7))\n",
    "sn.heatmap(cm, annot=True, fmt='d', ax=ax)\n",
    "plt.xlabel('Predicted Values')\n",
    "plt.ylabel('Actual Values')\n",
    "plt.title('RandomForest Accuracy Score {:.2f} '.format(accuracy_score(y_test,y_pred)))\n",
    "plt.show()\n",
    "f.savefig('Figures/RM.jpeg')"
   ]
  },
  {
   "cell_type": "markdown",
   "id": "b39ec12d",
   "metadata": {},
   "source": [
    "#### 3.3.2 Support Vector Machine"
   ]
  },
  {
   "cell_type": "code",
   "execution_count": 42,
   "id": "68df22bc",
   "metadata": {},
   "outputs": [],
   "source": [
    "from sklearn.svm import SVC\n",
    "first_SVC = SVC(kernel='linear',gamma=0.1,C=5)"
   ]
  },
  {
   "cell_type": "code",
   "execution_count": 43,
   "id": "79a2b9bc",
   "metadata": {},
   "outputs": [
    {
     "data": {
      "text/plain": [
       "SVC(C=5, gamma=0.1, kernel='linear')"
      ]
     },
     "execution_count": 43,
     "metadata": {},
     "output_type": "execute_result"
    }
   ],
   "source": [
    "first_SVC.fit(X_train, y_train)"
   ]
  },
  {
   "cell_type": "code",
   "execution_count": 44,
   "id": "4da79fd6",
   "metadata": {},
   "outputs": [],
   "source": [
    "y_pred  = first_SVC.predict(X_test)\n",
    "model_accuracy['SupportVectorC'] = accuracy_score(y_test,y_pred)"
   ]
  },
  {
   "cell_type": "code",
   "execution_count": 45,
   "id": "57757e77",
   "metadata": {
    "scrolled": true
   },
   "outputs": [
    {
     "data": {
      "text/html": [
       "<div>\n",
       "<style scoped>\n",
       "    .dataframe tbody tr th:only-of-type {\n",
       "        vertical-align: middle;\n",
       "    }\n",
       "\n",
       "    .dataframe tbody tr th {\n",
       "        vertical-align: top;\n",
       "    }\n",
       "\n",
       "    .dataframe thead th {\n",
       "        text-align: right;\n",
       "    }\n",
       "</style>\n",
       "<table border=\"1\" class=\"dataframe\">\n",
       "  <thead>\n",
       "    <tr style=\"text-align: right;\">\n",
       "      <th></th>\n",
       "      <th>precision</th>\n",
       "      <th>recall</th>\n",
       "      <th>f1-score</th>\n",
       "      <th>support</th>\n",
       "    </tr>\n",
       "  </thead>\n",
       "  <tbody>\n",
       "    <tr>\n",
       "      <th>0</th>\n",
       "      <td>0.994</td>\n",
       "      <td>0.994</td>\n",
       "      <td>0.994</td>\n",
       "      <td>169.000</td>\n",
       "    </tr>\n",
       "    <tr>\n",
       "      <th>1</th>\n",
       "      <td>0.970</td>\n",
       "      <td>0.988</td>\n",
       "      <td>0.979</td>\n",
       "      <td>162.000</td>\n",
       "    </tr>\n",
       "    <tr>\n",
       "      <th>2</th>\n",
       "      <td>0.975</td>\n",
       "      <td>0.951</td>\n",
       "      <td>0.963</td>\n",
       "      <td>162.000</td>\n",
       "    </tr>\n",
       "    <tr>\n",
       "      <th>3</th>\n",
       "      <td>0.976</td>\n",
       "      <td>0.982</td>\n",
       "      <td>0.979</td>\n",
       "      <td>167.000</td>\n",
       "    </tr>\n",
       "    <tr>\n",
       "      <th>accuracy</th>\n",
       "      <td>0.979</td>\n",
       "      <td>0.979</td>\n",
       "      <td>0.979</td>\n",
       "      <td>0.979</td>\n",
       "    </tr>\n",
       "    <tr>\n",
       "      <th>macro avg</th>\n",
       "      <td>0.979</td>\n",
       "      <td>0.979</td>\n",
       "      <td>0.979</td>\n",
       "      <td>660.000</td>\n",
       "    </tr>\n",
       "    <tr>\n",
       "      <th>weighted avg</th>\n",
       "      <td>0.979</td>\n",
       "      <td>0.979</td>\n",
       "      <td>0.979</td>\n",
       "      <td>660.000</td>\n",
       "    </tr>\n",
       "  </tbody>\n",
       "</table>\n",
       "</div>"
      ],
      "text/plain": [
       "              precision  recall  f1-score  support\n",
       "0                 0.994   0.994     0.994  169.000\n",
       "1                 0.970   0.988     0.979  162.000\n",
       "2                 0.975   0.951     0.963  162.000\n",
       "3                 0.976   0.982     0.979  167.000\n",
       "accuracy          0.979   0.979     0.979    0.979\n",
       "macro avg         0.979   0.979     0.979  660.000\n",
       "weighted avg      0.979   0.979     0.979  660.000"
      ]
     },
     "execution_count": 45,
     "metadata": {},
     "output_type": "execute_result"
    },
    {
     "name": "stdout",
     "output_type": "stream",
     "text": [
      "Support Vector Machine Classifier Accuracy Score 0.98 \n"
     ]
    }
   ],
   "source": [
    "clax_report = classification_report(y_test,y_pred,output_dict=True)\n",
    "report_df = pd.DataFrame(clax_report).transpose()\n",
    "report_df\n",
    "print('Support Vector Machine Classifier Accuracy Score {:.2f} '.format(accuracy_score(y_test,y_pred),'\\n'))"
   ]
  },
  {
   "cell_type": "code",
   "execution_count": 46,
   "id": "511b33cc",
   "metadata": {},
   "outputs": [
    {
     "data": {
      "text/plain": [
       "<AxesSubplot:>"
      ]
     },
     "execution_count": 46,
     "metadata": {},
     "output_type": "execute_result"
    },
    {
     "data": {
      "text/plain": [
       "Text(0.5, 42.0, 'Predicted Values')"
      ]
     },
     "execution_count": 46,
     "metadata": {},
     "output_type": "execute_result"
    },
    {
     "data": {
      "text/plain": [
       "Text(42.0, 0.5, 'Actual Values')"
      ]
     },
     "execution_count": 46,
     "metadata": {},
     "output_type": "execute_result"
    },
    {
     "data": {
      "text/plain": [
       "Text(0.5, 1.0, 'Support Vector Accuracy Score 0.98 ')"
      ]
     },
     "execution_count": 46,
     "metadata": {},
     "output_type": "execute_result"
    },
    {
     "data": {
      "image/png": "[encoded data removed]",
      "text/plain": [
       "<Figure size 504x504 with 2 Axes>"
      ]
     },
     "metadata": {
      "needs_background": "light"
     },
     "output_type": "display_data"
    }
   ],
   "source": [
    "cm = confusion_matrix(y_test,y_pred)\n",
    "f, ax = plt.subplots(figsize=(7,7))\n",
    "sn.heatmap(cm, annot=True, fmt='d', ax=ax)\n",
    "plt.xlabel('Predicted Values')\n",
    "plt.ylabel('Actual Values')\n",
    "plt.title('Support Vector Accuracy Score {:.2f} '.format(accuracy_score(y_test,y_pred)))\n",
    "plt.show()\n",
    "f.savefig('Figures/SVM.jpeg')"
   ]
  },
  {
   "cell_type": "markdown",
   "id": "ca463417",
   "metadata": {},
   "source": [
    "#### 3.3.3 Gaussian Naive Bayes (GaussianNB)."
   ]
  },
  {
   "cell_type": "code",
   "execution_count": 47,
   "id": "334a86bd",
   "metadata": {},
   "outputs": [],
   "source": [
    "GNB = GaussianNB(var_smoothing= 1e-05)"
   ]
  },
  {
   "cell_type": "code",
   "execution_count": 48,
   "id": "4fc1b74f",
   "metadata": {},
   "outputs": [
    {
     "data": {
      "text/plain": [
       "GaussianNB(var_smoothing=1e-05)"
      ]
     },
     "execution_count": 48,
     "metadata": {},
     "output_type": "execute_result"
    }
   ],
   "source": [
    "GNB.fit(X_train, y_train)"
   ]
  },
  {
   "cell_type": "code",
   "execution_count": 49,
   "id": "3e962631",
   "metadata": {},
   "outputs": [],
   "source": [
    "y_pred  = GNB.predict(X_test)\n",
    "model_accuracy['GaussianNB'] = accuracy_score(y_test,y_pred)"
   ]
  },
  {
   "cell_type": "code",
   "execution_count": 50,
   "id": "3a73cd52",
   "metadata": {},
   "outputs": [
    {
     "data": {
      "text/html": [
       "<div>\n",
       "<style scoped>\n",
       "    .dataframe tbody tr th:only-of-type {\n",
       "        vertical-align: middle;\n",
       "    }\n",
       "\n",
       "    .dataframe tbody tr th {\n",
       "        vertical-align: top;\n",
       "    }\n",
       "\n",
       "    .dataframe thead th {\n",
       "        text-align: right;\n",
       "    }\n",
       "</style>\n",
       "<table border=\"1\" class=\"dataframe\">\n",
       "  <thead>\n",
       "    <tr style=\"text-align: right;\">\n",
       "      <th></th>\n",
       "      <th>precision</th>\n",
       "      <th>recall</th>\n",
       "      <th>f1-score</th>\n",
       "      <th>support</th>\n",
       "    </tr>\n",
       "  </thead>\n",
       "  <tbody>\n",
       "    <tr>\n",
       "      <th>0</th>\n",
       "      <td>0.934</td>\n",
       "      <td>0.923</td>\n",
       "      <td>0.929</td>\n",
       "      <td>169.000</td>\n",
       "    </tr>\n",
       "    <tr>\n",
       "      <th>1</th>\n",
       "      <td>0.753</td>\n",
       "      <td>0.735</td>\n",
       "      <td>0.744</td>\n",
       "      <td>162.000</td>\n",
       "    </tr>\n",
       "    <tr>\n",
       "      <th>2</th>\n",
       "      <td>0.678</td>\n",
       "      <td>0.728</td>\n",
       "      <td>0.702</td>\n",
       "      <td>162.000</td>\n",
       "    </tr>\n",
       "    <tr>\n",
       "      <th>3</th>\n",
       "      <td>0.888</td>\n",
       "      <td>0.856</td>\n",
       "      <td>0.872</td>\n",
       "      <td>167.000</td>\n",
       "    </tr>\n",
       "    <tr>\n",
       "      <th>accuracy</th>\n",
       "      <td>0.812</td>\n",
       "      <td>0.812</td>\n",
       "      <td>0.812</td>\n",
       "      <td>0.812</td>\n",
       "    </tr>\n",
       "    <tr>\n",
       "      <th>macro avg</th>\n",
       "      <td>0.813</td>\n",
       "      <td>0.811</td>\n",
       "      <td>0.812</td>\n",
       "      <td>660.000</td>\n",
       "    </tr>\n",
       "    <tr>\n",
       "      <th>weighted avg</th>\n",
       "      <td>0.815</td>\n",
       "      <td>0.812</td>\n",
       "      <td>0.813</td>\n",
       "      <td>660.000</td>\n",
       "    </tr>\n",
       "  </tbody>\n",
       "</table>\n",
       "</div>"
      ],
      "text/plain": [
       "              precision  recall  f1-score  support\n",
       "0                 0.934   0.923     0.929  169.000\n",
       "1                 0.753   0.735     0.744  162.000\n",
       "2                 0.678   0.728     0.702  162.000\n",
       "3                 0.888   0.856     0.872  167.000\n",
       "accuracy          0.812   0.812     0.812    0.812\n",
       "macro avg         0.813   0.811     0.812  660.000\n",
       "weighted avg      0.815   0.812     0.813  660.000"
      ]
     },
     "execution_count": 50,
     "metadata": {},
     "output_type": "execute_result"
    },
    {
     "name": "stdout",
     "output_type": "stream",
     "text": [
      "Gaussian Naive Bayes Accuracy Score: 0.81.\n"
     ]
    }
   ],
   "source": [
    "clax_report = classification_report(y_test,y_pred,output_dict=True)\n",
    "report_df = pd.DataFrame(clax_report).transpose()\n",
    "report_df\n",
    "print('Gaussian Naive Bayes Accuracy Score: {:.2f}.'.format(accuracy_score(y_test,y_pred),'\\n'))"
   ]
  },
  {
   "cell_type": "code",
   "execution_count": 51,
   "id": "3daa56ef",
   "metadata": {},
   "outputs": [
    {
     "data": {
      "text/plain": [
       "<AxesSubplot:>"
      ]
     },
     "execution_count": 51,
     "metadata": {},
     "output_type": "execute_result"
    },
    {
     "data": {
      "text/plain": [
       "Text(0.5, 42.0, 'Predicted Values')"
      ]
     },
     "execution_count": 51,
     "metadata": {},
     "output_type": "execute_result"
    },
    {
     "data": {
      "text/plain": [
       "Text(42.0, 0.5, 'Actual Values')"
      ]
     },
     "execution_count": 51,
     "metadata": {},
     "output_type": "execute_result"
    },
    {
     "data": {
      "text/plain": [
       "Text(0.5, 1.0, 'Naive Bayes Accuracy Score 0.81 ')"
      ]
     },
     "execution_count": 51,
     "metadata": {},
     "output_type": "execute_result"
    },
    {
     "data": {
      "image/png": "[encoded data removed]",
      "text/plain": [
       "<Figure size 504x504 with 2 Axes>"
      ]
     },
     "metadata": {
      "needs_background": "light"
     },
     "output_type": "display_data"
    }
   ],
   "source": [
    "cm = confusion_matrix(y_test,y_pred)\n",
    "f, ax = plt.subplots(figsize=(7,7))\n",
    "sn.heatmap(cm, annot=True, fmt='d', ax=ax)\n",
    "plt.xlabel('Predicted Values')\n",
    "plt.ylabel('Actual Values')\n",
    "plt.title('Naive Bayes Accuracy Score {:.2f} '.format(accuracy_score(y_test,y_pred)))\n",
    "plt.show()\n",
    "f.savefig('Figures/naiveB.jpeg')"
   ]
  },
  {
   "cell_type": "markdown",
   "id": "1771efd8",
   "metadata": {},
   "source": [
    "#### 3.3.4  XGBOOST "
   ]
  },
  {
   "cell_type": "code",
   "execution_count": 52,
   "id": "2850a7b6",
   "metadata": {},
   "outputs": [],
   "source": [
    "XGB = XGBClassifier(colsample_bytree=0.8, gamma= 0, learning_rate= 0.01, max_depth = 4, min_child_weight= 6,\n",
    "                     n_estimators= 5000, nthread = 4, objective = 'binary:logistic',reg_alpha = 0.005,\n",
    "                     scale_pos_weight= 1, subsample = 0.8)\n"
   ]
  },
  {
   "cell_type": "code",
   "execution_count": 53,
   "id": "e785ae1c",
   "metadata": {},
   "outputs": [
    {
     "name": "stdout",
     "output_type": "stream",
     "text": [
      "[00:47:26] WARNING: ..\\src\\learner.cc:576: \n",
      "Parameters: { \"scale_pos_weight\" } might not be used.\n",
      "\n",
      "  This could be a false alarm, with some parameters getting used by language bindings but\n",
      "  then being mistakenly passed down to XGBoost core, or some parameter actually being used\n",
      "  but getting flagged wrongly here. Please open an issue if you find any such cases.\n",
      "\n",
      "\n",
      "[00:47:26] WARNING: ..\\src\\learner.cc:1115: Starting in XGBoost 1.3.0, the default evaluation metric used with the objective 'multi:softprob' was changed from 'merror' to 'mlogloss'. Explicitly set eval_metric if you'd like to restore the old behavior.\n"
     ]
    },
    {
     "data": {
      "text/plain": [
       "XGBClassifier(base_score=0.5, booster='gbtree', colsample_bylevel=1,\n",
       "              colsample_bynode=1, colsample_bytree=0.8,\n",
       "              enable_categorical=False, gamma=0, gpu_id=-1,\n",
       "              importance_type=None, interaction_constraints='',\n",
       "              learning_rate=0.01, max_delta_step=0, max_depth=4,\n",
       "              min_child_weight=6, missing=nan, monotone_constraints='()',\n",
       "              n_estimators=5000, n_jobs=4, nthread=4, num_parallel_tree=1,\n",
       "              objective='multi:softprob', predictor='auto', random_state=0,\n",
       "              reg_alpha=0.005, reg_lambda=1, scale_pos_weight=1, subsample=0.8,\n",
       "              tree_method='exact', validate_parameters=1, verbosity=None)"
      ]
     },
     "execution_count": 53,
     "metadata": {},
     "output_type": "execute_result"
    }
   ],
   "source": [
    "XGB.fit(X_train, y_train)"
   ]
  },
  {
   "cell_type": "code",
   "execution_count": 54,
   "id": "b364e0e2",
   "metadata": {},
   "outputs": [],
   "source": [
    "y_pred  = XGB.predict(X_test)\n",
    "model_accuracy['XGBOOST'] = accuracy_score(y_test,y_pred)"
   ]
  },
  {
   "cell_type": "code",
   "execution_count": 55,
   "id": "04fc6fe4",
   "metadata": {},
   "outputs": [
    {
     "data": {
      "text/html": [
       "<div>\n",
       "<style scoped>\n",
       "    .dataframe tbody tr th:only-of-type {\n",
       "        vertical-align: middle;\n",
       "    }\n",
       "\n",
       "    .dataframe tbody tr th {\n",
       "        vertical-align: top;\n",
       "    }\n",
       "\n",
       "    .dataframe thead th {\n",
       "        text-align: right;\n",
       "    }\n",
       "</style>\n",
       "<table border=\"1\" class=\"dataframe\">\n",
       "  <thead>\n",
       "    <tr style=\"text-align: right;\">\n",
       "      <th></th>\n",
       "      <th>precision</th>\n",
       "      <th>recall</th>\n",
       "      <th>f1-score</th>\n",
       "      <th>support</th>\n",
       "    </tr>\n",
       "  </thead>\n",
       "  <tbody>\n",
       "    <tr>\n",
       "      <th>0</th>\n",
       "      <td>0.964</td>\n",
       "      <td>0.953</td>\n",
       "      <td>0.958</td>\n",
       "      <td>169.000</td>\n",
       "    </tr>\n",
       "    <tr>\n",
       "      <th>1</th>\n",
       "      <td>0.865</td>\n",
       "      <td>0.907</td>\n",
       "      <td>0.886</td>\n",
       "      <td>162.000</td>\n",
       "    </tr>\n",
       "    <tr>\n",
       "      <th>2</th>\n",
       "      <td>0.860</td>\n",
       "      <td>0.833</td>\n",
       "      <td>0.846</td>\n",
       "      <td>162.000</td>\n",
       "    </tr>\n",
       "    <tr>\n",
       "      <th>3</th>\n",
       "      <td>0.928</td>\n",
       "      <td>0.922</td>\n",
       "      <td>0.925</td>\n",
       "      <td>167.000</td>\n",
       "    </tr>\n",
       "    <tr>\n",
       "      <th>accuracy</th>\n",
       "      <td>0.905</td>\n",
       "      <td>0.905</td>\n",
       "      <td>0.905</td>\n",
       "      <td>0.905</td>\n",
       "    </tr>\n",
       "    <tr>\n",
       "      <th>macro avg</th>\n",
       "      <td>0.904</td>\n",
       "      <td>0.904</td>\n",
       "      <td>0.904</td>\n",
       "      <td>660.000</td>\n",
       "    </tr>\n",
       "    <tr>\n",
       "      <th>weighted avg</th>\n",
       "      <td>0.905</td>\n",
       "      <td>0.905</td>\n",
       "      <td>0.905</td>\n",
       "      <td>660.000</td>\n",
       "    </tr>\n",
       "  </tbody>\n",
       "</table>\n",
       "</div>"
      ],
      "text/plain": [
       "              precision  recall  f1-score  support\n",
       "0                 0.964   0.953     0.958  169.000\n",
       "1                 0.865   0.907     0.886  162.000\n",
       "2                 0.860   0.833     0.846  162.000\n",
       "3                 0.928   0.922     0.925  167.000\n",
       "accuracy          0.905   0.905     0.905    0.905\n",
       "macro avg         0.904   0.904     0.904  660.000\n",
       "weighted avg      0.905   0.905     0.905  660.000"
      ]
     },
     "execution_count": 55,
     "metadata": {},
     "output_type": "execute_result"
    },
    {
     "name": "stdout",
     "output_type": "stream",
     "text": [
      "Extreme Gradient Boosting Accuracy Score: 0.9045454545454545 \n",
      "\n"
     ]
    }
   ],
   "source": [
    "clax_report = classification_report(y_test,y_pred,output_dict=True)\n",
    "report_df = pd.DataFrame(clax_report).transpose()\n",
    "report_df\n",
    "print('Extreme Gradient Boosting Accuracy Score:',accuracy_score(y_test,y_pred),'\\n')"
   ]
  },
  {
   "cell_type": "code",
   "execution_count": 56,
   "id": "d945297d",
   "metadata": {},
   "outputs": [
    {
     "data": {
      "text/plain": [
       "<AxesSubplot:>"
      ]
     },
     "execution_count": 56,
     "metadata": {},
     "output_type": "execute_result"
    },
    {
     "data": {
      "text/plain": [
       "Text(0.5, 42.0, 'Predicted Values')"
      ]
     },
     "execution_count": 56,
     "metadata": {},
     "output_type": "execute_result"
    },
    {
     "data": {
      "text/plain": [
       "Text(42.0, 0.5, 'Actual Values')"
      ]
     },
     "execution_count": 56,
     "metadata": {},
     "output_type": "execute_result"
    },
    {
     "data": {
      "text/plain": [
       "Text(0.5, 1.0, 'XGBoost Accuracy Score 0.90 ')"
      ]
     },
     "execution_count": 56,
     "metadata": {},
     "output_type": "execute_result"
    },
    {
     "data": {
      "image/png": "[encoded data removed]",
      "text/plain": [
       "<Figure size 504x504 with 2 Axes>"
      ]
     },
     "metadata": {
      "needs_background": "light"
     },
     "output_type": "display_data"
    }
   ],
   "source": [
    "cm = confusion_matrix(y_test,y_pred)\n",
    "f, ax = plt.subplots(figsize=(7,7))\n",
    "sn.heatmap(cm, annot=True, fmt='d', ax=ax)\n",
    "plt.xlabel('Predicted Values')\n",
    "plt.ylabel('Actual Values')\n",
    "plt.title('XGBoost Accuracy Score {:.2f} '.format(accuracy_score(y_test,y_pred)))\n",
    "plt.show()\n",
    "f.savefig('Figures/xgboost.jpeg')"
   ]
  },
  {
   "cell_type": "markdown",
   "id": "53f5fc8a",
   "metadata": {},
   "source": [
    "#### 3.3.5 Decision Tree Classifier "
   ]
  },
  {
   "cell_type": "code",
   "execution_count": 57,
   "id": "2edcb13f",
   "metadata": {},
   "outputs": [],
   "source": [
    "from sklearn.tree import DecisionTreeClassifier\n",
    "DTC= DecisionTreeClassifier(max_features ='auto', min_samples_leaf = 4, min_samples_split= 2, random_state = 123)"
   ]
  },
  {
   "cell_type": "code",
   "execution_count": 58,
   "id": "f42490cf",
   "metadata": {},
   "outputs": [
    {
     "data": {
      "text/plain": [
       "DecisionTreeClassifier(max_features='auto', min_samples_leaf=4,\n",
       "                       random_state=123)"
      ]
     },
     "execution_count": 58,
     "metadata": {},
     "output_type": "execute_result"
    }
   ],
   "source": [
    "DTC.fit(X_train, y_train)"
   ]
  },
  {
   "cell_type": "code",
   "execution_count": 59,
   "id": "0ca00dc4",
   "metadata": {},
   "outputs": [],
   "source": [
    "y_pred  = DTC.predict(X_test)\n",
    "model_accuracy['DecisionTree'] = accuracy_score(y_test,y_pred)"
   ]
  },
  {
   "cell_type": "code",
   "execution_count": 60,
   "id": "43713969",
   "metadata": {},
   "outputs": [
    {
     "data": {
      "text/html": [
       "<div>\n",
       "<style scoped>\n",
       "    .dataframe tbody tr th:only-of-type {\n",
       "        vertical-align: middle;\n",
       "    }\n",
       "\n",
       "    .dataframe tbody tr th {\n",
       "        vertical-align: top;\n",
       "    }\n",
       "\n",
       "    .dataframe thead th {\n",
       "        text-align: right;\n",
       "    }\n",
       "</style>\n",
       "<table border=\"1\" class=\"dataframe\">\n",
       "  <thead>\n",
       "    <tr style=\"text-align: right;\">\n",
       "      <th></th>\n",
       "      <th>precision</th>\n",
       "      <th>recall</th>\n",
       "      <th>f1-score</th>\n",
       "      <th>support</th>\n",
       "    </tr>\n",
       "  </thead>\n",
       "  <tbody>\n",
       "    <tr>\n",
       "      <th>0</th>\n",
       "      <td>0.746</td>\n",
       "      <td>0.817</td>\n",
       "      <td>0.780</td>\n",
       "      <td>169.000</td>\n",
       "    </tr>\n",
       "    <tr>\n",
       "      <th>1</th>\n",
       "      <td>0.555</td>\n",
       "      <td>0.531</td>\n",
       "      <td>0.543</td>\n",
       "      <td>162.000</td>\n",
       "    </tr>\n",
       "    <tr>\n",
       "      <th>2</th>\n",
       "      <td>0.573</td>\n",
       "      <td>0.506</td>\n",
       "      <td>0.538</td>\n",
       "      <td>162.000</td>\n",
       "    </tr>\n",
       "    <tr>\n",
       "      <th>3</th>\n",
       "      <td>0.678</td>\n",
       "      <td>0.719</td>\n",
       "      <td>0.698</td>\n",
       "      <td>167.000</td>\n",
       "    </tr>\n",
       "    <tr>\n",
       "      <th>accuracy</th>\n",
       "      <td>0.645</td>\n",
       "      <td>0.645</td>\n",
       "      <td>0.645</td>\n",
       "      <td>0.645</td>\n",
       "    </tr>\n",
       "    <tr>\n",
       "      <th>macro avg</th>\n",
       "      <td>0.638</td>\n",
       "      <td>0.643</td>\n",
       "      <td>0.639</td>\n",
       "      <td>660.000</td>\n",
       "    </tr>\n",
       "    <tr>\n",
       "      <th>weighted avg</th>\n",
       "      <td>0.639</td>\n",
       "      <td>0.645</td>\n",
       "      <td>0.641</td>\n",
       "      <td>660.000</td>\n",
       "    </tr>\n",
       "  </tbody>\n",
       "</table>\n",
       "</div>"
      ],
      "text/plain": [
       "              precision  recall  f1-score  support\n",
       "0                 0.746   0.817     0.780  169.000\n",
       "1                 0.555   0.531     0.543  162.000\n",
       "2                 0.573   0.506     0.538  162.000\n",
       "3                 0.678   0.719     0.698  167.000\n",
       "accuracy          0.645   0.645     0.645    0.645\n",
       "macro avg         0.638   0.643     0.639  660.000\n",
       "weighted avg      0.639   0.645     0.641  660.000"
      ]
     },
     "execution_count": 60,
     "metadata": {},
     "output_type": "execute_result"
    },
    {
     "name": "stdout",
     "output_type": "stream",
     "text": [
      "Decision Tree Classifier Accuracy Score: 0.65\n"
     ]
    }
   ],
   "source": [
    "clax_report = classification_report(y_test,y_pred,output_dict=True)\n",
    "report_df = pd.DataFrame(clax_report).transpose()\n",
    "report_df\n",
    "print('Decision Tree Classifier Accuracy Score: {:.2f}'.format(accuracy_score(y_test,y_pred),'\\n'))"
   ]
  },
  {
   "cell_type": "code",
   "execution_count": 61,
   "id": "1da9a2ea",
   "metadata": {},
   "outputs": [
    {
     "data": {
      "text/plain": [
       "<AxesSubplot:>"
      ]
     },
     "execution_count": 61,
     "metadata": {},
     "output_type": "execute_result"
    },
    {
     "data": {
      "text/plain": [
       "Text(0.5, 42.0, 'Predicted Values')"
      ]
     },
     "execution_count": 61,
     "metadata": {},
     "output_type": "execute_result"
    },
    {
     "data": {
      "text/plain": [
       "Text(42.0, 0.5, 'Actual Values')"
      ]
     },
     "execution_count": 61,
     "metadata": {},
     "output_type": "execute_result"
    },
    {
     "data": {
      "text/plain": [
       "Text(0.5, 1.0, 'Decision Tree Score 0.65 ')"
      ]
     },
     "execution_count": 61,
     "metadata": {},
     "output_type": "execute_result"
    },
    {
     "data": {
      "image/png": "[encoded data removed]",
      "text/plain": [
       "<Figure size 504x504 with 2 Axes>"
      ]
     },
     "metadata": {
      "needs_background": "light"
     },
     "output_type": "display_data"
    }
   ],
   "source": [
    "cm = confusion_matrix(y_test,y_pred)\n",
    "f, ax = plt.subplots(figsize=(7,7))\n",
    "sn.heatmap(cm, annot=True, fmt='d', ax=ax)\n",
    "plt.xlabel('Predicted Values')\n",
    "plt.ylabel('Actual Values')\n",
    "plt.title('Decision Tree Score {:.2f} '.format(accuracy_score(y_test,y_pred)))\n",
    "plt.show()\n",
    "f.savefig('Figures/DTC.jpeg')"
   ]
  },
  {
   "cell_type": "markdown",
   "id": "e5cdeb3b",
   "metadata": {},
   "source": [
    "### 3.4: Final Accuracy Prediction Results & Model Selection "
   ]
  },
  {
   "cell_type": "markdown",
   "id": "49376c38",
   "metadata": {},
   "source": [
    "After doing training the model using hyperparameters now we will visualize the performance score of each model and choose the one with the highest accuracy.\n",
    "\n",
    "The figure below show that the highest accuracy model is obtained by Support Vector Machine with the accuracy score of approximately 0.98 and the lowest high accuracy is shown in Decision Tree Classifier with the accuracy of 0.64.\n",
    "\n",
    "Therefore we select Support Vector Machine (SVC) as our final model for prediction the price range of the mobile\n"
   ]
  },
  {
   "cell_type": "code",
   "execution_count": 62,
   "id": "55ddcaa6",
   "metadata": {},
   "outputs": [
    {
     "data": {
      "text/plain": [
       "Text(0.5, 1.0, 'The Final Model Perfomance Result Score')"
      ]
     },
     "execution_count": 62,
     "metadata": {},
     "output_type": "execute_result"
    },
    {
     "data": {
      "image/png": "[encoded data removed]",
      "text/plain": [
       "<Figure size 504x504 with 1 Axes>"
      ]
     },
     "metadata": {
      "needs_background": "light"
     },
     "output_type": "display_data"
    }
   ],
   "source": [
    "fig, ax = plt.subplots(figsize=(7,7))\n",
    "models= pd.DataFrame.from_dict(model_accuracy, orient=\"index\").reset_index()\n",
    "models.columns = ['Model','Accuracy']\n",
    "plt.title('The Final Model Perfomance Result Score')\n",
    "ax = sn.barplot(x=\"Model\", y=\"Accuracy\", data=models, ax=ax)\n",
    "ax.tick_params(axis='x', rotation=45)\n",
    "fig.savefig('Figures/final_model_validator.jpeg')"
   ]
  },
  {
   "cell_type": "markdown",
   "id": "a36f455b",
   "metadata": {},
   "source": [
    "## Section 4: Testing Analysis of The Final Model (SVC)\n",
    "\n",
    "After see the comparison of the different model now we will use Support Vector Machine to predict price range of the mobile phone. Here we will use the test data set (unseen data) to predict the price range and then evaluate it performance"
   ]
  },
  {
   "cell_type": "markdown",
   "id": "46c6b7e9",
   "metadata": {},
   "source": [
    "### 4.1: Model Evaluation (with 20 features) "
   ]
  },
  {
   "cell_type": "code",
   "execution_count": 94,
   "id": "48fb21b7",
   "metadata": {},
   "outputs": [],
   "source": [
    "#keeping the list scores\n",
    "scores_list={}"
   ]
  },
  {
   "cell_type": "code",
   "execution_count": 95,
   "id": "4b6a9379",
   "metadata": {},
   "outputs": [],
   "source": [
    "from sklearn.svm import SVC\n",
    "first_SVC = SVC(kernel='linear',gamma=0.1,C=5)"
   ]
  },
  {
   "cell_type": "code",
   "execution_count": 96,
   "id": "2daacb05",
   "metadata": {},
   "outputs": [
    {
     "data": {
      "text/plain": [
       "SVC(C=5, gamma=0.1, kernel='linear')"
      ]
     },
     "execution_count": 96,
     "metadata": {},
     "output_type": "execute_result"
    }
   ],
   "source": [
    "first_SVC.fit(X_train, y_train)"
   ]
  },
  {
   "cell_type": "code",
   "execution_count": 97,
   "id": "be5cf89c",
   "metadata": {},
   "outputs": [],
   "source": [
    "y_pred  = first_SVC.predict(X_test)"
   ]
  },
  {
   "cell_type": "markdown",
   "id": "a9bd3028",
   "metadata": {},
   "source": [
    "#### Classification Report Of First SVC Model"
   ]
  },
  {
   "cell_type": "code",
   "execution_count": 98,
   "id": "4ba40c21",
   "metadata": {},
   "outputs": [
    {
     "name": "stdout",
     "output_type": "stream",
     "text": [
      "SVC Accuracy Score with 20 features 0.98 \n",
      "              precision    recall  f1-score   support\n",
      "\n",
      "           0       0.99      0.99      0.99       169\n",
      "           1       0.97      0.99      0.98       162\n",
      "           2       0.97      0.95      0.96       162\n",
      "           3       0.98      0.98      0.98       167\n",
      "\n",
      "    accuracy                           0.98       660\n",
      "   macro avg       0.98      0.98      0.98       660\n",
      "weighted avg       0.98      0.98      0.98       660\n",
      "\n"
     ]
    }
   ],
   "source": [
    "#scores_list['SVC with 20 features'] = accuracy_score(y_test,y_pred)\n",
    "scores_list['First SVC'] = accuracy_score(y_test,y_pred)\n",
    "print('SVC Accuracy Score with 20 features {:.2f} '.format(accuracy_score(y_test,y_pred),'\\n'))\n",
    "print(classification_report(y_test, y_pred))"
   ]
  },
  {
   "cell_type": "markdown",
   "id": "912601d2",
   "metadata": {},
   "source": [
    "#### Confusion Matrix of First SVC Model"
   ]
  },
  {
   "cell_type": "code",
   "execution_count": 99,
   "id": "bd2fe943",
   "metadata": {},
   "outputs": [
    {
     "data": {
      "text/plain": [
       "<AxesSubplot:>"
      ]
     },
     "execution_count": 99,
     "metadata": {},
     "output_type": "execute_result"
    },
    {
     "data": {
      "text/plain": [
       "Text(0.5, 42.0, 'Predicted Values')"
      ]
     },
     "execution_count": 99,
     "metadata": {},
     "output_type": "execute_result"
    },
    {
     "data": {
      "text/plain": [
       "Text(42.0, 0.5, 'Actual Values')"
      ]
     },
     "execution_count": 99,
     "metadata": {},
     "output_type": "execute_result"
    },
    {
     "data": {
      "text/plain": [
       "Text(0.5, 1.0, 'First SVC with Accuracy Score 0.98 ')"
      ]
     },
     "execution_count": 99,
     "metadata": {},
     "output_type": "execute_result"
    },
    {
     "data": {
      "image/png": "[encoded data removed]",
      "text/plain": [
       "<Figure size 504x504 with 2 Axes>"
      ]
     },
     "metadata": {
      "needs_background": "light"
     },
     "output_type": "display_data"
    }
   ],
   "source": [
    "cm = confusion_matrix(y_test,y_pred)\n",
    "f, ax = plt.subplots(figsize=(7,7))\n",
    "sn.heatmap(cm, annot=True, fmt='d', ax=ax)\n",
    "plt.xlabel('Predicted Values')\n",
    "plt.ylabel('Actual Values')\n",
    "plt.title('First SVC with Accuracy Score {:.2f} '.format(accuracy_score(y_test,y_pred)))\n",
    "plt.show()\n",
    "f.savefig('Figures/first_svc.jpeg')"
   ]
  },
  {
   "cell_type": "markdown",
   "id": "a33fa710",
   "metadata": {},
   "source": [
    "### 4.2: Model Evaluation with best features\n",
    "\n",
    "Here we will use the best features: \n",
    "     RAM\n",
    "     battery power\n",
    "     pixel resolution width and height\n",
    "to train our model"
   ]
  },
  {
   "cell_type": "code",
   "execution_count": 100,
   "id": "c646bc4d",
   "metadata": {},
   "outputs": [],
   "source": [
    "#data split\n",
    "\n",
    "X_new = mobile[['battery_power','px_height','px_width','ram']]\n",
    "Y_new = mobile[['price_range']]"
   ]
  },
  {
   "cell_type": "code",
   "execution_count": 101,
   "id": "98355b5d",
   "metadata": {},
   "outputs": [
    {
     "data": {
      "text/plain": [
       "(2000, 4)"
      ]
     },
     "execution_count": 101,
     "metadata": {},
     "output_type": "execute_result"
    }
   ],
   "source": [
    "X_new.shape"
   ]
  },
  {
   "cell_type": "code",
   "execution_count": 86,
   "id": "cf7ca405",
   "metadata": {},
   "outputs": [],
   "source": [
    "#split the datasets\n",
    "from sklearn.model_selection import train_test_split\n",
    "X_train_new,X_test_new,y_train_new,y_test_new = train_test_split(X_new,Y_new,test_size=0.3)"
   ]
  },
  {
   "cell_type": "markdown",
   "id": "ea2e41fc",
   "metadata": {},
   "source": [
    "#### Training the model"
   ]
  },
  {
   "cell_type": "code",
   "execution_count": 90,
   "id": "b0119e9c",
   "metadata": {},
   "outputs": [],
   "source": [
    "from sklearn.svm import SVC\n",
    "second_SVC = SVC(kernel='linear',gamma=0.1,C=5)"
   ]
  },
  {
   "cell_type": "code",
   "execution_count": 91,
   "id": "8262837b",
   "metadata": {},
   "outputs": [
    {
     "data": {
      "text/plain": [
       "SVC(C=5, gamma=0.1, kernel='linear')"
      ]
     },
     "execution_count": 91,
     "metadata": {},
     "output_type": "execute_result"
    }
   ],
   "source": [
    "second_SVC.fit(X_train_new, y_train_new)"
   ]
  },
  {
   "cell_type": "code",
   "execution_count": 92,
   "id": "a8481a94",
   "metadata": {},
   "outputs": [],
   "source": [
    "y_pred_new = second_SVC.predict(X_test_new)"
   ]
  },
  {
   "cell_type": "markdown",
   "id": "2e0b67bf",
   "metadata": {},
   "source": [
    "#### Classification Report Of The Second SVC Model"
   ]
  },
  {
   "cell_type": "code",
   "execution_count": 102,
   "id": "0a90676b",
   "metadata": {},
   "outputs": [
    {
     "name": "stdout",
     "output_type": "stream",
     "text": [
      "SVC Accuracy Score with top 4 best features 0.95 \n",
      "              precision    recall  f1-score   support\n",
      "\n",
      "           0       0.98      0.96      0.97       150\n",
      "           1       0.93      0.97      0.95       147\n",
      "           2       0.96      0.91      0.94       161\n",
      "           3       0.94      0.96      0.95       142\n",
      "\n",
      "    accuracy                           0.95       600\n",
      "   macro avg       0.95      0.95      0.95       600\n",
      "weighted avg       0.95      0.95      0.95       600\n",
      "\n"
     ]
    }
   ],
   "source": [
    "scores_list['Second SVC'] = accuracy_score(y_test_new,y_pred_new)\n",
    "print('SVC Accuracy Score with top 4 best features {:.2f} '.format(accuracy_score(y_test_new,y_pred_new)))\n",
    "print(classification_report(y_test_new, y_pred_new))"
   ]
  },
  {
   "cell_type": "markdown",
   "id": "7c2aeea2",
   "metadata": {},
   "source": [
    "#### Confusion Matrix of Second SVC Model"
   ]
  },
  {
   "cell_type": "code",
   "execution_count": 103,
   "id": "46f63131",
   "metadata": {},
   "outputs": [
    {
     "data": {
      "text/plain": [
       "<AxesSubplot:>"
      ]
     },
     "execution_count": 103,
     "metadata": {},
     "output_type": "execute_result"
    },
    {
     "data": {
      "text/plain": [
       "Text(0.5, 42.0, 'Predicted Values')"
      ]
     },
     "execution_count": 103,
     "metadata": {},
     "output_type": "execute_result"
    },
    {
     "data": {
      "text/plain": [
       "Text(42.0, 0.5, 'Actual Values')"
      ]
     },
     "execution_count": 103,
     "metadata": {},
     "output_type": "execute_result"
    },
    {
     "data": {
      "text/plain": [
       "Text(0.5, 1.0, 'Second SVC with Accuracy Score 0.95 ')"
      ]
     },
     "execution_count": 103,
     "metadata": {},
     "output_type": "execute_result"
    },
    {
     "data": {
      "image/png": "[encoded data removed]",
      "text/plain": [
       "<Figure size 504x504 with 2 Axes>"
      ]
     },
     "metadata": {
      "needs_background": "light"
     },
     "output_type": "display_data"
    }
   ],
   "source": [
    "cm = confusion_matrix(y_test_new,y_pred_new)\n",
    "fg, ax = plt.subplots(figsize=(7,7))\n",
    "sn.heatmap(cm, annot=True, fmt='d', ax=ax)\n",
    "plt.xlabel('Predicted Values')\n",
    "plt.ylabel('Actual Values')\n",
    "plt.title('Second SVC with Accuracy Score {:.2f} '.format(accuracy_score(y_test_new,y_pred_new)) )\n",
    "plt.show()\n",
    "fg.savefig('Figures/second_svc.jpeg')"
   ]
  },
  {
   "cell_type": "markdown",
   "id": "b8c367ca",
   "metadata": {},
   "source": [
    "### 4.3: Visualization comparisons between the model"
   ]
  },
  {
   "cell_type": "code",
   "execution_count": 104,
   "id": "0325839f",
   "metadata": {},
   "outputs": [
    {
     "data": {
      "text/plain": [
       "Text(0.5, 1.0, 'The Comparison of First_SVC vs Second_SVC Perfomance Result Score')"
      ]
     },
     "execution_count": 104,
     "metadata": {},
     "output_type": "execute_result"
    },
    {
     "data": {
      "image/png": "[encoded data removed]",
      "text/plain": [
       "<Figure size 360x360 with 1 Axes>"
      ]
     },
     "metadata": {
      "needs_background": "light"
     },
     "output_type": "display_data"
    }
   ],
   "source": [
    "fig, ax = plt.subplots(figsize=(5,5))\n",
    "models= pd.DataFrame.from_dict(scores_list, orient=\"index\").reset_index()\n",
    "models.columns = ['Model','Accuracy']\n",
    "plt.title('The Comparison of First_SVC vs Second_SVC Perfomance Result Score')\n",
    "ax = sn.barplot(x=\"Model\", y=\"Accuracy\", data=models, ax=ax)\n",
    "ax.tick_params(axis='x', rotation=45)\n",
    "fig.savefig('Figures/svc_comparison.jpeg')\n"
   ]
  },
  {
   "cell_type": "markdown",
   "id": "50ad4bd2",
   "metadata": {},
   "source": [
    "## Section 5: Price Range Prediction using Support Vector Machine (SVC)"
   ]
  },
  {
   "cell_type": "markdown",
   "id": "b6d92123",
   "metadata": {},
   "source": [
    "#### 5.1 Learning Curve of Support Vector Machine"
   ]
  },
  {
   "cell_type": "code",
   "execution_count": 35,
   "id": "ee26a78e",
   "metadata": {},
   "outputs": [],
   "source": [
    "from sklearn.datasets import make_classification\n",
    "from sklearn.model_selection import train_test_split\n",
    "from sklearn.metrics import roc_curve\n",
    "from sklearn.metrics import roc_auc_score\n",
    "from matplotlib import pyplot\n",
    "\n",
    "def learning_curve(model, xtrain, ytrain, xtest, ytest):\n",
    "\n",
    "    # Creating visualization with the readable labels\n",
    "    #visualizer = ROCAUC(model)\n",
    "                                        \n",
    "    # Fitting to the training data first then scoring with the test data                                    \n",
    "    visualizer.fit(xtrain, ytrain)\n",
    "    visualizer.score(xtest, ytest)\n",
    "    visualizer.show()\n",
    "    return visualizer"
   ]
  },
  {
   "cell_type": "code",
   "execution_count": 36,
   "id": "7f04f565",
   "metadata": {},
   "outputs": [
    {
     "ename": "NameError",
     "evalue": "name 'first_SVC' is not defined",
     "output_type": "error",
     "traceback": [
      "\u001b[1;31m---------------------------------------------------------------------------\u001b[0m",
      "\u001b[1;31mNameError\u001b[0m                                 Traceback (most recent call last)",
      "\u001b[1;32m<ipython-input-36-28ee1218e9a3>\u001b[0m in \u001b[0;36m<module>\u001b[1;34m\u001b[0m\n\u001b[1;32m----> 1\u001b[1;33m \u001b[0mlearning_curve\u001b[0m\u001b[1;33m(\u001b[0m\u001b[0mfirst_SVC\u001b[0m\u001b[1;33m,\u001b[0m\u001b[0mX_train\u001b[0m\u001b[1;33m,\u001b[0m\u001b[0my_train\u001b[0m\u001b[1;33m,\u001b[0m\u001b[0mX_test\u001b[0m\u001b[1;33m,\u001b[0m\u001b[0my_test\u001b[0m\u001b[1;33m)\u001b[0m\u001b[1;33m\u001b[0m\u001b[1;33m\u001b[0m\u001b[0m\n\u001b[0m",
      "\u001b[1;31mNameError\u001b[0m: name 'first_SVC' is not defined"
     ]
    }
   ],
   "source": [
    "learning_curve(first_SVC,X_train,y_train,X_test,y_test)"
   ]
  },
  {
   "cell_type": "code",
   "execution_count": 203,
   "id": "99271919",
   "metadata": {},
   "outputs": [
    {
     "data": {
      "text/plain": [
       "(400, 21)"
      ]
     },
     "execution_count": 203,
     "metadata": {},
     "output_type": "execute_result"
    }
   ],
   "source": [
    "#load the testing data\n",
    "data = read_csv(\"Data/clean_test_dataset.csv\", header=0, delimiter=',')\n",
    "data.shape"
   ]
  },
  {
   "cell_type": "markdown",
   "id": "7af91e84",
   "metadata": {},
   "source": [
    "#### 5.2 Predict the price range of using our SVC model \n",
    "Here we will use the intitial trained SVC model which is trained with 20 features to predict the final price range of the phone."
   ]
  },
  {
   "cell_type": "code",
   "execution_count": 34,
   "id": "bbfd6ed8",
   "metadata": {
    "scrolled": true
   },
   "outputs": [
    {
     "ename": "NameError",
     "evalue": "name 'data' is not defined",
     "output_type": "error",
     "traceback": [
      "\u001b[1;31m---------------------------------------------------------------------------\u001b[0m",
      "\u001b[1;31mNameError\u001b[0m                                 Traceback (most recent call last)",
      "\u001b[1;32m<ipython-input-34-95b8dd988ff9>\u001b[0m in \u001b[0;36m<module>\u001b[1;34m\u001b[0m\n\u001b[0;32m      1\u001b[0m \u001b[1;31m#separet the data featured and target variables\u001b[0m\u001b[1;33m\u001b[0m\u001b[1;33m\u001b[0m\u001b[1;33m\u001b[0m\u001b[0m\n\u001b[1;32m----> 2\u001b[1;33m \u001b[0mX_test\u001b[0m \u001b[1;33m=\u001b[0m \u001b[0mdata\u001b[0m\u001b[1;33m.\u001b[0m\u001b[0mloc\u001b[0m\u001b[1;33m[\u001b[0m\u001b[1;33m:\u001b[0m\u001b[1;33m,\u001b[0m\u001b[0mdata\u001b[0m\u001b[1;33m.\u001b[0m\u001b[0mcolumns\u001b[0m \u001b[1;33m!=\u001b[0m \u001b[1;34m'price_range'\u001b[0m\u001b[1;33m]\u001b[0m\u001b[1;33m\u001b[0m\u001b[1;33m\u001b[0m\u001b[0m\n\u001b[0m\u001b[0;32m      3\u001b[0m \u001b[0my\u001b[0m \u001b[1;33m=\u001b[0m \u001b[0mdata\u001b[0m \u001b[1;33m[\u001b[0m\u001b[1;34m'price_range'\u001b[0m\u001b[1;33m]\u001b[0m\u001b[1;33m\u001b[0m\u001b[1;33m\u001b[0m\u001b[0m\n",
      "\u001b[1;31mNameError\u001b[0m: name 'data' is not defined"
     ]
    }
   ],
   "source": [
    "#separet the data featured and target variables\n",
    "X_test = data.loc[:,data.columns != 'price_range']\n",
    "y = data ['price_range']"
   ]
  },
  {
   "cell_type": "code",
   "execution_count": null,
   "id": "1488dd6e",
   "metadata": {},
   "outputs": [],
   "source": [
    "X_test.shape"
   ]
  },
  {
   "cell_type": "code",
   "execution_count": null,
   "id": "10503f13",
   "metadata": {},
   "outputs": [],
   "source": [
    "y_pred  = first_SVC.predict(X_test)"
   ]
  },
  {
   "cell_type": "code",
   "execution_count": 220,
   "id": "7effd9b9",
   "metadata": {},
   "outputs": [
    {
     "data": {
      "text/plain": [
       "array([2, 0, 1, 2, 0, 1, 0, 0, 0, 1, 3, 2, 3, 3, 1, 3, 2, 2, 0, 2, 3, 3,\n",
       "       0, 0, 3, 0, 1, 2, 1, 2, 0, 1, 1, 3, 3, 3, 3, 0, 1, 1, 3, 0, 3, 1,\n",
       "       0, 2, 1, 0, 2, 0, 1, 0, 0, 0, 3, 0, 0, 3, 1, 2, 0, 2, 1, 1, 2, 0,\n",
       "       1, 1, 0, 3, 1, 0, 3, 2, 0, 0, 3, 2, 0, 2, 2, 0, 0, 2, 2, 3, 0, 1,\n",
       "       2, 1, 2, 3, 0, 2, 0, 0, 1, 2, 0, 1, 0, 0, 3, 2, 3, 0, 0, 3, 2, 3,\n",
       "       3, 3, 0, 2, 1, 1, 3, 0, 0, 1, 3, 0, 0, 3, 0, 2, 3, 3, 0, 3, 3, 1,\n",
       "       3, 1, 3, 1, 1, 3, 1, 2, 1, 2, 2, 2, 0, 0, 1, 2, 0, 3, 1, 3, 2, 3,\n",
       "       2, 2, 3, 3, 2, 2, 2, 3, 0, 2, 1, 3, 2, 2, 1, 0, 1, 3, 0, 1, 1, 1,\n",
       "       2, 1, 1, 0, 3, 2, 2, 2, 2, 1, 0, 0, 0, 2, 0, 0, 1, 2, 2, 3, 1, 3,\n",
       "       3, 2, 0, 2, 1, 3, 1, 3, 3, 1, 1, 1, 3, 0, 0, 3, 3, 2, 2, 2, 2, 0,\n",
       "       2, 0, 2, 2, 1, 1, 2, 3, 1, 3, 1, 0, 1, 3, 0, 3, 3, 2, 2, 3, 1, 1,\n",
       "       1, 2, 3, 1, 0, 1, 3, 1, 0, 2, 0, 1, 3, 0, 0, 2, 1, 1, 1, 1, 1, 3,\n",
       "       2, 2, 1, 0, 1, 3, 0, 2, 3, 0, 2, 1, 2, 3, 3, 2, 0, 0, 1, 1, 3, 0,\n",
       "       1, 1, 1, 0, 2, 0, 1, 2, 2, 3, 3, 1, 1, 3, 3, 3, 1, 3, 0, 2, 2, 2,\n",
       "       2, 2, 2, 2, 3, 3, 3, 2, 3, 0, 3, 3, 1, 3, 3, 2, 3, 0, 0, 0, 0, 2,\n",
       "       1, 3, 0, 1, 1, 1, 2, 2, 2, 3, 1, 3, 2, 1, 0, 0, 3, 3, 3, 3, 0, 3,\n",
       "       0, 1, 2, 3, 3, 0, 1, 2, 3, 1, 3, 3, 1, 0, 1, 0, 1, 0, 2, 0, 2, 2,\n",
       "       3, 0, 0, 1, 3, 1, 3, 0, 3, 1, 1, 2, 2, 2, 1, 1, 0, 1, 1, 0, 1, 2,\n",
       "       0, 1, 0, 1], dtype=int64)"
      ]
     },
     "execution_count": 220,
     "metadata": {},
     "output_type": "execute_result"
    }
   ],
   "source": [
    "#predicted price range\n",
    "y_pred"
   ]
  },
  {
   "cell_type": "markdown",
   "id": "2fef3e55",
   "metadata": {},
   "source": [
    "##### Adding predicted price range to the dataframe"
   ]
  },
  {
   "cell_type": "code",
   "execution_count": 192,
   "id": "a57e32b3",
   "metadata": {},
   "outputs": [],
   "source": [
    "data['predicted_price_range']= y_pred"
   ]
  },
  {
   "cell_type": "code",
   "execution_count": 193,
   "id": "d4c22c1a",
   "metadata": {},
   "outputs": [],
   "source": [
    "#save the results\n",
    "data.to_csv('Data/predicted_price_range.csv',index=False)"
   ]
  },
  {
   "cell_type": "markdown",
   "id": "4afdc750",
   "metadata": {},
   "source": [
    "##### Performing  Error Prediction Check\n",
    "In this section we will look how our model have predicted well for unseen, therefore we will check the results of prediction columns and the one with the original price and fiter out those with incorrectly label"
   ]
  },
  {
   "cell_type": "code",
   "execution_count": null,
   "id": "8a457c79",
   "metadata": {},
   "outputs": [],
   "source": [
    "data[data['price_range']!=data['predicted_price_range']]"
   ]
  },
  {
   "cell_type": "code",
   "execution_count": 216,
   "id": "fa945bfd",
   "metadata": {},
   "outputs": [
    {
     "ename": "AxisError",
     "evalue": "axis 1 is out of bounds for array of dimension 1",
     "output_type": "error",
     "traceback": [
      "\u001b[1;31m---------------------------------------------------------------------------\u001b[0m",
      "\u001b[1;31mAxisError\u001b[0m                                 Traceback (most recent call last)",
      "\u001b[1;32m<ipython-input-216-349665afb857>\u001b[0m in \u001b[0;36m<module>\u001b[1;34m\u001b[0m\n\u001b[0;32m      1\u001b[0m \u001b[0mpreds\u001b[0m  \u001b[1;33m=\u001b[0m \u001b[0mfirst_SVC\u001b[0m\u001b[1;33m.\u001b[0m\u001b[0mpredict\u001b[0m\u001b[1;33m(\u001b[0m\u001b[0mX_test\u001b[0m\u001b[1;33m)\u001b[0m\u001b[1;33m\u001b[0m\u001b[1;33m\u001b[0m\u001b[0m\n\u001b[1;32m----> 2\u001b[1;33m \u001b[0my_pred\u001b[0m \u001b[1;33m=\u001b[0m \u001b[0mnp\u001b[0m\u001b[1;33m.\u001b[0m\u001b[0margmax\u001b[0m\u001b[1;33m(\u001b[0m\u001b[0mpreds\u001b[0m\u001b[1;33m,\u001b[0m \u001b[0maxis\u001b[0m \u001b[1;33m=\u001b[0m \u001b[1;36m1\u001b[0m\u001b[1;33m)\u001b[0m\u001b[1;33m\u001b[0m\u001b[1;33m\u001b[0m\u001b[0m\n\u001b[0m\u001b[0;32m      3\u001b[0m \u001b[0mprint\u001b[0m\u001b[1;33m(\u001b[0m\u001b[0mclassification_report\u001b[0m\u001b[1;33m(\u001b[0m\u001b[0my1\u001b[0m\u001b[1;33m,\u001b[0m \u001b[0my_pred\u001b[0m\u001b[1;33m)\u001b[0m\u001b[1;33m)\u001b[0m\u001b[1;33m\u001b[0m\u001b[1;33m\u001b[0m\u001b[0m\n",
      "\u001b[1;32m<__array_function__ internals>\u001b[0m in \u001b[0;36margmax\u001b[1;34m(*args, **kwargs)\u001b[0m\n",
      "\u001b[1;32m~\\anaconda3\\lib\\site-packages\\numpy\\core\\fromnumeric.py\u001b[0m in \u001b[0;36margmax\u001b[1;34m(a, axis, out)\u001b[0m\n\u001b[0;32m   1191\u001b[0m \u001b[1;33m\u001b[0m\u001b[0m\n\u001b[0;32m   1192\u001b[0m     \"\"\"\n\u001b[1;32m-> 1193\u001b[1;33m     \u001b[1;32mreturn\u001b[0m \u001b[0m_wrapfunc\u001b[0m\u001b[1;33m(\u001b[0m\u001b[0ma\u001b[0m\u001b[1;33m,\u001b[0m \u001b[1;34m'argmax'\u001b[0m\u001b[1;33m,\u001b[0m \u001b[0maxis\u001b[0m\u001b[1;33m=\u001b[0m\u001b[0maxis\u001b[0m\u001b[1;33m,\u001b[0m \u001b[0mout\u001b[0m\u001b[1;33m=\u001b[0m\u001b[0mout\u001b[0m\u001b[1;33m)\u001b[0m\u001b[1;33m\u001b[0m\u001b[1;33m\u001b[0m\u001b[0m\n\u001b[0m\u001b[0;32m   1194\u001b[0m \u001b[1;33m\u001b[0m\u001b[0m\n\u001b[0;32m   1195\u001b[0m \u001b[1;33m\u001b[0m\u001b[0m\n",
      "\u001b[1;32m~\\anaconda3\\lib\\site-packages\\numpy\\core\\fromnumeric.py\u001b[0m in \u001b[0;36m_wrapfunc\u001b[1;34m(obj, method, *args, **kwds)\u001b[0m\n\u001b[0;32m     56\u001b[0m \u001b[1;33m\u001b[0m\u001b[0m\n\u001b[0;32m     57\u001b[0m     \u001b[1;32mtry\u001b[0m\u001b[1;33m:\u001b[0m\u001b[1;33m\u001b[0m\u001b[1;33m\u001b[0m\u001b[0m\n\u001b[1;32m---> 58\u001b[1;33m         \u001b[1;32mreturn\u001b[0m \u001b[0mbound\u001b[0m\u001b[1;33m(\u001b[0m\u001b[1;33m*\u001b[0m\u001b[0margs\u001b[0m\u001b[1;33m,\u001b[0m \u001b[1;33m**\u001b[0m\u001b[0mkwds\u001b[0m\u001b[1;33m)\u001b[0m\u001b[1;33m\u001b[0m\u001b[1;33m\u001b[0m\u001b[0m\n\u001b[0m\u001b[0;32m     59\u001b[0m     \u001b[1;32mexcept\u001b[0m \u001b[0mTypeError\u001b[0m\u001b[1;33m:\u001b[0m\u001b[1;33m\u001b[0m\u001b[1;33m\u001b[0m\u001b[0m\n\u001b[0;32m     60\u001b[0m         \u001b[1;31m# A TypeError occurs if the object does have such a method in its\u001b[0m\u001b[1;33m\u001b[0m\u001b[1;33m\u001b[0m\u001b[1;33m\u001b[0m\u001b[0m\n",
      "\u001b[1;31mAxisError\u001b[0m: axis 1 is out of bounds for array of dimension 1"
     ]
    }
   ],
   "source": [
    "y  = first_SVC.predict(X_test)\n",
    "y_pred = np.argmax(preds, axis = 1)\n",
    "print(classification_report(y1, y_pred))"
   ]
  },
  {
   "cell_type": "markdown",
   "id": "0532c99f",
   "metadata": {},
   "source": [
    "### Learning Curve of Support Vector Machine (SVM)"
   ]
  },
  {
   "cell_type": "markdown",
   "id": "76b83fb3",
   "metadata": {},
   "source": [
    "### Conclusion\n",
    "\n",
    "Supper Vector Machine is the final chosen algorithm among all the other classification models, SVM got the highest accuracy performance prediction score of approximately 0.98 equivalent to 98% followed by RandomForest with an accuracy of 91%, XGBoost with 90%, Gaussian Naive Bayes with 81% and the last one is Decision Tree with 65% accuracy.\n",
    "\n",
    "However initial Support Vector Machine got the lowest accuracy value of 22% among all the other algorithms when we validate the learning model using k-Fold Cross Validation techniques. The most interesting thing to find out through this project is how hyperparameter tuning is very important in building any machine learning model. Through these techniques, we can be able to know the best parameters configuration that would make our training process be efficient and accurate.\n",
    "\n",
    "After doing the features selection process through different methods of python sklearn library we have found only 4 features(which are battery power, ram, pixel resolution height, and pixel resolution width) are correlated well with our target variable, meaning that the price range may be affected with either increases or decreases of the values of those features, since we have a minimum number of attributes we didn’t find any usefulness of choosing only four features to train our model and limit the learning process of the chosen model. But final before doing the price prediction, we decided to train the SVC algorithm (second_SVC) with only those 4 features and then compare the prediction accuracy performance of the first model(first_SVC) final theresults seem much more interested after observing that the prediction performance decreases from 98% to 95% accuracy, the take away here is that it sometimes not useful to creates the model with limited features and will result into poor performance of the model.\n",
    "\n",
    "\n",
    "\n",
    "\n",
    "\n"
   ]
  },
  {
   "cell_type": "code",
   "execution_count": null,
   "id": "6656a334",
   "metadata": {},
   "outputs": [],
   "source": []
  }
 ],
 "metadata": {
  "kernelspec": {
   "display_name": "Python 3",
   "language": "python",
   "name": "python3"
  },
  "language_info": {
   "codemirror_mode": {
    "name": "ipython",
    "version": 3
   },
   "file_extension": ".py",
   "mimetype": "text/x-python",
   "name": "python",
   "nbconvert_exporter": "python",
   "pygments_lexer": "ipython3",
   "version": "3.8.8"
  }
 },
 "nbformat": 4,
 "nbformat_minor": 5
}
