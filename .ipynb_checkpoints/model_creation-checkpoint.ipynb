{
 "cells": [
  {
   "cell_type": "markdown",
   "id": "a49faf81",
   "metadata": {},
   "source": [
    "# Model Building and Final Testing"
   ]
  },
  {
   "cell_type": "markdown",
   "id": "37f4d2a0",
   "metadata": {},
   "source": [
    "After doing preprocessing to our dataset now we want to build our machine learning model to predict the price range of phone based on its features."
   ]
  },
  {
   "cell_type": "code",
   "execution_count": 218,
   "id": "a74f8b88",
   "metadata": {},
   "outputs": [],
   "source": [
    "#import libraries\n",
    "import numpy as np\n",
    "import matplotlib.pyplot as plt\n",
    "import seaborn as sn\n",
    "import pandas as pd\n",
    "from collections import Counter\n",
    "from IPython.core.interactiveshell import InteractiveShell\n",
    "InteractiveShell.ast_node_interactivity = \"all\"\n",
    "pd.set_option('precision', 3)\n",
    "import warnings\n",
    "warnings.simplefilter(\"ignore\")\n"
   ]
  },
  {
   "cell_type": "code",
   "execution_count": 219,
   "id": "99363409",
   "metadata": {},
   "outputs": [],
   "source": [
    "# extra imports\n",
    "from pandas import read_csv\n",
    "import plotly.express as px\n",
    "from plotly.offline import plot, iplot, init_notebook_mode\n",
    "from sklearn.neighbors import KNeighborsClassifier\n",
    "from sklearn.neighbors import LocalOutlierFactor\n",
    "from sklearn import preprocessing\n",
    "from statsmodels.genmod.generalized_linear_model import GLM\n",
    "from pandas.plotting import scatter_matrix\n",
    "from scipy.stats import boxcox\n",
    "from matplotlib.pyplot import figure\n",
    "from sklearn.ensemble import ExtraTreesClassifier \n",
    "from scipy import stats\n",
    "import statsmodels.api as sm\n",
    "from sklearn.model_selection import train_test_split,  KFold, cross_val_score\n",
    "\n",
    "from sklearn.metrics import mean_squared_error, r2_score\n",
    "from sklearn.feature_selection import SelectKBest, chi2\n",
    "from sklearn.metrics import classification_report, confusion_matrix, accuracy_score\n",
    "\n",
    "from sklearn.ensemble import GradientBoostingClassifier , RandomForestClassifier  \n",
    "from sklearn.neighbors import KNeighborsClassifier\n",
    "from sklearn.model_selection import GridSearchCV\n",
    "from sklearn.tree import DecisionTreeClassifier\n",
    "from sklearn.naive_bayes import GaussianNB\n",
    "from sklearn.svm import SVC\n",
    "from xgboost import XGBClassifier\n"
   ]
  },
  {
   "cell_type": "markdown",
   "id": "98aa2269",
   "metadata": {},
   "source": [
    "## Section 1: Reading the file"
   ]
  },
  {
   "cell_type": "markdown",
   "id": "ebbc5460",
   "metadata": {},
   "source": [
    "Here we are reading the .csv of the preprocessed file, we use the file which is already clean."
   ]
  },
  {
   "cell_type": "code",
   "execution_count": 220,
   "id": "9ca66492",
   "metadata": {},
   "outputs": [
    {
     "data": {
      "text/plain": [
       "(2000, 21)"
      ]
     },
     "execution_count": 220,
     "metadata": {},
     "output_type": "execute_result"
    }
   ],
   "source": [
    "mobile = read_csv(\"Data/cleaned_dataset.csv\", header=0, delimiter=',')\n",
    "mobile.shape"
   ]
  },
  {
   "cell_type": "code",
   "execution_count": 221,
   "id": "24b32cbe",
   "metadata": {},
   "outputs": [
    {
     "data": {
      "text/html": [
       "<div>\n",
       "<style scoped>\n",
       "    .dataframe tbody tr th:only-of-type {\n",
       "        vertical-align: middle;\n",
       "    }\n",
       "\n",
       "    .dataframe tbody tr th {\n",
       "        vertical-align: top;\n",
       "    }\n",
       "\n",
       "    .dataframe thead th {\n",
       "        text-align: right;\n",
       "    }\n",
       "</style>\n",
       "<table border=\"1\" class=\"dataframe\">\n",
       "  <thead>\n",
       "    <tr style=\"text-align: right;\">\n",
       "      <th></th>\n",
       "      <th>battery_power</th>\n",
       "      <th>blue</th>\n",
       "      <th>clock_speed</th>\n",
       "      <th>dual_sim</th>\n",
       "      <th>fc</th>\n",
       "      <th>four_g</th>\n",
       "      <th>int_memory</th>\n",
       "      <th>m_dep</th>\n",
       "      <th>mobile_wt</th>\n",
       "      <th>n_cores</th>\n",
       "      <th>...</th>\n",
       "      <th>px_height</th>\n",
       "      <th>px_width</th>\n",
       "      <th>ram</th>\n",
       "      <th>sc_h</th>\n",
       "      <th>sc_w</th>\n",
       "      <th>talk_time</th>\n",
       "      <th>three_g</th>\n",
       "      <th>touch_screen</th>\n",
       "      <th>wifi</th>\n",
       "      <th>price_range</th>\n",
       "    </tr>\n",
       "  </thead>\n",
       "  <tbody>\n",
       "    <tr>\n",
       "      <th>0</th>\n",
       "      <td>842</td>\n",
       "      <td>0</td>\n",
       "      <td>2.2</td>\n",
       "      <td>0</td>\n",
       "      <td>1.0</td>\n",
       "      <td>0</td>\n",
       "      <td>7</td>\n",
       "      <td>0.6</td>\n",
       "      <td>188</td>\n",
       "      <td>2</td>\n",
       "      <td>...</td>\n",
       "      <td>20.0</td>\n",
       "      <td>756</td>\n",
       "      <td>2549</td>\n",
       "      <td>9</td>\n",
       "      <td>7.0</td>\n",
       "      <td>19</td>\n",
       "      <td>0</td>\n",
       "      <td>0</td>\n",
       "      <td>1</td>\n",
       "      <td>1</td>\n",
       "    </tr>\n",
       "    <tr>\n",
       "      <th>1</th>\n",
       "      <td>1021</td>\n",
       "      <td>1</td>\n",
       "      <td>0.5</td>\n",
       "      <td>1</td>\n",
       "      <td>1.0</td>\n",
       "      <td>1</td>\n",
       "      <td>53</td>\n",
       "      <td>0.7</td>\n",
       "      <td>136</td>\n",
       "      <td>3</td>\n",
       "      <td>...</td>\n",
       "      <td>905.0</td>\n",
       "      <td>1988</td>\n",
       "      <td>2631</td>\n",
       "      <td>17</td>\n",
       "      <td>3.0</td>\n",
       "      <td>7</td>\n",
       "      <td>1</td>\n",
       "      <td>1</td>\n",
       "      <td>0</td>\n",
       "      <td>2</td>\n",
       "    </tr>\n",
       "    <tr>\n",
       "      <th>2</th>\n",
       "      <td>563</td>\n",
       "      <td>1</td>\n",
       "      <td>0.5</td>\n",
       "      <td>1</td>\n",
       "      <td>2.0</td>\n",
       "      <td>1</td>\n",
       "      <td>41</td>\n",
       "      <td>0.9</td>\n",
       "      <td>145</td>\n",
       "      <td>5</td>\n",
       "      <td>...</td>\n",
       "      <td>1263.0</td>\n",
       "      <td>1716</td>\n",
       "      <td>2603</td>\n",
       "      <td>11</td>\n",
       "      <td>2.0</td>\n",
       "      <td>9</td>\n",
       "      <td>1</td>\n",
       "      <td>1</td>\n",
       "      <td>0</td>\n",
       "      <td>2</td>\n",
       "    </tr>\n",
       "    <tr>\n",
       "      <th>3</th>\n",
       "      <td>615</td>\n",
       "      <td>1</td>\n",
       "      <td>2.5</td>\n",
       "      <td>0</td>\n",
       "      <td>4.0</td>\n",
       "      <td>0</td>\n",
       "      <td>10</td>\n",
       "      <td>0.8</td>\n",
       "      <td>131</td>\n",
       "      <td>6</td>\n",
       "      <td>...</td>\n",
       "      <td>1216.0</td>\n",
       "      <td>1786</td>\n",
       "      <td>2769</td>\n",
       "      <td>16</td>\n",
       "      <td>8.0</td>\n",
       "      <td>11</td>\n",
       "      <td>1</td>\n",
       "      <td>0</td>\n",
       "      <td>0</td>\n",
       "      <td>2</td>\n",
       "    </tr>\n",
       "    <tr>\n",
       "      <th>4</th>\n",
       "      <td>1821</td>\n",
       "      <td>1</td>\n",
       "      <td>1.2</td>\n",
       "      <td>0</td>\n",
       "      <td>13.0</td>\n",
       "      <td>1</td>\n",
       "      <td>44</td>\n",
       "      <td>0.6</td>\n",
       "      <td>141</td>\n",
       "      <td>2</td>\n",
       "      <td>...</td>\n",
       "      <td>1208.0</td>\n",
       "      <td>1212</td>\n",
       "      <td>1411</td>\n",
       "      <td>8</td>\n",
       "      <td>2.0</td>\n",
       "      <td>15</td>\n",
       "      <td>1</td>\n",
       "      <td>1</td>\n",
       "      <td>0</td>\n",
       "      <td>1</td>\n",
       "    </tr>\n",
       "  </tbody>\n",
       "</table>\n",
       "<p>5 rows × 21 columns</p>\n",
       "</div>"
      ],
      "text/plain": [
       "   battery_power  blue  clock_speed  dual_sim    fc  four_g  int_memory  \\\n",
       "0            842     0          2.2         0   1.0       0           7   \n",
       "1           1021     1          0.5         1   1.0       1          53   \n",
       "2            563     1          0.5         1   2.0       1          41   \n",
       "3            615     1          2.5         0   4.0       0          10   \n",
       "4           1821     1          1.2         0  13.0       1          44   \n",
       "\n",
       "   m_dep  mobile_wt  n_cores  ...  px_height  px_width   ram  sc_h  sc_w  \\\n",
       "0    0.6        188        2  ...       20.0       756  2549     9   7.0   \n",
       "1    0.7        136        3  ...      905.0      1988  2631    17   3.0   \n",
       "2    0.9        145        5  ...     1263.0      1716  2603    11   2.0   \n",
       "3    0.8        131        6  ...     1216.0      1786  2769    16   8.0   \n",
       "4    0.6        141        2  ...     1208.0      1212  1411     8   2.0   \n",
       "\n",
       "   talk_time  three_g  touch_screen  wifi  price_range  \n",
       "0         19        0             0     1            1  \n",
       "1          7        1             1     0            2  \n",
       "2          9        1             1     0            2  \n",
       "3         11        1             0     0            2  \n",
       "4         15        1             1     0            1  \n",
       "\n",
       "[5 rows x 21 columns]"
      ]
     },
     "execution_count": 221,
     "metadata": {},
     "output_type": "execute_result"
    }
   ],
   "source": [
    "mobile.head()"
   ]
  },
  {
   "cell_type": "code",
   "execution_count": 222,
   "id": "09281dea",
   "metadata": {},
   "outputs": [
    {
     "data": {
      "text/html": [
       "<div>\n",
       "<style scoped>\n",
       "    .dataframe tbody tr th:only-of-type {\n",
       "        vertical-align: middle;\n",
       "    }\n",
       "\n",
       "    .dataframe tbody tr th {\n",
       "        vertical-align: top;\n",
       "    }\n",
       "\n",
       "    .dataframe thead th {\n",
       "        text-align: right;\n",
       "    }\n",
       "</style>\n",
       "<table border=\"1\" class=\"dataframe\">\n",
       "  <thead>\n",
       "    <tr style=\"text-align: right;\">\n",
       "      <th></th>\n",
       "      <th>battery_power</th>\n",
       "      <th>blue</th>\n",
       "      <th>clock_speed</th>\n",
       "      <th>dual_sim</th>\n",
       "      <th>fc</th>\n",
       "      <th>four_g</th>\n",
       "      <th>int_memory</th>\n",
       "      <th>m_dep</th>\n",
       "      <th>mobile_wt</th>\n",
       "      <th>n_cores</th>\n",
       "      <th>...</th>\n",
       "      <th>px_height</th>\n",
       "      <th>px_width</th>\n",
       "      <th>ram</th>\n",
       "      <th>sc_h</th>\n",
       "      <th>sc_w</th>\n",
       "      <th>talk_time</th>\n",
       "      <th>three_g</th>\n",
       "      <th>touch_screen</th>\n",
       "      <th>wifi</th>\n",
       "      <th>price_range</th>\n",
       "    </tr>\n",
       "  </thead>\n",
       "  <tbody>\n",
       "    <tr>\n",
       "      <th>count</th>\n",
       "      <td>2000.000</td>\n",
       "      <td>2000.000</td>\n",
       "      <td>2000.000</td>\n",
       "      <td>2000.000</td>\n",
       "      <td>2000.000</td>\n",
       "      <td>2000.000</td>\n",
       "      <td>2000.000</td>\n",
       "      <td>2000.000</td>\n",
       "      <td>2000.000</td>\n",
       "      <td>2000.000</td>\n",
       "      <td>...</td>\n",
       "      <td>2000.000</td>\n",
       "      <td>2000.000</td>\n",
       "      <td>2000.000</td>\n",
       "      <td>2000.000</td>\n",
       "      <td>2000.000</td>\n",
       "      <td>2000.000</td>\n",
       "      <td>2000.000</td>\n",
       "      <td>2000.000</td>\n",
       "      <td>2000.000</td>\n",
       "      <td>2000.000</td>\n",
       "    </tr>\n",
       "    <tr>\n",
       "      <th>mean</th>\n",
       "      <td>1238.518</td>\n",
       "      <td>0.495</td>\n",
       "      <td>1.522</td>\n",
       "      <td>0.509</td>\n",
       "      <td>5.555</td>\n",
       "      <td>0.521</td>\n",
       "      <td>32.047</td>\n",
       "      <td>0.502</td>\n",
       "      <td>140.249</td>\n",
       "      <td>4.521</td>\n",
       "      <td>...</td>\n",
       "      <td>644.917</td>\n",
       "      <td>1251.515</td>\n",
       "      <td>2124.213</td>\n",
       "      <td>12.306</td>\n",
       "      <td>6.334</td>\n",
       "      <td>11.011</td>\n",
       "      <td>0.761</td>\n",
       "      <td>0.503</td>\n",
       "      <td>0.507</td>\n",
       "      <td>1.500</td>\n",
       "    </tr>\n",
       "    <tr>\n",
       "      <th>std</th>\n",
       "      <td>439.418</td>\n",
       "      <td>0.500</td>\n",
       "      <td>0.816</td>\n",
       "      <td>0.500</td>\n",
       "      <td>3.984</td>\n",
       "      <td>0.500</td>\n",
       "      <td>18.146</td>\n",
       "      <td>0.288</td>\n",
       "      <td>35.400</td>\n",
       "      <td>2.288</td>\n",
       "      <td>...</td>\n",
       "      <td>442.051</td>\n",
       "      <td>432.199</td>\n",
       "      <td>1084.732</td>\n",
       "      <td>4.213</td>\n",
       "      <td>4.172</td>\n",
       "      <td>5.464</td>\n",
       "      <td>0.426</td>\n",
       "      <td>0.500</td>\n",
       "      <td>0.500</td>\n",
       "      <td>1.118</td>\n",
       "    </tr>\n",
       "    <tr>\n",
       "      <th>min</th>\n",
       "      <td>501.000</td>\n",
       "      <td>0.000</td>\n",
       "      <td>0.500</td>\n",
       "      <td>0.000</td>\n",
       "      <td>1.000</td>\n",
       "      <td>0.000</td>\n",
       "      <td>2.000</td>\n",
       "      <td>0.100</td>\n",
       "      <td>80.000</td>\n",
       "      <td>1.000</td>\n",
       "      <td>...</td>\n",
       "      <td>1.000</td>\n",
       "      <td>500.000</td>\n",
       "      <td>256.000</td>\n",
       "      <td>5.000</td>\n",
       "      <td>1.000</td>\n",
       "      <td>2.000</td>\n",
       "      <td>0.000</td>\n",
       "      <td>0.000</td>\n",
       "      <td>0.000</td>\n",
       "      <td>0.000</td>\n",
       "    </tr>\n",
       "    <tr>\n",
       "      <th>25%</th>\n",
       "      <td>851.750</td>\n",
       "      <td>0.000</td>\n",
       "      <td>0.700</td>\n",
       "      <td>0.000</td>\n",
       "      <td>2.000</td>\n",
       "      <td>0.000</td>\n",
       "      <td>16.000</td>\n",
       "      <td>0.200</td>\n",
       "      <td>109.000</td>\n",
       "      <td>3.000</td>\n",
       "      <td>...</td>\n",
       "      <td>284.000</td>\n",
       "      <td>874.750</td>\n",
       "      <td>1207.500</td>\n",
       "      <td>9.000</td>\n",
       "      <td>3.000</td>\n",
       "      <td>6.000</td>\n",
       "      <td>1.000</td>\n",
       "      <td>0.000</td>\n",
       "      <td>0.000</td>\n",
       "      <td>0.750</td>\n",
       "    </tr>\n",
       "    <tr>\n",
       "      <th>50%</th>\n",
       "      <td>1226.000</td>\n",
       "      <td>0.000</td>\n",
       "      <td>1.500</td>\n",
       "      <td>1.000</td>\n",
       "      <td>5.000</td>\n",
       "      <td>1.000</td>\n",
       "      <td>32.000</td>\n",
       "      <td>0.500</td>\n",
       "      <td>141.000</td>\n",
       "      <td>4.000</td>\n",
       "      <td>...</td>\n",
       "      <td>567.250</td>\n",
       "      <td>1247.000</td>\n",
       "      <td>2146.500</td>\n",
       "      <td>12.000</td>\n",
       "      <td>5.000</td>\n",
       "      <td>11.000</td>\n",
       "      <td>1.000</td>\n",
       "      <td>1.000</td>\n",
       "      <td>1.000</td>\n",
       "      <td>1.500</td>\n",
       "    </tr>\n",
       "    <tr>\n",
       "      <th>75%</th>\n",
       "      <td>1615.250</td>\n",
       "      <td>1.000</td>\n",
       "      <td>2.200</td>\n",
       "      <td>1.000</td>\n",
       "      <td>8.000</td>\n",
       "      <td>1.000</td>\n",
       "      <td>48.000</td>\n",
       "      <td>0.800</td>\n",
       "      <td>170.000</td>\n",
       "      <td>7.000</td>\n",
       "      <td>...</td>\n",
       "      <td>946.250</td>\n",
       "      <td>1633.000</td>\n",
       "      <td>3064.500</td>\n",
       "      <td>16.000</td>\n",
       "      <td>9.000</td>\n",
       "      <td>16.000</td>\n",
       "      <td>1.000</td>\n",
       "      <td>1.000</td>\n",
       "      <td>1.000</td>\n",
       "      <td>2.250</td>\n",
       "    </tr>\n",
       "    <tr>\n",
       "      <th>max</th>\n",
       "      <td>1998.000</td>\n",
       "      <td>1.000</td>\n",
       "      <td>3.000</td>\n",
       "      <td>1.000</td>\n",
       "      <td>17.000</td>\n",
       "      <td>1.000</td>\n",
       "      <td>64.000</td>\n",
       "      <td>1.000</td>\n",
       "      <td>200.000</td>\n",
       "      <td>8.000</td>\n",
       "      <td>...</td>\n",
       "      <td>1920.000</td>\n",
       "      <td>1998.000</td>\n",
       "      <td>3998.000</td>\n",
       "      <td>19.000</td>\n",
       "      <td>18.000</td>\n",
       "      <td>20.000</td>\n",
       "      <td>1.000</td>\n",
       "      <td>1.000</td>\n",
       "      <td>1.000</td>\n",
       "      <td>3.000</td>\n",
       "    </tr>\n",
       "  </tbody>\n",
       "</table>\n",
       "<p>8 rows × 21 columns</p>\n",
       "</div>"
      ],
      "text/plain": [
       "       battery_power      blue  clock_speed  dual_sim        fc    four_g  \\\n",
       "count       2000.000  2000.000     2000.000  2000.000  2000.000  2000.000   \n",
       "mean        1238.518     0.495        1.522     0.509     5.555     0.521   \n",
       "std          439.418     0.500        0.816     0.500     3.984     0.500   \n",
       "min          501.000     0.000        0.500     0.000     1.000     0.000   \n",
       "25%          851.750     0.000        0.700     0.000     2.000     0.000   \n",
       "50%         1226.000     0.000        1.500     1.000     5.000     1.000   \n",
       "75%         1615.250     1.000        2.200     1.000     8.000     1.000   \n",
       "max         1998.000     1.000        3.000     1.000    17.000     1.000   \n",
       "\n",
       "       int_memory     m_dep  mobile_wt   n_cores  ...  px_height  px_width  \\\n",
       "count    2000.000  2000.000   2000.000  2000.000  ...   2000.000  2000.000   \n",
       "mean       32.047     0.502    140.249     4.521  ...    644.917  1251.515   \n",
       "std        18.146     0.288     35.400     2.288  ...    442.051   432.199   \n",
       "min         2.000     0.100     80.000     1.000  ...      1.000   500.000   \n",
       "25%        16.000     0.200    109.000     3.000  ...    284.000   874.750   \n",
       "50%        32.000     0.500    141.000     4.000  ...    567.250  1247.000   \n",
       "75%        48.000     0.800    170.000     7.000  ...    946.250  1633.000   \n",
       "max        64.000     1.000    200.000     8.000  ...   1920.000  1998.000   \n",
       "\n",
       "            ram      sc_h      sc_w  talk_time   three_g  touch_screen  \\\n",
       "count  2000.000  2000.000  2000.000   2000.000  2000.000      2000.000   \n",
       "mean   2124.213    12.306     6.334     11.011     0.761         0.503   \n",
       "std    1084.732     4.213     4.172      5.464     0.426         0.500   \n",
       "min     256.000     5.000     1.000      2.000     0.000         0.000   \n",
       "25%    1207.500     9.000     3.000      6.000     1.000         0.000   \n",
       "50%    2146.500    12.000     5.000     11.000     1.000         1.000   \n",
       "75%    3064.500    16.000     9.000     16.000     1.000         1.000   \n",
       "max    3998.000    19.000    18.000     20.000     1.000         1.000   \n",
       "\n",
       "           wifi  price_range  \n",
       "count  2000.000     2000.000  \n",
       "mean      0.507        1.500  \n",
       "std       0.500        1.118  \n",
       "min       0.000        0.000  \n",
       "25%       0.000        0.750  \n",
       "50%       1.000        1.500  \n",
       "75%       1.000        2.250  \n",
       "max       1.000        3.000  \n",
       "\n",
       "[8 rows x 21 columns]"
      ]
     },
     "execution_count": 222,
     "metadata": {},
     "output_type": "execute_result"
    }
   ],
   "source": [
    "mobile.describe()"
   ]
  },
  {
   "cell_type": "code",
   "execution_count": 223,
   "id": "bdad7a82",
   "metadata": {},
   "outputs": [
    {
     "data": {
      "text/plain": [
       "battery_power    0\n",
       "blue             0\n",
       "clock_speed      0\n",
       "dual_sim         0\n",
       "fc               0\n",
       "four_g           0\n",
       "int_memory       0\n",
       "m_dep            0\n",
       "mobile_wt        0\n",
       "n_cores          0\n",
       "pc               0\n",
       "px_height        0\n",
       "px_width         0\n",
       "ram              0\n",
       "sc_h             0\n",
       "sc_w             0\n",
       "talk_time        0\n",
       "three_g          0\n",
       "touch_screen     0\n",
       "wifi             0\n",
       "price_range      0\n",
       "dtype: int64"
      ]
     },
     "execution_count": 223,
     "metadata": {},
     "output_type": "execute_result"
    }
   ],
   "source": [
    "#Checking for null values\n",
    "mobile.isnull().sum()"
   ]
  },
  {
   "cell_type": "markdown",
   "id": "2cc8d9cb",
   "metadata": {},
   "source": [
    "## Section 2: Correlation Analysis & Feature Selection"
   ]
  },
  {
   "cell_type": "markdown",
   "id": "9a5152f6",
   "metadata": {},
   "source": [
    "This shows the correlations between the feature variables and the price_range, it helps us make a decision of which features to use for our ML model"
   ]
  },
  {
   "cell_type": "code",
   "execution_count": 224,
   "id": "003b021c",
   "metadata": {},
   "outputs": [
    {
     "name": "stdout",
     "output_type": "stream",
     "text": [
      "price_range      1.000e+00\n",
      "ram              9.170e-01\n",
      "battery_power    2.007e-01\n",
      "px_width         1.658e-01\n",
      "px_height        1.489e-01\n",
      "int_memory       4.443e-02\n",
      "sc_w             2.541e-02\n",
      "three_g          2.361e-02\n",
      "sc_h             2.299e-02\n",
      "fc               2.234e-02\n",
      "talk_time        2.186e-02\n",
      "blue             2.057e-02\n",
      "wifi             1.878e-02\n",
      "dual_sim         1.744e-02\n",
      "pc               1.681e-02\n",
      "four_g           1.477e-02\n",
      "n_cores          4.399e-03\n",
      "m_dep            8.530e-04\n",
      "clock_speed     -6.606e-03\n",
      "mobile_wt       -3.030e-02\n",
      "touch_screen    -3.041e-02\n",
      "Name: price_range, dtype: float64 \n",
      "\n"
     ]
    }
   ],
   "source": [
    "correlation = mobile.corr()\n",
    "print(correlation['price_range'].sort_values(ascending = False),'\\n')"
   ]
  },
  {
   "cell_type": "code",
   "execution_count": 225,
   "id": "080c8a5a",
   "metadata": {},
   "outputs": [
    {
     "name": "stdout",
     "output_type": "stream",
     "text": [
      "Index(['price_range', 'ram', 'battery_power', 'px_width', 'px_height',\n",
      "       'int_memory', 'sc_w', 'three_g', 'sc_h', 'fc'],\n",
      "      dtype='object')\n"
     ]
    },
    {
     "data": {
      "text/plain": [
       "<AxesSubplot:>"
      ]
     },
     "execution_count": 225,
     "metadata": {},
     "output_type": "execute_result"
    },
    {
     "data": {
      "image/png": "[encoded data removed]",
      "text/plain": [
       "<Figure size 1008x864 with 2 Axes>"
      ]
     },
     "metadata": {},
     "output_type": "display_data"
    }
   ],
   "source": [
    "correlation = mobile.corr()\n",
    "#looking correlation of the best 10features\n",
    "k= 10\n",
    "cols = correlation.nlargest(k,'price_range')['price_range'].index\n",
    "print(cols)\n",
    "cm = np.corrcoef(mobile[cols].values.T)\n",
    "f , ax = plt.subplots(figsize = (14,12))\n",
    "sn.heatmap(cm, vmax=.8, linewidths=0.01,square=True,annot=True,cmap='viridis',\n",
    "            linecolor=\"white\",xticklabels = cols.values ,annot_kws = {'size':12},yticklabels = cols.values)\n",
    "plt.show()"
   ]
  },
  {
   "cell_type": "code",
   "execution_count": 226,
   "id": "98ec602d",
   "metadata": {},
   "outputs": [
    {
     "name": "stdout",
     "output_type": "stream",
     "text": [
      "Most Positive Correlations\n",
      " price_range      1.000\n",
      "ram              0.917\n",
      "battery_power    0.201\n",
      "px_width         0.166\n",
      "px_height        0.149\n",
      "Name: price_range, dtype: float64 \n",
      "\n",
      "Most Negative Correlations\n",
      " n_cores         4.399e-03\n",
      "m_dep           8.530e-04\n",
      "clock_speed    -6.606e-03\n",
      "mobile_wt      -3.030e-02\n",
      "touch_screen   -3.041e-02\n",
      "Name: price_range, dtype: float64\n"
     ]
    }
   ],
   "source": [
    "priceCorr = correlation.price_range.sort_values(ascending = False)\n",
    "print('Most Positive Correlations\\n',priceCorr.head(),'\\n')\n",
    "print('Most Negative Correlations\\n', priceCorr.tail())"
   ]
  },
  {
   "cell_type": "markdown",
   "id": "b21662c4",
   "metadata": {},
   "source": [
    "#### Results of Correlation Analysis\n",
    "\n",
    "The most features which are correlated to our target feature(price_range) are RAM, battery power, pixel resolution width and height,since we do have many features in our dataset will keep using all the features to train the model and after that we will train the model again with these features to see if there will be any improve of the accuracy of the model prediction.\n",
    "\n",
    "The Most negatives correlation features are number of core of processor(n_cores), mobile depth(m_dep), clock speed of the processor, mobile weight and touch_screen"
   ]
  },
  {
   "cell_type": "markdown",
   "id": "56d8c419",
   "metadata": {},
   "source": [
    "### Feature Selection\n",
    "Feature Selection is the process where you automatically or manually select those features which contribute most to your prediction variable or output in which you are interested in. Having irrelevant features in your data can decrease the accuracy of the models and make your model learn based on irrelevant features.\n",
    "\n",
    "Here we will use feature_importances_ method of The scikit-learn library to filter out most important features of our dataset.\n"
   ]
  },
  {
   "cell_type": "code",
   "execution_count": 227,
   "id": "949a4fb9",
   "metadata": {},
   "outputs": [],
   "source": [
    "#Use cross validation to resample our dataset into training and testing data with 70% and 30% respectively\n",
    "#Data set without target variable\n",
    "X = mobile.loc[:,mobile.columns != 'price_range']\n",
    "\n",
    "#target variable\n",
    "y = mobile['price_range']\n",
    "X_train, X_test, y_train, y_test = train_test_split(X, y, test_size=0.33, random_state = 42)"
   ]
  },
  {
   "cell_type": "code",
   "execution_count": 228,
   "id": "27800d0b",
   "metadata": {},
   "outputs": [
    {
     "data": {
      "text/plain": [
       "ExtraTreesClassifier()"
      ]
     },
     "execution_count": 228,
     "metadata": {},
     "output_type": "execute_result"
    },
    {
     "data": {
      "text/plain": [
       "<AxesSubplot:>"
      ]
     },
     "execution_count": 228,
     "metadata": {},
     "output_type": "execute_result"
    },
    {
     "data": {
      "text/plain": [
       "Text(0.5, 1.0, 'The top 10 best important features')"
      ]
     },
     "execution_count": 228,
     "metadata": {},
     "output_type": "execute_result"
    },
    {
     "data": {
      "image/png": "[encoded data removed]",
      "text/plain": [
       "<Figure size 432x288 with 1 Axes>"
      ]
     },
     "metadata": {},
     "output_type": "display_data"
    }
   ],
   "source": [
    "#Apply Feature Importance Method to select most important features\n",
    "\n",
    "model = ExtraTreesClassifier()\n",
    "model.fit(X , y)\n",
    "important_features = pd.Series(model.feature_importances_ , index = X.columns)\n",
    "important_features.nlargest(10).plot(kind = 'barh')\n",
    "plt.title(\"The top 10 best important features\")\n",
    "plt.show()\n"
   ]
  },
  {
   "cell_type": "markdown",
   "id": "34202537",
   "metadata": {},
   "source": [
    "## Section 3:  Model Training\n",
    "Here we will create different classification model algorithms to test in our datasets and then select the one which will work best."
   ]
  },
  {
   "cell_type": "code",
   "execution_count": 229,
   "id": "d7a7d69e",
   "metadata": {},
   "outputs": [
    {
     "name": "stdout",
     "output_type": "stream",
     "text": [
      "Accuracy of each model \n",
      "RF: 0.870 (0.028)\n",
      "SVM: 0.211 (0.030)\n",
      "KNN: 0.919 (0.008)\n",
      "NB: 0.799 (0.042)\n",
      "[07:10:48] WARNING: ..\\src\\learner.cc:1115: Starting in XGBoost 1.3.0, the default evaluation metric used with the objective 'multi:softprob' was changed from 'merror' to 'mlogloss'. Explicitly set eval_metric if you'd like to restore the old behavior.\n",
      "[07:10:48] WARNING: ..\\src\\learner.cc:1115: Starting in XGBoost 1.3.0, the default evaluation metric used with the objective 'multi:softprob' was changed from 'merror' to 'mlogloss'. Explicitly set eval_metric if you'd like to restore the old behavior.\n",
      "[07:10:49] WARNING: ..\\src\\learner.cc:1115: Starting in XGBoost 1.3.0, the default evaluation metric used with the objective 'multi:softprob' was changed from 'merror' to 'mlogloss'. Explicitly set eval_metric if you'd like to restore the old behavior.\n",
      "[07:10:49] WARNING: ..\\src\\learner.cc:1115: Starting in XGBoost 1.3.0, the default evaluation metric used with the objective 'multi:softprob' was changed from 'merror' to 'mlogloss'. Explicitly set eval_metric if you'd like to restore the old behavior.\n",
      "[07:10:49] WARNING: ..\\src\\learner.cc:1115: Starting in XGBoost 1.3.0, the default evaluation metric used with the objective 'multi:softprob' was changed from 'merror' to 'mlogloss'. Explicitly set eval_metric if you'd like to restore the old behavior.\n",
      "[07:10:50] WARNING: ..\\src\\learner.cc:1115: Starting in XGBoost 1.3.0, the default evaluation metric used with the objective 'multi:softprob' was changed from 'merror' to 'mlogloss'. Explicitly set eval_metric if you'd like to restore the old behavior.\n",
      "[07:10:50] WARNING: ..\\src\\learner.cc:1115: Starting in XGBoost 1.3.0, the default evaluation metric used with the objective 'multi:softprob' was changed from 'merror' to 'mlogloss'. Explicitly set eval_metric if you'd like to restore the old behavior.\n",
      "[07:10:50] WARNING: ..\\src\\learner.cc:1115: Starting in XGBoost 1.3.0, the default evaluation metric used with the objective 'multi:softprob' was changed from 'merror' to 'mlogloss'. Explicitly set eval_metric if you'd like to restore the old behavior.\n",
      "[07:10:50] WARNING: ..\\src\\learner.cc:1115: Starting in XGBoost 1.3.0, the default evaluation metric used with the objective 'multi:softprob' was changed from 'merror' to 'mlogloss'. Explicitly set eval_metric if you'd like to restore the old behavior.\n",
      "[07:10:51] WARNING: ..\\src\\learner.cc:1115: Starting in XGBoost 1.3.0, the default evaluation metric used with the objective 'multi:softprob' was changed from 'merror' to 'mlogloss'. Explicitly set eval_metric if you'd like to restore the old behavior.\n",
      "XGB: 0.904 (0.030)\n",
      "DTC: 0.838 (0.032)\n"
     ]
    }
   ],
   "source": [
    "#creating a list of  model which RM, KNN, SVC, NB and XGB\n",
    "models = [('RF', RandomForestClassifier()), ('SVM', SVC(gamma='auto')),('KNN', KNeighborsClassifier()),\n",
    "          ('NB', GaussianNB()),('XGB', XGBClassifier()),('DTC', DecisionTreeClassifier())]\n",
    "\n",
    "#Validate all the model present in the list using K-Fold Validation\n",
    "\n",
    "score_results = []\n",
    "model_names = []\n",
    "\n",
    "\n",
    "print (\"Accuracy of each model \")\n",
    "\n",
    "for name, model in models:\n",
    "        cv = KFold(n_splits=10, random_state=1, shuffle=True)\n",
    "        scores= cross_val_score(model, X_train, y_train, cv=cv, scoring = 'accuracy')\n",
    "        score_results.append(scores)\n",
    "        model_names.append(name)\n",
    "        msg = \"%s: %.3f (%.3f)\" % (name, scores.mean(),scores.std())\n",
    "        print(msg)"
   ]
  },
  {
   "cell_type": "code",
   "execution_count": 230,
   "id": "e9ae19d8",
   "metadata": {},
   "outputs": [
    {
     "data": {
      "text/plain": [
       "Text(0.5, 0.98, 'Comparison between different Algorithm')"
      ]
     },
     "execution_count": 230,
     "metadata": {},
     "output_type": "execute_result"
    },
    {
     "data": {
      "text/plain": [
       "{'whiskers': [<matplotlib.lines.Line2D at 0x1f7b9f01160>,\n",
       "  <matplotlib.lines.Line2D at 0x1f7b9f014c0>,\n",
       "  <matplotlib.lines.Line2D at 0x1f7b9ee0940>,\n",
       "  <matplotlib.lines.Line2D at 0x1f7b9ee0ca0>,\n",
       "  <matplotlib.lines.Line2D at 0x1f7b9f14160>,\n",
       "  <matplotlib.lines.Line2D at 0x1f7b9f144c0>,\n",
       "  <matplotlib.lines.Line2D at 0x1f7b9fbe940>,\n",
       "  <matplotlib.lines.Line2D at 0x1f7b9fbeca0>,\n",
       "  <matplotlib.lines.Line2D at 0x1f7b9fa4190>,\n",
       "  <matplotlib.lines.Line2D at 0x1f7b9fa44f0>,\n",
       "  <matplotlib.lines.Line2D at 0x1f7b9fcf970>,\n",
       "  <matplotlib.lines.Line2D at 0x1f7b9fcfcd0>],\n",
       " 'caps': [<matplotlib.lines.Line2D at 0x1f7b9f01820>,\n",
       "  <matplotlib.lines.Line2D at 0x1f7b9f01b80>,\n",
       "  <matplotlib.lines.Line2D at 0x1f7b9ef7040>,\n",
       "  <matplotlib.lines.Line2D at 0x1f7b9ef73a0>,\n",
       "  <matplotlib.lines.Line2D at 0x1f7b9f14820>,\n",
       "  <matplotlib.lines.Line2D at 0x1f7b9f14b80>,\n",
       "  <matplotlib.lines.Line2D at 0x1f7b9fd2040>,\n",
       "  <matplotlib.lines.Line2D at 0x1f7b9fd23a0>,\n",
       "  <matplotlib.lines.Line2D at 0x1f7b9fa4850>,\n",
       "  <matplotlib.lines.Line2D at 0x1f7b9fa4bb0>,\n",
       "  <matplotlib.lines.Line2D at 0x1f7b9fd1070>,\n",
       "  <matplotlib.lines.Line2D at 0x1f7b9fd13d0>],\n",
       " 'boxes': [<matplotlib.lines.Line2D at 0x1f7b9f11dc0>,\n",
       "  <matplotlib.lines.Line2D at 0x1f7b9ee05e0>,\n",
       "  <matplotlib.lines.Line2D at 0x1f7b9ef7dc0>,\n",
       "  <matplotlib.lines.Line2D at 0x1f7b9fbe5e0>,\n",
       "  <matplotlib.lines.Line2D at 0x1f7b9fd2df0>,\n",
       "  <matplotlib.lines.Line2D at 0x1f7b9fcf610>],\n",
       " 'medians': [<matplotlib.lines.Line2D at 0x1f7b9f01ee0>,\n",
       "  <matplotlib.lines.Line2D at 0x1f7b9ef7700>,\n",
       "  <matplotlib.lines.Line2D at 0x1f7b9f14ee0>,\n",
       "  <matplotlib.lines.Line2D at 0x1f7b9fd2700>,\n",
       "  <matplotlib.lines.Line2D at 0x1f7b9fa4f10>,\n",
       "  <matplotlib.lines.Line2D at 0x1f7b9fd1730>],\n",
       " 'fliers': [<matplotlib.lines.Line2D at 0x1f7b9ee0280>,\n",
       "  <matplotlib.lines.Line2D at 0x1f7b9ef7a60>,\n",
       "  <matplotlib.lines.Line2D at 0x1f7b9fbe280>,\n",
       "  <matplotlib.lines.Line2D at 0x1f7b9fd2a90>,\n",
       "  <matplotlib.lines.Line2D at 0x1f7b9fcf2b0>,\n",
       "  <matplotlib.lines.Line2D at 0x1f7b9fd1a90>],\n",
       " 'means': []}"
      ]
     },
     "execution_count": 230,
     "metadata": {},
     "output_type": "execute_result"
    },
    {
     "data": {
      "text/plain": [
       "[Text(1, 0, 'RF'),\n",
       " Text(2, 0, 'SVM'),\n",
       " Text(3, 0, 'KNN'),\n",
       " Text(4, 0, 'NB'),\n",
       " Text(5, 0, 'XGB'),\n",
       " Text(6, 0, 'DTC')]"
      ]
     },
     "execution_count": 230,
     "metadata": {},
     "output_type": "execute_result"
    },
    {
     "data": {
      "image/png": "[encoded data removed]",
      "text/plain": [
       "<Figure size 720x576 with 1 Axes>"
      ]
     },
     "metadata": {},
     "output_type": "display_data"
    }
   ],
   "source": [
    "#Visualizing each model in boxplot to see which one fit well for our datasests\n",
    "figure = plt.figure(figsize=(10,8))\n",
    "figure.suptitle('Comparison between different Algorithm')\n",
    "ax = figure.add_subplot(111)\n",
    "plt.boxplot(score_results)\n",
    "ax.set_xticklabels(model_names)\n",
    "plt.show()    \n"
   ]
  },
  {
   "cell_type": "markdown",
   "id": "1494d86b",
   "metadata": {},
   "source": [
    "### The results of diffrent model pipeline algorithms\n",
    "\n",
    "In the above code we have use k-fold cross-validation method to validate the accuracy of the algorithm with the value of k=10 as our configuration parameters. The reasons why we choose k=10 is because the studies show that k=10 \n",
    "\n",
    "The key configuration parameter for k-fold cross-validation is k that defines the number folds in which to split a given dataset.\n",
    "\n",
    "Common values are k=3, k=5, and k=10, and by far the most popular value used in applied machine learning to evaluate models is k=10. The reason for this is studies were performed and k=10 was found to provide good trade-off of low computational cost and low bias in an estimate of model performance.\n",
    "\n",
    "How do we know what value of k to use when evaluating models on our own dataset?\n",
    "\n",
    "You can choose k=10, but how do you know this makes sense for your dataset?\n",
    "\n",
    "One approach to answering this question is to perform a sensitivity analysis for different k values. That is, evaluate the performance of the same model on the same dataset with different values of k and see how they compare.\n",
    "\n",
    "RandomForest Classifier show accuracy of "
   ]
  },
  {
   "cell_type": "markdown",
   "id": "d3f42a33",
   "metadata": {},
   "source": [
    "### 3.3: Hyperparameter Tuning\n",
    "Hyperparameter optimization refers to performing a search in order to discover the set of specific model configuration arguments that result in the best performance of the model on a specific dataset. \n",
    "\n",
    "These hyperparameters might address model design questions such as:\n",
    "    What should be the maximum depth allowed for my decision tree?\n",
    "    What should be the minimum number of samples required at a leaf node in my decision tree?\n",
    "    How many trees should I include in my random forest?\n",
    "    How many neurons should I have in my neural network layer?\n",
    "    How many layers should I have in my neural network?\n",
    "    What should I set my learning rate to for gradient descent?\n",
    "\n",
    "I want to be absolutely clear, hyperparameters are not model parameters and they cannot be directly trained from the data. Model parameters are learned during training when we optimize a loss function using something like gradient descent.The process for learning parameter values is shown generally below.\n",
    "\n",
    "Screen-Shot-2017-11-02-at-1.28.26-PM\n",
    "\n",
    "Here we will work with only three model which is Random Forest,Support Vector Machine and XGB and we will use GridSearchCV method of the  to select best parameters for our model"
   ]
  },
  {
   "cell_type": "markdown",
   "id": "adba7e11",
   "metadata": {},
   "source": [
    "### Random Forest Classifier\n",
    "\n",
    "A random forest is a supervised machine learning method built from decision tree techniques. This algorithm is used to anticipate behaviour and results in a variety of sectors, including banking and e-commerce.\n",
    "\n",
    "A random forest is a machine learning approach for solving regression and classification issues. It makes use of ensemble learning, which is a technique that combines multiple classifiers to solve complicated problems.\n",
    "\n",
    "A random forest method is made up of a large number of decision trees. The random forest algorithm’s ‘forest’ is trained via bagging or bootstrap aggregation. Bagging is a meta-algorithm ensemble that increases the accuracy of machine learning algorithms."
   ]
  },
  {
   "cell_type": "code",
   "execution_count": 231,
   "id": "79569bdd",
   "metadata": {},
   "outputs": [],
   "source": [
    "model = RandomForestClassifier()\n",
    "parameters = {'criterion':['gini','entropy'],\n",
    "         'n_estimators':[10,15,20,25,30],\n",
    "          'min_samples_leaf':[1,2,3],\n",
    "          'min_samples_split':[3,4,5,6,7],\n",
    "          'max_features': [7,10,15,20],\n",
    "          'random_state':[123]}\n",
    "RF = GridSearchCV(model,param_grid=parameters,n_jobs=-1)"
   ]
  },
  {
   "cell_type": "code",
   "execution_count": 232,
   "id": "60c72531",
   "metadata": {},
   "outputs": [
    {
     "data": {
      "text/plain": [
       "GridSearchCV(estimator=RandomForestClassifier(), n_jobs=-1,\n",
       "             param_grid={'criterion': ['gini', 'entropy'],\n",
       "                         'max_features': [7, 10, 15, 20],\n",
       "                         'min_samples_leaf': [1, 2, 3],\n",
       "                         'min_samples_split': [3, 4, 5, 6, 7],\n",
       "                         'n_estimators': [10, 15, 20, 25, 30],\n",
       "                         'random_state': [123]})"
      ]
     },
     "execution_count": 232,
     "metadata": {},
     "output_type": "execute_result"
    }
   ],
   "source": [
    "RF.fit(X_train,y_train)"
   ]
  },
  {
   "cell_type": "code",
   "execution_count": 233,
   "id": "2affd393",
   "metadata": {},
   "outputs": [
    {
     "name": "stdout",
     "output_type": "stream",
     "text": [
      "The best parameters are \n"
     ]
    },
    {
     "data": {
      "text/plain": [
       "{'criterion': 'entropy',\n",
       " 'max_features': 15,\n",
       " 'min_samples_leaf': 2,\n",
       " 'min_samples_split': 7,\n",
       " 'n_estimators': 25,\n",
       " 'random_state': 123}"
      ]
     },
     "execution_count": 233,
     "metadata": {},
     "output_type": "execute_result"
    },
    {
     "name": "stdout",
     "output_type": "stream",
     "text": [
      "The best score is 0.90.\n"
     ]
    }
   ],
   "source": [
    "print(\"The best parameters are \")\n",
    "RF.best_params_\n",
    "print(\"The best score is {:.2f}.\".format(RF.best_score_))"
   ]
  },
  {
   "cell_type": "markdown",
   "id": "6ab7b3e4",
   "metadata": {},
   "source": [
    "### Support Vector Machine"
   ]
  },
  {
   "cell_type": "code",
   "execution_count": 234,
   "id": "56c13d21",
   "metadata": {},
   "outputs": [],
   "source": [
    "param_grid = {'C': [1,5,10,50,100],\n",
    "              'gamma': [.1,.5,.25,1],\n",
    "             'kernel':['rbf','poly','sigmoid','linear']}\n",
    "SVM = GridSearchCV(SVC(),param_grid,cv=5)"
   ]
  },
  {
   "cell_type": "code",
   "execution_count": null,
   "id": "e3ef8ad5",
   "metadata": {},
   "outputs": [],
   "source": [
    "SVM.fit(X_train,y_train)"
   ]
  },
  {
   "cell_type": "code",
   "execution_count": null,
   "id": "707a6e3c",
   "metadata": {},
   "outputs": [],
   "source": [
    "print(\"The best parameters are \")\n",
    "SVM.best_params_\n",
    "print(\"The best score is {:.2f}.\".format(SVM.best_score_))"
   ]
  },
  {
   "cell_type": "markdown",
   "id": "59d2708f",
   "metadata": {},
   "source": [
    "### XGBOOST\n",
    "\n",
    "XGBoost, which stands for Extreme Gradient Boosting, is a scalable, distributed gradient-boosted decision tree (GBDT) machine learning library. It provides parallel tree boosting and is the leading machine learning library for regression, classification, and ranking problems.\n"
   ]
  },
  {
   "cell_type": "code",
   "execution_count": null,
   "id": "d35e5cfe",
   "metadata": {},
   "outputs": [],
   "source": [
    "model = XGBClassifier()\n",
    "params = {\n",
    "    'learning_rate':[0.01],\n",
    "    'n_estimators':[5000],\n",
    "    'max_depth':[4],\n",
    "    'min_child_weight':[6],\n",
    "    'gamma':[0],\n",
    "    'subsample':[0.8],\n",
    "    'colsample_bytree':[0.8],\n",
    "    'reg_alpha':[0.005],\n",
    "    'objective':['binary:logistic'],\n",
    "    'nthread':[4],\n",
    "    'scale_pos_weight':[1],\n",
    "}\n",
    "XGB = GridSearchCV(model,param_grid=params)"
   ]
  },
  {
   "cell_type": "code",
   "execution_count": null,
   "id": "96a55296",
   "metadata": {},
   "outputs": [],
   "source": [
    "XGB.fit(X_train,y_train)"
   ]
  },
  {
   "cell_type": "code",
   "execution_count": null,
   "id": "309ada13",
   "metadata": {},
   "outputs": [],
   "source": [
    "print(\"The parameters {} are the best.\".format(XGB.best_params_))\n",
    "print(\"The best score is {:.2f}.\".format(XGB.best_score_))"
   ]
  },
  {
   "cell_type": "markdown",
   "id": "0e1abeb4",
   "metadata": {},
   "source": [
    "### Decision Tree Classifier"
   ]
  },
  {
   "cell_type": "code",
   "execution_count": null,
   "id": "e3664137",
   "metadata": {},
   "outputs": [],
   "source": [
    "from sklearn.tree import DecisionTreeClassifier\n",
    "dtc = DecisionTreeClassifier()\n",
    "params={\n",
    "    'max_features':['auto','sqrt','log2'],\n",
    "    'min_samples_split':[2,3,4,5,6,7,8,9,10,11,12,13,14,15],\n",
    "    'min_samples_leaf':[1,2,3,4,5,6,7,8,9,10,11],\n",
    "    'random_state':[123],\n",
    "}\n",
    "model = GridSearchCV(dtc,param_grid=params)"
   ]
  },
  {
   "cell_type": "code",
   "execution_count": null,
   "id": "137a79d9",
   "metadata": {},
   "outputs": [],
   "source": []
  },
  {
   "cell_type": "markdown",
   "id": "8bcb68dc",
   "metadata": {},
   "source": [
    "### 3.4: Training Model with best Parameters Comparison\n",
    "\n"
   ]
  },
  {
   "cell_type": "markdown",
   "id": "46dc8f51",
   "metadata": {},
   "source": [
    "In this section we will visualize the the final result accuracy of all the trained model and select the best one for our dataset."
   ]
  },
  {
   "cell_type": "code",
   "execution_count": null,
   "id": "0199d565",
   "metadata": {},
   "outputs": [],
   "source": [
    "#List to store the score of the algorithms\n",
    "model_accuracy = {}"
   ]
  },
  {
   "cell_type": "markdown",
   "id": "b4ed1846",
   "metadata": {},
   "source": [
    "#### Random Forest with best parameters"
   ]
  },
  {
   "cell_type": "code",
   "execution_count": null,
   "id": "ef0fc3e0",
   "metadata": {},
   "outputs": [],
   "source": [
    "#now we do training and prediction \n",
    "RF = RandomForestClassifier(criterion='entropy',\n",
    "                           max_depth= 10,\n",
    "                           max_features= 15,\n",
    "                           min_samples_leaf= 2,\n",
    "                           min_samples_split= 7,\n",
    "                           n_estimators= 25,\n",
    "                           random_state=123)\n"
   ]
  },
  {
   "cell_type": "code",
   "execution_count": null,
   "id": "88aa8601",
   "metadata": {},
   "outputs": [],
   "source": [
    "RF.fit(X_train, y_train)"
   ]
  },
  {
   "cell_type": "code",
   "execution_count": null,
   "id": "758aba39",
   "metadata": {},
   "outputs": [],
   "source": [
    "y_pred  = RF.predict(X_test)"
   ]
  },
  {
   "cell_type": "code",
   "execution_count": null,
   "id": "b8adc404",
   "metadata": {},
   "outputs": [],
   "source": [
    "print('Random Forest Classifier Accuracy Score:',accuracy_score(y_test,y_pred),'\\n')\n",
    "print(classification_report(y_test, y_pred))"
   ]
  },
  {
   "cell_type": "markdown",
   "id": "b39ec12d",
   "metadata": {},
   "source": [
    "#### Support Vector Machine"
   ]
  },
  {
   "cell_type": "code",
   "execution_count": null,
   "id": "68df22bc",
   "metadata": {},
   "outputs": [],
   "source": [
    "SVM = SVC(kernel='linear',gamma=0.1,C=5)"
   ]
  },
  {
   "cell_type": "code",
   "execution_count": null,
   "id": "79a2b9bc",
   "metadata": {},
   "outputs": [],
   "source": [
    "SVM.fit(X_train, y_train)"
   ]
  },
  {
   "cell_type": "code",
   "execution_count": null,
   "id": "4da79fd6",
   "metadata": {},
   "outputs": [],
   "source": [
    "y_pred  = SVM.predict(X_test)\n",
    "model_accuracy['Support Vector Machine'] = accuracy_score(y_test,y_pred)"
   ]
  },
  {
   "cell_type": "code",
   "execution_count": null,
   "id": "57757e77",
   "metadata": {},
   "outputs": [],
   "source": [
    "\n",
    "print('Support Vector Machine Classifier Accuracy Score:',accuracy_score(y_test,y_pred),'\\n')\n",
    "print(classification_report(y_test, y_pred))"
   ]
  },
  {
   "cell_type": "markdown",
   "id": "1771efd8",
   "metadata": {},
   "source": [
    "### XGBOOST "
   ]
  },
  {
   "cell_type": "code",
   "execution_count": null,
   "id": "2850a7b6",
   "metadata": {},
   "outputs": [],
   "source": [
    "XGB = XGBClassifier(colsample_bytree=0.8, gamma= 0, learning_rate= 0.01, max_depth = 4, min_child_weight= 6,\n",
    "                     n_estimators= 5000, nthread = 4, objective = 'binary:logistic',reg_alpha = 0.005,\n",
    "                     scale_pos_weight= 1, subsample = 0.8)\n"
   ]
  },
  {
   "cell_type": "code",
   "execution_count": null,
   "id": "e785ae1c",
   "metadata": {},
   "outputs": [],
   "source": [
    "XGB.fit(X_train, y_train)"
   ]
  },
  {
   "cell_type": "code",
   "execution_count": null,
   "id": "b364e0e2",
   "metadata": {},
   "outputs": [],
   "source": [
    "y_pred  = XGB.predict(X_test)\n",
    "model_accuracy['XGBOOST'] = accuracy_score(y_test,y_pred)"
   ]
  },
  {
   "cell_type": "code",
   "execution_count": null,
   "id": "04fc6fe4",
   "metadata": {},
   "outputs": [],
   "source": [
    "print('Extreme Gradient Boosting Accuracy Score:',accuracy_score(y_test,y_pred),'\\n')\n",
    "print(classification_report(y_test, y_pred))"
   ]
  },
  {
   "cell_type": "markdown",
   "id": "e5cdeb3b",
   "metadata": {},
   "source": [
    "### 3.5: Comparisons of the models"
   ]
  },
  {
   "cell_type": "code",
   "execution_count": null,
   "id": "55ddcaa6",
   "metadata": {},
   "outputs": [],
   "source": [
    "fig, ax = plt.subplots(figsize=(8,5))\n",
    "acc = pd.DataFrame.from_dict(model_accuracy, orient=\"index\").reset_index()\n",
    "acc.columns = ['Model','Accuracy']\n",
    "ax = sn.barplot(x=\"Model\", y=\"Accuracy\", data=acc, ax=ax)\n",
    "ax.tick_params(axis='x', rotation=45)"
   ]
  },
  {
   "cell_type": "markdown",
   "id": "a36f455b",
   "metadata": {},
   "source": [
    "# Section 4: Testing Analysis of The Final Model\n",
    "After see the comparison of the different model now we will use Random Forest Classifier as our final model according to its accuracy on prediction. We will use the final testing data for prediction and analysis the results of the prediction"
   ]
  },
  {
   "cell_type": "code",
   "execution_count": null,
   "id": "99271919",
   "metadata": {},
   "outputs": [],
   "source": [
    "#load the testing data\n",
    "test_data = read_csv(\"Data/test.csv\", header=0, delimiter=',')\n",
    "test_data.shape"
   ]
  },
  {
   "cell_type": "code",
   "execution_count": null,
   "id": "13d672df",
   "metadata": {},
   "outputs": [],
   "source": [
    "test_data.head()"
   ]
  },
  {
   "cell_type": "code",
   "execution_count": null,
   "id": "7ec8ae38",
   "metadata": {},
   "outputs": [],
   "source": [
    "report_df = pd.DataFrame(report).transpose()\n",
    "report_df"
   ]
  },
  {
   "cell_type": "code",
   "execution_count": null,
   "id": "7effd9b9",
   "metadata": {},
   "outputs": [],
   "source": []
  }
 ],
 "metadata": {
  "kernelspec": {
   "display_name": "Python 3",
   "language": "python",
   "name": "python3"
  },
  "language_info": {
   "codemirror_mode": {
    "name": "ipython",
    "version": 3
   },
   "file_extension": ".py",
   "mimetype": "text/x-python",
   "name": "python",
   "nbconvert_exporter": "python",
   "pygments_lexer": "ipython3",
   "version": "3.8.8"
  }
 },
 "nbformat": 4,
 "nbformat_minor": 5
}
