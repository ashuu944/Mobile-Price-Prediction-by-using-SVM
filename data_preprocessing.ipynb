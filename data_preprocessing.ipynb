{
 "cells": [
  {
   "cell_type": "markdown",
   "id": "86b994d7",
   "metadata": {},
   "source": [
    "# Data Preprocessing\n"
   ]
  },
  {
   "cell_type": "code",
   "execution_count": 2,
   "id": "c62de687",
   "metadata": {},
   "outputs": [],
   "source": [
    "%load_ext autoreload\n",
    "\n",
    "from IPython.core.interactiveshell import InteractiveShell\n",
    "InteractiveShell.ast_node_interactivity = \"all\"\n",
    "\n",
    "import warnings\n",
    "warnings.filterwarnings('ignore')"
   ]
  },
  {
   "cell_type": "code",
   "execution_count": 3,
   "id": "ed35105d",
   "metadata": {},
   "outputs": [],
   "source": [
    "#import libraries\n",
    "import numpy as np\n",
    "import matplotlib.pyplot as plt\n",
    "import seaborn as sn\n",
    "import pandas as pd\n",
    "from collections import Counter\n",
    "from IPython.core.interactiveshell import InteractiveShell\n",
    "InteractiveShell.ast_node_interactivity = \"all\"\n",
    "pd.set_option('precision', 3)\n"
   ]
  },
  {
   "cell_type": "code",
   "execution_count": 4,
   "id": "e0f7875c",
   "metadata": {},
   "outputs": [],
   "source": [
    "# extra imports\n",
    "from pandas import read_csv\n",
    "import plotly.express as px\n",
    "from plotly.offline import plot, iplot, init_notebook_mode\n",
    "from sklearn.neighbors import KNeighborsClassifier\n",
    "#from sklearn.neighbors import LocalOutlierFactor\n",
    "from sklearn import preprocessing\n",
    "#from statsmodels.genmod.generalized_linear_model import GLM\n",
    "from pandas.plotting import scatter_matrix\n",
    "#from scipy.stats import boxcox"
   ]
  },
  {
   "cell_type": "markdown",
   "id": "284d67c5",
   "metadata": {},
   "source": [
    "# Section 1: Reading the file data "
   ]
  },
  {
   "cell_type": "markdown",
   "id": "0d092117",
   "metadata": {},
   "source": [
    "Reading the train.csv file to look for the target variable and total number of rows and column present in dataset\n"
   ]
  },
  {
   "cell_type": "code",
   "execution_count": 5,
   "id": "48c25ce7",
   "metadata": {},
   "outputs": [
    {
     "data": {
      "text/plain": [
       "(2000, 21)"
      ]
     },
     "execution_count": 5,
     "metadata": {},
     "output_type": "execute_result"
    }
   ],
   "source": [
    "mobile = read_csv(\"Data/train.csv\", header=0, delimiter=',')\n",
    "mobile.shape"
   ]
  },
  {
   "cell_type": "code",
   "execution_count": 6,
   "id": "af193da1",
   "metadata": {},
   "outputs": [
    {
     "data": {
      "text/html": [
       "<div>\n",
       "<style scoped>\n",
       "    .dataframe tbody tr th:only-of-type {\n",
       "        vertical-align: middle;\n",
       "    }\n",
       "\n",
       "    .dataframe tbody tr th {\n",
       "        vertical-align: top;\n",
       "    }\n",
       "\n",
       "    .dataframe thead th {\n",
       "        text-align: right;\n",
       "    }\n",
       "</style>\n",
       "<table border=\"1\" class=\"dataframe\">\n",
       "  <thead>\n",
       "    <tr style=\"text-align: right;\">\n",
       "      <th></th>\n",
       "      <th>battery_power</th>\n",
       "      <th>blue</th>\n",
       "      <th>clock_speed</th>\n",
       "      <th>dual_sim</th>\n",
       "      <th>fc</th>\n",
       "      <th>four_g</th>\n",
       "      <th>int_memory</th>\n",
       "      <th>m_dep</th>\n",
       "      <th>mobile_wt</th>\n",
       "      <th>n_cores</th>\n",
       "      <th>...</th>\n",
       "      <th>px_height</th>\n",
       "      <th>px_width</th>\n",
       "      <th>ram</th>\n",
       "      <th>sc_h</th>\n",
       "      <th>sc_w</th>\n",
       "      <th>talk_time</th>\n",
       "      <th>three_g</th>\n",
       "      <th>touch_screen</th>\n",
       "      <th>wifi</th>\n",
       "      <th>price_range</th>\n",
       "    </tr>\n",
       "  </thead>\n",
       "  <tbody>\n",
       "    <tr>\n",
       "      <th>0</th>\n",
       "      <td>842</td>\n",
       "      <td>0</td>\n",
       "      <td>2.2</td>\n",
       "      <td>0</td>\n",
       "      <td>1</td>\n",
       "      <td>0</td>\n",
       "      <td>7</td>\n",
       "      <td>0.6</td>\n",
       "      <td>188</td>\n",
       "      <td>2</td>\n",
       "      <td>...</td>\n",
       "      <td>20</td>\n",
       "      <td>756</td>\n",
       "      <td>2549</td>\n",
       "      <td>9</td>\n",
       "      <td>7</td>\n",
       "      <td>19</td>\n",
       "      <td>0</td>\n",
       "      <td>0</td>\n",
       "      <td>1</td>\n",
       "      <td>1</td>\n",
       "    </tr>\n",
       "    <tr>\n",
       "      <th>1</th>\n",
       "      <td>1021</td>\n",
       "      <td>1</td>\n",
       "      <td>0.5</td>\n",
       "      <td>1</td>\n",
       "      <td>0</td>\n",
       "      <td>1</td>\n",
       "      <td>53</td>\n",
       "      <td>0.7</td>\n",
       "      <td>136</td>\n",
       "      <td>3</td>\n",
       "      <td>...</td>\n",
       "      <td>905</td>\n",
       "      <td>1988</td>\n",
       "      <td>2631</td>\n",
       "      <td>17</td>\n",
       "      <td>3</td>\n",
       "      <td>7</td>\n",
       "      <td>1</td>\n",
       "      <td>1</td>\n",
       "      <td>0</td>\n",
       "      <td>2</td>\n",
       "    </tr>\n",
       "    <tr>\n",
       "      <th>2</th>\n",
       "      <td>563</td>\n",
       "      <td>1</td>\n",
       "      <td>0.5</td>\n",
       "      <td>1</td>\n",
       "      <td>2</td>\n",
       "      <td>1</td>\n",
       "      <td>41</td>\n",
       "      <td>0.9</td>\n",
       "      <td>145</td>\n",
       "      <td>5</td>\n",
       "      <td>...</td>\n",
       "      <td>1263</td>\n",
       "      <td>1716</td>\n",
       "      <td>2603</td>\n",
       "      <td>11</td>\n",
       "      <td>2</td>\n",
       "      <td>9</td>\n",
       "      <td>1</td>\n",
       "      <td>1</td>\n",
       "      <td>0</td>\n",
       "      <td>2</td>\n",
       "    </tr>\n",
       "    <tr>\n",
       "      <th>3</th>\n",
       "      <td>615</td>\n",
       "      <td>1</td>\n",
       "      <td>2.5</td>\n",
       "      <td>0</td>\n",
       "      <td>0</td>\n",
       "      <td>0</td>\n",
       "      <td>10</td>\n",
       "      <td>0.8</td>\n",
       "      <td>131</td>\n",
       "      <td>6</td>\n",
       "      <td>...</td>\n",
       "      <td>1216</td>\n",
       "      <td>1786</td>\n",
       "      <td>2769</td>\n",
       "      <td>16</td>\n",
       "      <td>8</td>\n",
       "      <td>11</td>\n",
       "      <td>1</td>\n",
       "      <td>0</td>\n",
       "      <td>0</td>\n",
       "      <td>2</td>\n",
       "    </tr>\n",
       "    <tr>\n",
       "      <th>4</th>\n",
       "      <td>1821</td>\n",
       "      <td>1</td>\n",
       "      <td>1.2</td>\n",
       "      <td>0</td>\n",
       "      <td>13</td>\n",
       "      <td>1</td>\n",
       "      <td>44</td>\n",
       "      <td>0.6</td>\n",
       "      <td>141</td>\n",
       "      <td>2</td>\n",
       "      <td>...</td>\n",
       "      <td>1208</td>\n",
       "      <td>1212</td>\n",
       "      <td>1411</td>\n",
       "      <td>8</td>\n",
       "      <td>2</td>\n",
       "      <td>15</td>\n",
       "      <td>1</td>\n",
       "      <td>1</td>\n",
       "      <td>0</td>\n",
       "      <td>1</td>\n",
       "    </tr>\n",
       "  </tbody>\n",
       "</table>\n",
       "<p>5 rows × 21 columns</p>\n",
       "</div>"
      ],
      "text/plain": [
       "   battery_power  blue  clock_speed  dual_sim  fc  four_g  int_memory  m_dep  \\\n",
       "0            842     0          2.2         0   1       0           7    0.6   \n",
       "1           1021     1          0.5         1   0       1          53    0.7   \n",
       "2            563     1          0.5         1   2       1          41    0.9   \n",
       "3            615     1          2.5         0   0       0          10    0.8   \n",
       "4           1821     1          1.2         0  13       1          44    0.6   \n",
       "\n",
       "   mobile_wt  n_cores  ...  px_height  px_width   ram  sc_h  sc_w  talk_time  \\\n",
       "0        188        2  ...         20       756  2549     9     7         19   \n",
       "1        136        3  ...        905      1988  2631    17     3          7   \n",
       "2        145        5  ...       1263      1716  2603    11     2          9   \n",
       "3        131        6  ...       1216      1786  2769    16     8         11   \n",
       "4        141        2  ...       1208      1212  1411     8     2         15   \n",
       "\n",
       "   three_g  touch_screen  wifi  price_range  \n",
       "0        0             0     1            1  \n",
       "1        1             1     0            2  \n",
       "2        1             1     0            2  \n",
       "3        1             0     0            2  \n",
       "4        1             1     0            1  \n",
       "\n",
       "[5 rows x 21 columns]"
      ]
     },
     "execution_count": 6,
     "metadata": {},
     "output_type": "execute_result"
    }
   ],
   "source": [
    "mobile.head()"
   ]
  },
  {
   "cell_type": "code",
   "execution_count": 7,
   "id": "5a736dc1",
   "metadata": {},
   "outputs": [
    {
     "data": {
      "text/plain": [
       "array([1, 2, 3, 0], dtype=int64)"
      ]
     },
     "execution_count": 7,
     "metadata": {},
     "output_type": "execute_result"
    }
   ],
   "source": [
    "## Checking for number of Classes we have for the target variable\n",
    "mobile.price_range.unique()"
   ]
  },
  {
   "cell_type": "code",
   "execution_count": 8,
   "id": "fa87f093",
   "metadata": {},
   "outputs": [
    {
     "name": "stdout",
     "output_type": "stream",
     "text": [
      "<class 'pandas.core.frame.DataFrame'>\n",
      "RangeIndex: 2000 entries, 0 to 1999\n",
      "Data columns (total 21 columns):\n",
      " #   Column         Non-Null Count  Dtype  \n",
      "---  ------         --------------  -----  \n",
      " 0   battery_power  2000 non-null   int64  \n",
      " 1   blue           2000 non-null   int64  \n",
      " 2   clock_speed    2000 non-null   float64\n",
      " 3   dual_sim       2000 non-null   int64  \n",
      " 4   fc             2000 non-null   int64  \n",
      " 5   four_g         2000 non-null   int64  \n",
      " 6   int_memory     2000 non-null   int64  \n",
      " 7   m_dep          2000 non-null   float64\n",
      " 8   mobile_wt      2000 non-null   int64  \n",
      " 9   n_cores        2000 non-null   int64  \n",
      " 10  pc             2000 non-null   int64  \n",
      " 11  px_height      2000 non-null   int64  \n",
      " 12  px_width       2000 non-null   int64  \n",
      " 13  ram            2000 non-null   int64  \n",
      " 14  sc_h           2000 non-null   int64  \n",
      " 15  sc_w           2000 non-null   int64  \n",
      " 16  talk_time      2000 non-null   int64  \n",
      " 17  three_g        2000 non-null   int64  \n",
      " 18  touch_screen   2000 non-null   int64  \n",
      " 19  wifi           2000 non-null   int64  \n",
      " 20  price_range    2000 non-null   int64  \n",
      "dtypes: float64(2), int64(19)\n",
      "memory usage: 328.2 KB\n"
     ]
    }
   ],
   "source": [
    "#Looking for the data types of the columns\n",
    "mobile.info()"
   ]
  },
  {
   "cell_type": "markdown",
   "id": "c1ba23a4",
   "metadata": {},
   "source": [
    "# Section 2: Inspection of the dataset"
   ]
  },
  {
   "cell_type": "markdown",
   "id": "7c54a9b2",
   "metadata": {},
   "source": [
    "Perform a basic inspection of the dataset to \n",
    "1. check for the minimum and maximum values for each variable \n",
    "2. find possible errors and abnormal values (outliers)\n",
    "3. find possible missing values; "
   ]
  },
  {
   "cell_type": "code",
   "execution_count": 65,
   "id": "848ff88a",
   "metadata": {},
   "outputs": [
    {
     "data": {
      "text/html": [
       "<div>\n",
       "<style scoped>\n",
       "    .dataframe tbody tr th:only-of-type {\n",
       "        vertical-align: middle;\n",
       "    }\n",
       "\n",
       "    .dataframe tbody tr th {\n",
       "        vertical-align: top;\n",
       "    }\n",
       "\n",
       "    .dataframe thead th {\n",
       "        text-align: right;\n",
       "    }\n",
       "</style>\n",
       "<table border=\"1\" class=\"dataframe\">\n",
       "  <thead>\n",
       "    <tr style=\"text-align: right;\">\n",
       "      <th></th>\n",
       "      <th>battery_power</th>\n",
       "      <th>blue</th>\n",
       "      <th>clock_speed</th>\n",
       "      <th>dual_sim</th>\n",
       "      <th>fc</th>\n",
       "      <th>four_g</th>\n",
       "      <th>int_memory</th>\n",
       "      <th>m_dep</th>\n",
       "      <th>mobile_wt</th>\n",
       "      <th>n_cores</th>\n",
       "      <th>...</th>\n",
       "      <th>px_height</th>\n",
       "      <th>px_width</th>\n",
       "      <th>ram</th>\n",
       "      <th>sc_h</th>\n",
       "      <th>sc_w</th>\n",
       "      <th>talk_time</th>\n",
       "      <th>three_g</th>\n",
       "      <th>touch_screen</th>\n",
       "      <th>wifi</th>\n",
       "      <th>price_range</th>\n",
       "    </tr>\n",
       "  </thead>\n",
       "  <tbody>\n",
       "    <tr>\n",
       "      <th>count</th>\n",
       "      <td>2000.000</td>\n",
       "      <td>2000.000</td>\n",
       "      <td>2000.000</td>\n",
       "      <td>2000.000</td>\n",
       "      <td>2000.000</td>\n",
       "      <td>2000.000</td>\n",
       "      <td>2000.000</td>\n",
       "      <td>2000.000</td>\n",
       "      <td>2000.000</td>\n",
       "      <td>2000.000</td>\n",
       "      <td>...</td>\n",
       "      <td>2000.000</td>\n",
       "      <td>2000.000</td>\n",
       "      <td>2000.000</td>\n",
       "      <td>2000.000</td>\n",
       "      <td>2000.000</td>\n",
       "      <td>2000.000</td>\n",
       "      <td>2000.000</td>\n",
       "      <td>2000.000</td>\n",
       "      <td>2000.000</td>\n",
       "      <td>2000.000</td>\n",
       "    </tr>\n",
       "    <tr>\n",
       "      <th>mean</th>\n",
       "      <td>1238.518</td>\n",
       "      <td>0.495</td>\n",
       "      <td>1.522</td>\n",
       "      <td>0.509</td>\n",
       "      <td>5.555</td>\n",
       "      <td>0.521</td>\n",
       "      <td>32.047</td>\n",
       "      <td>0.502</td>\n",
       "      <td>140.249</td>\n",
       "      <td>4.521</td>\n",
       "      <td>...</td>\n",
       "      <td>644.917</td>\n",
       "      <td>1251.515</td>\n",
       "      <td>2124.213</td>\n",
       "      <td>12.306</td>\n",
       "      <td>6.334</td>\n",
       "      <td>11.011</td>\n",
       "      <td>0.761</td>\n",
       "      <td>0.503</td>\n",
       "      <td>0.507</td>\n",
       "      <td>1.500</td>\n",
       "    </tr>\n",
       "    <tr>\n",
       "      <th>std</th>\n",
       "      <td>439.418</td>\n",
       "      <td>0.500</td>\n",
       "      <td>0.816</td>\n",
       "      <td>0.500</td>\n",
       "      <td>3.984</td>\n",
       "      <td>0.500</td>\n",
       "      <td>18.146</td>\n",
       "      <td>0.288</td>\n",
       "      <td>35.400</td>\n",
       "      <td>2.288</td>\n",
       "      <td>...</td>\n",
       "      <td>442.051</td>\n",
       "      <td>432.199</td>\n",
       "      <td>1084.732</td>\n",
       "      <td>4.213</td>\n",
       "      <td>4.172</td>\n",
       "      <td>5.464</td>\n",
       "      <td>0.426</td>\n",
       "      <td>0.500</td>\n",
       "      <td>0.500</td>\n",
       "      <td>1.118</td>\n",
       "    </tr>\n",
       "    <tr>\n",
       "      <th>min</th>\n",
       "      <td>501.000</td>\n",
       "      <td>0.000</td>\n",
       "      <td>0.500</td>\n",
       "      <td>0.000</td>\n",
       "      <td>1.000</td>\n",
       "      <td>0.000</td>\n",
       "      <td>2.000</td>\n",
       "      <td>0.100</td>\n",
       "      <td>80.000</td>\n",
       "      <td>1.000</td>\n",
       "      <td>...</td>\n",
       "      <td>1.000</td>\n",
       "      <td>500.000</td>\n",
       "      <td>256.000</td>\n",
       "      <td>5.000</td>\n",
       "      <td>1.000</td>\n",
       "      <td>2.000</td>\n",
       "      <td>0.000</td>\n",
       "      <td>0.000</td>\n",
       "      <td>0.000</td>\n",
       "      <td>0.000</td>\n",
       "    </tr>\n",
       "    <tr>\n",
       "      <th>25%</th>\n",
       "      <td>851.750</td>\n",
       "      <td>0.000</td>\n",
       "      <td>0.700</td>\n",
       "      <td>0.000</td>\n",
       "      <td>2.000</td>\n",
       "      <td>0.000</td>\n",
       "      <td>16.000</td>\n",
       "      <td>0.200</td>\n",
       "      <td>109.000</td>\n",
       "      <td>3.000</td>\n",
       "      <td>...</td>\n",
       "      <td>284.000</td>\n",
       "      <td>874.750</td>\n",
       "      <td>1207.500</td>\n",
       "      <td>9.000</td>\n",
       "      <td>3.000</td>\n",
       "      <td>6.000</td>\n",
       "      <td>1.000</td>\n",
       "      <td>0.000</td>\n",
       "      <td>0.000</td>\n",
       "      <td>0.750</td>\n",
       "    </tr>\n",
       "    <tr>\n",
       "      <th>50%</th>\n",
       "      <td>1226.000</td>\n",
       "      <td>0.000</td>\n",
       "      <td>1.500</td>\n",
       "      <td>1.000</td>\n",
       "      <td>5.000</td>\n",
       "      <td>1.000</td>\n",
       "      <td>32.000</td>\n",
       "      <td>0.500</td>\n",
       "      <td>141.000</td>\n",
       "      <td>4.000</td>\n",
       "      <td>...</td>\n",
       "      <td>567.250</td>\n",
       "      <td>1247.000</td>\n",
       "      <td>2146.500</td>\n",
       "      <td>12.000</td>\n",
       "      <td>5.000</td>\n",
       "      <td>11.000</td>\n",
       "      <td>1.000</td>\n",
       "      <td>1.000</td>\n",
       "      <td>1.000</td>\n",
       "      <td>1.500</td>\n",
       "    </tr>\n",
       "    <tr>\n",
       "      <th>75%</th>\n",
       "      <td>1615.250</td>\n",
       "      <td>1.000</td>\n",
       "      <td>2.200</td>\n",
       "      <td>1.000</td>\n",
       "      <td>8.000</td>\n",
       "      <td>1.000</td>\n",
       "      <td>48.000</td>\n",
       "      <td>0.800</td>\n",
       "      <td>170.000</td>\n",
       "      <td>7.000</td>\n",
       "      <td>...</td>\n",
       "      <td>946.250</td>\n",
       "      <td>1633.000</td>\n",
       "      <td>3064.500</td>\n",
       "      <td>16.000</td>\n",
       "      <td>9.000</td>\n",
       "      <td>16.000</td>\n",
       "      <td>1.000</td>\n",
       "      <td>1.000</td>\n",
       "      <td>1.000</td>\n",
       "      <td>2.250</td>\n",
       "    </tr>\n",
       "    <tr>\n",
       "      <th>max</th>\n",
       "      <td>1998.000</td>\n",
       "      <td>1.000</td>\n",
       "      <td>3.000</td>\n",
       "      <td>1.000</td>\n",
       "      <td>17.000</td>\n",
       "      <td>1.000</td>\n",
       "      <td>64.000</td>\n",
       "      <td>1.000</td>\n",
       "      <td>200.000</td>\n",
       "      <td>8.000</td>\n",
       "      <td>...</td>\n",
       "      <td>1920.000</td>\n",
       "      <td>1998.000</td>\n",
       "      <td>3998.000</td>\n",
       "      <td>19.000</td>\n",
       "      <td>18.000</td>\n",
       "      <td>20.000</td>\n",
       "      <td>1.000</td>\n",
       "      <td>1.000</td>\n",
       "      <td>1.000</td>\n",
       "      <td>3.000</td>\n",
       "    </tr>\n",
       "  </tbody>\n",
       "</table>\n",
       "<p>8 rows × 21 columns</p>\n",
       "</div>"
      ],
      "text/plain": [
       "       battery_power      blue  clock_speed  dual_sim        fc    four_g  \\\n",
       "count       2000.000  2000.000     2000.000  2000.000  2000.000  2000.000   \n",
       "mean        1238.518     0.495        1.522     0.509     5.555     0.521   \n",
       "std          439.418     0.500        0.816     0.500     3.984     0.500   \n",
       "min          501.000     0.000        0.500     0.000     1.000     0.000   \n",
       "25%          851.750     0.000        0.700     0.000     2.000     0.000   \n",
       "50%         1226.000     0.000        1.500     1.000     5.000     1.000   \n",
       "75%         1615.250     1.000        2.200     1.000     8.000     1.000   \n",
       "max         1998.000     1.000        3.000     1.000    17.000     1.000   \n",
       "\n",
       "       int_memory     m_dep  mobile_wt   n_cores  ...  px_height  px_width  \\\n",
       "count    2000.000  2000.000   2000.000  2000.000  ...   2000.000  2000.000   \n",
       "mean       32.047     0.502    140.249     4.521  ...    644.917  1251.515   \n",
       "std        18.146     0.288     35.400     2.288  ...    442.051   432.199   \n",
       "min         2.000     0.100     80.000     1.000  ...      1.000   500.000   \n",
       "25%        16.000     0.200    109.000     3.000  ...    284.000   874.750   \n",
       "50%        32.000     0.500    141.000     4.000  ...    567.250  1247.000   \n",
       "75%        48.000     0.800    170.000     7.000  ...    946.250  1633.000   \n",
       "max        64.000     1.000    200.000     8.000  ...   1920.000  1998.000   \n",
       "\n",
       "            ram      sc_h      sc_w  talk_time   three_g  touch_screen  \\\n",
       "count  2000.000  2000.000  2000.000   2000.000  2000.000      2000.000   \n",
       "mean   2124.213    12.306     6.334     11.011     0.761         0.503   \n",
       "std    1084.732     4.213     4.172      5.464     0.426         0.500   \n",
       "min     256.000     5.000     1.000      2.000     0.000         0.000   \n",
       "25%    1207.500     9.000     3.000      6.000     1.000         0.000   \n",
       "50%    2146.500    12.000     5.000     11.000     1.000         1.000   \n",
       "75%    3064.500    16.000     9.000     16.000     1.000         1.000   \n",
       "max    3998.000    19.000    18.000     20.000     1.000         1.000   \n",
       "\n",
       "           wifi  price_range  \n",
       "count  2000.000     2000.000  \n",
       "mean      0.507        1.500  \n",
       "std       0.500        1.118  \n",
       "min       0.000        0.000  \n",
       "25%       0.000        0.750  \n",
       "50%       1.000        1.500  \n",
       "75%       1.000        2.250  \n",
       "max       1.000        3.000  \n",
       "\n",
       "[8 rows x 21 columns]"
      ]
     },
     "execution_count": 65,
     "metadata": {},
     "output_type": "execute_result"
    }
   ],
   "source": [
    "mobile.describe()"
   ]
  },
  {
   "cell_type": "markdown",
   "id": "9e24a8f8",
   "metadata": {},
   "source": [
    "The descriptions of the features in the dataset are as follows\n",
    "\n",
    "1. battery_power : Total energy a battery can store in one time measured in mAh\n",
    "2. blue : Has bluetooth or not\n",
    "3. clock_speed : speed at which microprocessor executes instructions\n",
    "4. dual _sim : Has dual sim support or not\n",
    "5. fc : Front Camera megapixels\n",
    "6. four_g : Has 4G or not\n",
    "7. int_memory : Internal Memory in Gigabytes\n",
    "8. m_dep : Mobile Depth in cm\n",
    "9. mobile_wt : Weight of mobile phone\n",
    "10. n_cores : Number of cores of processor\n",
    "11. pc : Primary Camera megapixels\n",
    "12. px_height : Pixel Resolution Height\n",
    "13. px_width : Pixel Resolution Width\n",
    "14. ram : Random Access Memory in Megabytes\n",
    "15. sc_h : Screen Height of mobile in cm\n",
    "16. sc_w : Screen Width of mobile in cm\n",
    "17. talk_time : longest time that a single battery charge will last when you are talking\n",
    "18. three_g : Has 3G or not\n",
    "19. touch_screen : Has touch screen or not\n",
    "20. wifi : Has wifi or not\n",
    "22. price_range : This is the target variable with values of 0(low cost), 1(medium cost), 2(high cost) and 3(very high cost).\n",
    "\n"
   ]
  },
  {
   "cell_type": "markdown",
   "id": "7c455b6b",
   "metadata": {},
   "source": [
    "# Section 3: Dealing with missing values\n"
   ]
  },
  {
   "cell_type": "markdown",
   "id": "b455d924",
   "metadata": {},
   "source": [
    "In this section we will perfom data cleaning by dealing with missing values, duplicates and incorrect values"
   ]
  },
  {
   "cell_type": "code",
   "execution_count": 10,
   "id": "c6feca73",
   "metadata": {},
   "outputs": [
    {
     "data": {
      "text/plain": [
       "0"
      ]
     },
     "execution_count": 10,
     "metadata": {},
     "output_type": "execute_result"
    }
   ],
   "source": [
    "#checking for duplicate values\n",
    "mobile.duplicated().sum()"
   ]
  },
  {
   "cell_type": "code",
   "execution_count": 11,
   "id": "0df02461",
   "metadata": {},
   "outputs": [
    {
     "data": {
      "text/plain": [
       "(2000, 21)"
      ]
     },
     "execution_count": 11,
     "metadata": {},
     "output_type": "execute_result"
    }
   ],
   "source": [
    "#check for missing values and drop them in our dataset\n",
    "mobile = mobile.dropna()\n",
    "mobile.shape"
   ]
  },
  {
   "cell_type": "markdown",
   "id": "cc07f299",
   "metadata": {},
   "source": [
    "The previous code show that no data is found to be null, however incorrect values as detected in px_height and sc_w height is not a proper values, therefore we want to treat all the variables one by one to check for those missing incorrect value"
   ]
  },
  {
   "cell_type": "code",
   "execution_count": 12,
   "id": "57c26254",
   "metadata": {},
   "outputs": [
    {
     "data": {
      "text/plain": [
       "True     1010\n",
       "False     990\n",
       "Name: blue, dtype: int64"
      ]
     },
     "execution_count": 12,
     "metadata": {},
     "output_type": "execute_result"
    },
    {
     "data": {
      "text/plain": [
       "False    1019\n",
       "True      981\n",
       "Name: dual_sim, dtype: int64"
      ]
     },
     "execution_count": 12,
     "metadata": {},
     "output_type": "execute_result"
    },
    {
     "data": {
      "text/plain": [
       "False    1043\n",
       "True      957\n",
       "Name: four_g, dtype: int64"
      ]
     },
     "execution_count": 12,
     "metadata": {},
     "output_type": "execute_result"
    },
    {
     "data": {
      "text/plain": [
       "False    1523\n",
       "True      477\n",
       "Name: three_g, dtype: int64"
      ]
     },
     "execution_count": 12,
     "metadata": {},
     "output_type": "execute_result"
    },
    {
     "data": {
      "text/plain": [
       "False    1006\n",
       "True      994\n",
       "Name: touch_screen, dtype: int64"
      ]
     },
     "execution_count": 12,
     "metadata": {},
     "output_type": "execute_result"
    },
    {
     "data": {
      "text/plain": [
       "False    1014\n",
       "True      986\n",
       "Name: wifi, dtype: int64"
      ]
     },
     "execution_count": 12,
     "metadata": {},
     "output_type": "execute_result"
    }
   ],
   "source": [
    "#Checking missing values in categorical data\n",
    "(mobile.blue==0).value_counts()\n",
    "(mobile.dual_sim==0).value_counts()\n",
    "(mobile.four_g==0).value_counts()\n",
    "(mobile.three_g==0).value_counts()\n",
    "(mobile.touch_screen==0).value_counts()\n",
    "(mobile.wifi==0).value_counts()"
   ]
  },
  {
   "cell_type": "markdown",
   "id": "36ce6ada",
   "metadata": {},
   "source": [
    "The code above show that there is no problem with categorical data all the values are correct and no missing value is detected ."
   ]
  },
  {
   "cell_type": "code",
   "execution_count": 13,
   "id": "cefa283a",
   "metadata": {},
   "outputs": [
    {
     "data": {
      "text/plain": [
       "0    500\n",
       "1    500\n",
       "2    500\n",
       "3    500\n",
       "Name: price_range, dtype: int64"
      ]
     },
     "execution_count": 13,
     "metadata": {},
     "output_type": "execute_result"
    }
   ],
   "source": [
    "#checking the target variable data to detect any missing and incorrect class\n",
    "mobile['price_range'].value_counts()"
   ]
  },
  {
   "cell_type": "code",
   "execution_count": 14,
   "id": "ea51d923",
   "metadata": {},
   "outputs": [
    {
     "data": {
      "text/plain": [
       "False    2000\n",
       "Name: battery_power, dtype: int64"
      ]
     },
     "execution_count": 14,
     "metadata": {},
     "output_type": "execute_result"
    },
    {
     "data": {
      "text/plain": [
       "False    2000\n",
       "Name: clock_speed, dtype: int64"
      ]
     },
     "execution_count": 14,
     "metadata": {},
     "output_type": "execute_result"
    },
    {
     "data": {
      "text/plain": [
       "False    2000\n",
       "Name: int_memory, dtype: int64"
      ]
     },
     "execution_count": 14,
     "metadata": {},
     "output_type": "execute_result"
    },
    {
     "data": {
      "text/plain": [
       "False    2000\n",
       "Name: m_dep, dtype: int64"
      ]
     },
     "execution_count": 14,
     "metadata": {},
     "output_type": "execute_result"
    },
    {
     "data": {
      "text/plain": [
       "False    2000\n",
       "Name: mobile_wt, dtype: int64"
      ]
     },
     "execution_count": 14,
     "metadata": {},
     "output_type": "execute_result"
    },
    {
     "data": {
      "text/plain": [
       "False    2000\n",
       "Name: n_cores, dtype: int64"
      ]
     },
     "execution_count": 14,
     "metadata": {},
     "output_type": "execute_result"
    },
    {
     "data": {
      "text/plain": [
       "False    2000\n",
       "Name: px_width, dtype: int64"
      ]
     },
     "execution_count": 14,
     "metadata": {},
     "output_type": "execute_result"
    },
    {
     "data": {
      "text/plain": [
       "False    2000\n",
       "Name: ram, dtype: int64"
      ]
     },
     "execution_count": 14,
     "metadata": {},
     "output_type": "execute_result"
    },
    {
     "data": {
      "text/plain": [
       "False    2000\n",
       "Name: sc_h, dtype: int64"
      ]
     },
     "execution_count": 14,
     "metadata": {},
     "output_type": "execute_result"
    },
    {
     "data": {
      "text/plain": [
       "False    2000\n",
       "Name: talk_time, dtype: int64"
      ]
     },
     "execution_count": 14,
     "metadata": {},
     "output_type": "execute_result"
    }
   ],
   "source": [
    "#Checking missing values in continous variale\n",
    "(mobile.battery_power==0).value_counts()\n",
    "(mobile.clock_speed==0).value_counts()\n",
    "(mobile.int_memory==0).value_counts()\n",
    "(mobile.m_dep==0).value_counts()\n",
    "(mobile.mobile_wt==0).value_counts()\n",
    "(mobile.n_cores==0).value_counts()\n",
    "(mobile.px_width==0).value_counts()\n",
    "(mobile.ram==0).value_counts()\n",
    "(mobile.sc_h==0).value_counts()\n",
    "(mobile.talk_time==0).value_counts()"
   ]
  },
  {
   "cell_type": "code",
   "execution_count": 15,
   "id": "5fd10b5b",
   "metadata": {},
   "outputs": [
    {
     "data": {
      "text/plain": [
       "False    1526\n",
       "True      474\n",
       "Name: fc, dtype: int64"
      ]
     },
     "execution_count": 15,
     "metadata": {},
     "output_type": "execute_result"
    },
    {
     "data": {
      "text/plain": [
       "False    1899\n",
       "True      101\n",
       "Name: pc, dtype: int64"
      ]
     },
     "execution_count": 15,
     "metadata": {},
     "output_type": "execute_result"
    },
    {
     "data": {
      "text/plain": [
       "False    1820\n",
       "True      180\n",
       "Name: sc_w, dtype: int64"
      ]
     },
     "execution_count": 15,
     "metadata": {},
     "output_type": "execute_result"
    },
    {
     "data": {
      "text/plain": [
       "False    1998\n",
       "True        2\n",
       "Name: px_height, dtype: int64"
      ]
     },
     "execution_count": 15,
     "metadata": {},
     "output_type": "execute_result"
    }
   ],
   "source": [
    "(mobile.fc==0).value_counts()\n",
    "(mobile.pc==0).value_counts()\n",
    "(mobile.sc_w==0).value_counts()\n",
    "(mobile.px_height==0).value_counts()"
   ]
  },
  {
   "cell_type": "markdown",
   "id": "15b6e40d",
   "metadata": {},
   "source": [
    "The result of the code above show some features; pc,fc,sc_w and px_height have 0 values in some rows, and according to the nature of these features it is impossible to have 0 vales, therefore we assume that these value are not correct and therefore we treat them as missing values.\n",
    "Since the number of the incorrect value are high we can not just eliminate them and therefore we decide to compute the correct value through Imputation method."
   ]
  },
  {
   "cell_type": "code",
   "execution_count": 66,
   "id": "c1a23879",
   "metadata": {},
   "outputs": [
    {
     "data": {
      "text/plain": [
       "False    2000\n",
       "Name: fc, dtype: int64"
      ]
     },
     "execution_count": 66,
     "metadata": {},
     "output_type": "execute_result"
    },
    {
     "data": {
      "text/plain": [
       "False    2000\n",
       "Name: pc, dtype: int64"
      ]
     },
     "execution_count": 66,
     "metadata": {},
     "output_type": "execute_result"
    },
    {
     "data": {
      "text/plain": [
       "False    2000\n",
       "Name: sc_w, dtype: int64"
      ]
     },
     "execution_count": 66,
     "metadata": {},
     "output_type": "execute_result"
    },
    {
     "data": {
      "text/plain": [
       "False    2000\n",
       "Name: px_height, dtype: int64"
      ]
     },
     "execution_count": 66,
     "metadata": {},
     "output_type": "execute_result"
    }
   ],
   "source": [
    "(mobile.fc==0).value_counts()\n",
    "(mobile.pc==0).value_counts()\n",
    "(mobile.sc_w==0).value_counts()\n",
    "(mobile.px_height==0).value_counts()"
   ]
  },
  {
   "cell_type": "code",
   "execution_count": 16,
   "id": "1c7e44fc",
   "metadata": {},
   "outputs": [],
   "source": [
    "#assign null value to this row with 0 value\n",
    "mobile.fc[mobile.fc==0]= np.nan\n",
    "mobile.pc[mobile.pc==0]= np.nan\n",
    "mobile.sc_w[mobile.sc_w==0]= np.nan\n",
    "mobile.px_height[mobile.px_height==0]= np.nan"
   ]
  },
  {
   "cell_type": "code",
   "execution_count": 17,
   "id": "0da79c35",
   "metadata": {},
   "outputs": [
    {
     "data": {
      "text/plain": [
       "count    1526.000\n",
       "mean        5.648\n",
       "std         4.140\n",
       "min         1.000\n",
       "25%         2.000\n",
       "50%         5.000\n",
       "75%         8.000\n",
       "max        19.000\n",
       "Name: fc, dtype: float64"
      ]
     },
     "execution_count": 17,
     "metadata": {},
     "output_type": "execute_result"
    },
    {
     "data": {
      "text/plain": [
       "count    1899.000\n",
       "mean       10.444\n",
       "std         5.764\n",
       "min         1.000\n",
       "25%         6.000\n",
       "50%        10.000\n",
       "75%        15.000\n",
       "max        20.000\n",
       "Name: pc, dtype: float64"
      ]
     },
     "execution_count": 17,
     "metadata": {},
     "output_type": "execute_result"
    },
    {
     "data": {
      "text/plain": [
       "count    1820.000\n",
       "mean        6.337\n",
       "std         4.152\n",
       "min         1.000\n",
       "25%         3.000\n",
       "50%         6.000\n",
       "75%         9.000\n",
       "max        18.000\n",
       "Name: sc_w, dtype: float64"
      ]
     },
     "execution_count": 17,
     "metadata": {},
     "output_type": "execute_result"
    },
    {
     "data": {
      "text/plain": [
       "count    1998.000\n",
       "mean      645.754\n",
       "std       443.533\n",
       "min         1.000\n",
       "25%       284.000\n",
       "50%       565.500\n",
       "75%       947.750\n",
       "max      1960.000\n",
       "Name: px_height, dtype: float64"
      ]
     },
     "execution_count": 17,
     "metadata": {},
     "output_type": "execute_result"
    }
   ],
   "source": [
    "mobile.fc.describe()\n",
    "mobile.pc.describe()\n",
    "mobile.sc_w.describe()\n",
    "mobile.px_height.describe()"
   ]
  },
  {
   "cell_type": "markdown",
   "id": "dfba8cee",
   "metadata": {},
   "source": [
    "Here we perform imputation i.e assigning a value to every missing value by a method known as 1NN\n",
    "For every variable with a missing value, we will look the value of that attribute in the other rows with similar other attribute.\n",
    "\n",
    "To compute the 1KNN we will make a classifier by dropping the all the columns with missing values and training a classifier for each column, we will drop fc,pc, sc_w column, px_height"
   ]
  },
  {
   "cell_type": "code",
   "execution_count": 18,
   "id": "8267c82e",
   "metadata": {},
   "outputs": [
    {
     "data": {
      "text/plain": [
       "(2000, 21)"
      ]
     },
     "execution_count": 18,
     "metadata": {},
     "output_type": "execute_result"
    }
   ],
   "source": [
    "#the original dataset before dropping\n",
    "mobile.shape"
   ]
  },
  {
   "cell_type": "code",
   "execution_count": 19,
   "id": "f33f5cd6",
   "metadata": {},
   "outputs": [
    {
     "data": {
      "text/plain": [
       "(2000, 17)"
      ]
     },
     "execution_count": 19,
     "metadata": {},
     "output_type": "execute_result"
    },
    {
     "data": {
      "text/plain": [
       "(1393, 17)"
      ]
     },
     "execution_count": 19,
     "metadata": {},
     "output_type": "execute_result"
    }
   ],
   "source": [
    "subset_of_mobile = mobile.drop(columns=['fc', 'pc', 'sc_w','px_height'])\n",
    "subset_of_mobile.shape\n",
    "\n",
    "rows_not_missing = mobile.fc.notna() & mobile.pc.notna() & mobile.sc_w.notna() & mobile.px_height.notna()\n",
    "\n",
    "mobile_without_missings = subset_of_mobile[rows_not_missing]\n",
    "mobile_without_missings.shape\n"
   ]
  },
  {
   "cell_type": "code",
   "execution_count": 20,
   "id": "a710fd00",
   "metadata": {},
   "outputs": [
    {
     "data": {
      "text/plain": [
       "KNeighborsClassifier(n_neighbors=1)"
      ]
     },
     "execution_count": 20,
     "metadata": {},
     "output_type": "execute_result"
    }
   ],
   "source": [
    "#Imputation of 'fc'\n",
    "fc_missing_values = subset_of_mobile[mobile.fc.isna()]\n",
    "knn = KNeighborsClassifier(n_neighbors=1)\n",
    "knn.fit(mobile_without_missings, mobile.fc[rows_not_missing])\n",
    "knn_fc = knn.predict(fc_missing_values)"
   ]
  },
  {
   "cell_type": "code",
   "execution_count": 21,
   "id": "90d09365",
   "metadata": {},
   "outputs": [
    {
     "data": {
      "text/plain": [
       "KNeighborsClassifier(n_neighbors=1)"
      ]
     },
     "execution_count": 21,
     "metadata": {},
     "output_type": "execute_result"
    }
   ],
   "source": [
    "#Imputation of 'pc'\n",
    "pc_missing_values = subset_of_mobile[mobile.pc.isna()]\n",
    "knn = KNeighborsClassifier(n_neighbors=1)\n",
    "knn.fit(mobile_without_missings, mobile.pc[rows_not_missing])\n",
    "knn_pc = knn.predict(pc_missing_values)"
   ]
  },
  {
   "cell_type": "code",
   "execution_count": 22,
   "id": "2ea54733",
   "metadata": {},
   "outputs": [
    {
     "data": {
      "text/plain": [
       "KNeighborsClassifier(n_neighbors=1)"
      ]
     },
     "execution_count": 22,
     "metadata": {},
     "output_type": "execute_result"
    }
   ],
   "source": [
    "#Imputation of 'sc_w'\n",
    "sc_w_missing_values = subset_of_mobile[mobile.sc_w.isna()]\n",
    "knn = KNeighborsClassifier(n_neighbors=1)\n",
    "knn.fit(mobile_without_missings, mobile.sc_w[rows_not_missing])\n",
    "knn_sc_w = knn.predict(sc_w_missing_values)"
   ]
  },
  {
   "cell_type": "code",
   "execution_count": 23,
   "id": "366c45cc",
   "metadata": {},
   "outputs": [
    {
     "data": {
      "text/plain": [
       "KNeighborsClassifier(n_neighbors=1)"
      ]
     },
     "execution_count": 23,
     "metadata": {},
     "output_type": "execute_result"
    }
   ],
   "source": [
    "#Imputation of 'px_height'\n",
    "px_height_missing_values = subset_of_mobile[mobile.px_height.isna()]\n",
    "knn = KNeighborsClassifier(n_neighbors=1)\n",
    "knn.fit(mobile_without_missings, mobile.px_height[rows_not_missing])\n",
    "knn_px_height = knn.predict(px_height_missing_values)"
   ]
  },
  {
   "cell_type": "code",
   "execution_count": 24,
   "id": "05869210",
   "metadata": {},
   "outputs": [],
   "source": [
    "#Filling the value to the missing variable after imputation\n",
    "mobile.fc[mobile.fc.isna()] = knn_fc\n",
    "mobile.pc[mobile.pc.isna()] = knn_pc\n",
    "mobile.sc_w[mobile.sc_w.isna()] = knn_sc_w\n",
    "mobile.px_height[mobile.px_height.isna()] = knn_px_height\n"
   ]
  },
  {
   "cell_type": "code",
   "execution_count": 25,
   "id": "71056be1",
   "metadata": {},
   "outputs": [
    {
     "data": {
      "text/plain": [
       "(2000, 21)"
      ]
     },
     "execution_count": 25,
     "metadata": {},
     "output_type": "execute_result"
    },
    {
     "data": {
      "text/html": [
       "<div>\n",
       "<style scoped>\n",
       "    .dataframe tbody tr th:only-of-type {\n",
       "        vertical-align: middle;\n",
       "    }\n",
       "\n",
       "    .dataframe tbody tr th {\n",
       "        vertical-align: top;\n",
       "    }\n",
       "\n",
       "    .dataframe thead th {\n",
       "        text-align: right;\n",
       "    }\n",
       "</style>\n",
       "<table border=\"1\" class=\"dataframe\">\n",
       "  <thead>\n",
       "    <tr style=\"text-align: right;\">\n",
       "      <th></th>\n",
       "      <th>battery_power</th>\n",
       "      <th>blue</th>\n",
       "      <th>clock_speed</th>\n",
       "      <th>dual_sim</th>\n",
       "      <th>fc</th>\n",
       "      <th>four_g</th>\n",
       "      <th>int_memory</th>\n",
       "      <th>m_dep</th>\n",
       "      <th>mobile_wt</th>\n",
       "      <th>n_cores</th>\n",
       "      <th>...</th>\n",
       "      <th>px_height</th>\n",
       "      <th>px_width</th>\n",
       "      <th>ram</th>\n",
       "      <th>sc_h</th>\n",
       "      <th>sc_w</th>\n",
       "      <th>talk_time</th>\n",
       "      <th>three_g</th>\n",
       "      <th>touch_screen</th>\n",
       "      <th>wifi</th>\n",
       "      <th>price_range</th>\n",
       "    </tr>\n",
       "  </thead>\n",
       "  <tbody>\n",
       "    <tr>\n",
       "      <th>count</th>\n",
       "      <td>2000.000</td>\n",
       "      <td>2000.000</td>\n",
       "      <td>2000.000</td>\n",
       "      <td>2000.000</td>\n",
       "      <td>2000.000</td>\n",
       "      <td>2000.000</td>\n",
       "      <td>2000.000</td>\n",
       "      <td>2000.000</td>\n",
       "      <td>2000.000</td>\n",
       "      <td>2000.000</td>\n",
       "      <td>...</td>\n",
       "      <td>2000.000</td>\n",
       "      <td>2000.000</td>\n",
       "      <td>2000.000</td>\n",
       "      <td>2000.000</td>\n",
       "      <td>2000.000</td>\n",
       "      <td>2000.000</td>\n",
       "      <td>2000.000</td>\n",
       "      <td>2000.000</td>\n",
       "      <td>2000.000</td>\n",
       "      <td>2000.000</td>\n",
       "    </tr>\n",
       "    <tr>\n",
       "      <th>mean</th>\n",
       "      <td>1238.518</td>\n",
       "      <td>0.495</td>\n",
       "      <td>1.522</td>\n",
       "      <td>0.509</td>\n",
       "      <td>5.686</td>\n",
       "      <td>0.521</td>\n",
       "      <td>32.047</td>\n",
       "      <td>0.502</td>\n",
       "      <td>140.249</td>\n",
       "      <td>4.521</td>\n",
       "      <td>...</td>\n",
       "      <td>646.303</td>\n",
       "      <td>1251.515</td>\n",
       "      <td>2124.213</td>\n",
       "      <td>12.306</td>\n",
       "      <td>6.334</td>\n",
       "      <td>11.011</td>\n",
       "      <td>0.761</td>\n",
       "      <td>0.503</td>\n",
       "      <td>0.507</td>\n",
       "      <td>1.500</td>\n",
       "    </tr>\n",
       "    <tr>\n",
       "      <th>std</th>\n",
       "      <td>439.418</td>\n",
       "      <td>0.500</td>\n",
       "      <td>0.816</td>\n",
       "      <td>0.500</td>\n",
       "      <td>4.173</td>\n",
       "      <td>0.500</td>\n",
       "      <td>18.146</td>\n",
       "      <td>0.288</td>\n",
       "      <td>35.400</td>\n",
       "      <td>2.288</td>\n",
       "      <td>...</td>\n",
       "      <td>443.978</td>\n",
       "      <td>432.199</td>\n",
       "      <td>1084.732</td>\n",
       "      <td>4.213</td>\n",
       "      <td>4.172</td>\n",
       "      <td>5.464</td>\n",
       "      <td>0.426</td>\n",
       "      <td>0.500</td>\n",
       "      <td>0.500</td>\n",
       "      <td>1.118</td>\n",
       "    </tr>\n",
       "    <tr>\n",
       "      <th>min</th>\n",
       "      <td>501.000</td>\n",
       "      <td>0.000</td>\n",
       "      <td>0.500</td>\n",
       "      <td>0.000</td>\n",
       "      <td>1.000</td>\n",
       "      <td>0.000</td>\n",
       "      <td>2.000</td>\n",
       "      <td>0.100</td>\n",
       "      <td>80.000</td>\n",
       "      <td>1.000</td>\n",
       "      <td>...</td>\n",
       "      <td>1.000</td>\n",
       "      <td>500.000</td>\n",
       "      <td>256.000</td>\n",
       "      <td>5.000</td>\n",
       "      <td>1.000</td>\n",
       "      <td>2.000</td>\n",
       "      <td>0.000</td>\n",
       "      <td>0.000</td>\n",
       "      <td>0.000</td>\n",
       "      <td>0.000</td>\n",
       "    </tr>\n",
       "    <tr>\n",
       "      <th>25%</th>\n",
       "      <td>851.750</td>\n",
       "      <td>0.000</td>\n",
       "      <td>0.700</td>\n",
       "      <td>0.000</td>\n",
       "      <td>2.000</td>\n",
       "      <td>0.000</td>\n",
       "      <td>16.000</td>\n",
       "      <td>0.200</td>\n",
       "      <td>109.000</td>\n",
       "      <td>3.000</td>\n",
       "      <td>...</td>\n",
       "      <td>284.000</td>\n",
       "      <td>874.750</td>\n",
       "      <td>1207.500</td>\n",
       "      <td>9.000</td>\n",
       "      <td>3.000</td>\n",
       "      <td>6.000</td>\n",
       "      <td>1.000</td>\n",
       "      <td>0.000</td>\n",
       "      <td>0.000</td>\n",
       "      <td>0.750</td>\n",
       "    </tr>\n",
       "    <tr>\n",
       "      <th>50%</th>\n",
       "      <td>1226.000</td>\n",
       "      <td>0.000</td>\n",
       "      <td>1.500</td>\n",
       "      <td>1.000</td>\n",
       "      <td>5.000</td>\n",
       "      <td>1.000</td>\n",
       "      <td>32.000</td>\n",
       "      <td>0.500</td>\n",
       "      <td>141.000</td>\n",
       "      <td>4.000</td>\n",
       "      <td>...</td>\n",
       "      <td>568.000</td>\n",
       "      <td>1247.000</td>\n",
       "      <td>2146.500</td>\n",
       "      <td>12.000</td>\n",
       "      <td>5.000</td>\n",
       "      <td>11.000</td>\n",
       "      <td>1.000</td>\n",
       "      <td>1.000</td>\n",
       "      <td>1.000</td>\n",
       "      <td>1.500</td>\n",
       "    </tr>\n",
       "    <tr>\n",
       "      <th>75%</th>\n",
       "      <td>1615.250</td>\n",
       "      <td>1.000</td>\n",
       "      <td>2.200</td>\n",
       "      <td>1.000</td>\n",
       "      <td>8.000</td>\n",
       "      <td>1.000</td>\n",
       "      <td>48.000</td>\n",
       "      <td>0.800</td>\n",
       "      <td>170.000</td>\n",
       "      <td>7.000</td>\n",
       "      <td>...</td>\n",
       "      <td>948.000</td>\n",
       "      <td>1633.000</td>\n",
       "      <td>3064.500</td>\n",
       "      <td>16.000</td>\n",
       "      <td>9.000</td>\n",
       "      <td>16.000</td>\n",
       "      <td>1.000</td>\n",
       "      <td>1.000</td>\n",
       "      <td>1.000</td>\n",
       "      <td>2.250</td>\n",
       "    </tr>\n",
       "    <tr>\n",
       "      <th>max</th>\n",
       "      <td>1998.000</td>\n",
       "      <td>1.000</td>\n",
       "      <td>3.000</td>\n",
       "      <td>1.000</td>\n",
       "      <td>19.000</td>\n",
       "      <td>1.000</td>\n",
       "      <td>64.000</td>\n",
       "      <td>1.000</td>\n",
       "      <td>200.000</td>\n",
       "      <td>8.000</td>\n",
       "      <td>...</td>\n",
       "      <td>1960.000</td>\n",
       "      <td>1998.000</td>\n",
       "      <td>3998.000</td>\n",
       "      <td>19.000</td>\n",
       "      <td>18.000</td>\n",
       "      <td>20.000</td>\n",
       "      <td>1.000</td>\n",
       "      <td>1.000</td>\n",
       "      <td>1.000</td>\n",
       "      <td>3.000</td>\n",
       "    </tr>\n",
       "  </tbody>\n",
       "</table>\n",
       "<p>8 rows × 21 columns</p>\n",
       "</div>"
      ],
      "text/plain": [
       "       battery_power      blue  clock_speed  dual_sim        fc    four_g  \\\n",
       "count       2000.000  2000.000     2000.000  2000.000  2000.000  2000.000   \n",
       "mean        1238.518     0.495        1.522     0.509     5.686     0.521   \n",
       "std          439.418     0.500        0.816     0.500     4.173     0.500   \n",
       "min          501.000     0.000        0.500     0.000     1.000     0.000   \n",
       "25%          851.750     0.000        0.700     0.000     2.000     0.000   \n",
       "50%         1226.000     0.000        1.500     1.000     5.000     1.000   \n",
       "75%         1615.250     1.000        2.200     1.000     8.000     1.000   \n",
       "max         1998.000     1.000        3.000     1.000    19.000     1.000   \n",
       "\n",
       "       int_memory     m_dep  mobile_wt   n_cores  ...  px_height  px_width  \\\n",
       "count    2000.000  2000.000   2000.000  2000.000  ...   2000.000  2000.000   \n",
       "mean       32.047     0.502    140.249     4.521  ...    646.303  1251.515   \n",
       "std        18.146     0.288     35.400     2.288  ...    443.978   432.199   \n",
       "min         2.000     0.100     80.000     1.000  ...      1.000   500.000   \n",
       "25%        16.000     0.200    109.000     3.000  ...    284.000   874.750   \n",
       "50%        32.000     0.500    141.000     4.000  ...    568.000  1247.000   \n",
       "75%        48.000     0.800    170.000     7.000  ...    948.000  1633.000   \n",
       "max        64.000     1.000    200.000     8.000  ...   1960.000  1998.000   \n",
       "\n",
       "            ram      sc_h      sc_w  talk_time   three_g  touch_screen  \\\n",
       "count  2000.000  2000.000  2000.000   2000.000  2000.000      2000.000   \n",
       "mean   2124.213    12.306     6.334     11.011     0.761         0.503   \n",
       "std    1084.732     4.213     4.172      5.464     0.426         0.500   \n",
       "min     256.000     5.000     1.000      2.000     0.000         0.000   \n",
       "25%    1207.500     9.000     3.000      6.000     1.000         0.000   \n",
       "50%    2146.500    12.000     5.000     11.000     1.000         1.000   \n",
       "75%    3064.500    16.000     9.000     16.000     1.000         1.000   \n",
       "max    3998.000    19.000    18.000     20.000     1.000         1.000   \n",
       "\n",
       "           wifi  price_range  \n",
       "count  2000.000     2000.000  \n",
       "mean      0.507        1.500  \n",
       "std       0.500        1.118  \n",
       "min       0.000        0.000  \n",
       "25%       0.000        0.750  \n",
       "50%       1.000        1.500  \n",
       "75%       1.000        2.250  \n",
       "max       1.000        3.000  \n",
       "\n",
       "[8 rows x 21 columns]"
      ]
     },
     "execution_count": 25,
     "metadata": {},
     "output_type": "execute_result"
    }
   ],
   "source": [
    "#inspect the new result again after doing imputation\n",
    "mobile.shape\n",
    "mobile.describe()"
   ]
  },
  {
   "cell_type": "markdown",
   "id": "c303b1f3",
   "metadata": {},
   "source": [
    "# Section 4: Finding Outlier"
   ]
  },
  {
   "cell_type": "markdown",
   "id": "9f86be2e",
   "metadata": {},
   "source": [
    "Some machine learning models are very sensitive to outliers, therefore it is important to identify them so that we can remove them, impute or just knowing that they are existing\n",
    "Here we draw a boxplot to find outlier in continous features"
   ]
  },
  {
   "cell_type": "code",
   "execution_count": 26,
   "id": "f314f267",
   "metadata": {},
   "outputs": [
    {
     "data": {
      "image/png": "[encoded data removed]",
      "text/plain": [
       "<Figure size 648x360 with 2 Axes>"
      ]
     },
     "metadata": {
      "needs_background": "light"
     },
     "output_type": "display_data"
    }
   ],
   "source": [
    "fig, axes= plt.subplots(1,2, gridspec_kw={'width_ratios': [1, 4]}, figsize=(9,5))\n",
    "mobile.boxplot(column='battery_power',ax=axes[0]);\n",
    "mobile.hist(column='battery_power', ax=axes[1]);"
   ]
  },
  {
   "cell_type": "code",
   "execution_count": 27,
   "id": "6aa1e6de",
   "metadata": {},
   "outputs": [
    {
     "data": {
      "image/png": "[encoded data removed]",
      "text/plain": [
       "<Figure size 648x360 with 2 Axes>"
      ]
     },
     "metadata": {
      "needs_background": "light"
     },
     "output_type": "display_data"
    }
   ],
   "source": [
    "fig, axes= plt.subplots(1,2, gridspec_kw={'width_ratios': [1, 4]}, figsize=(9,5))\n",
    "mobile.boxplot(column='battery_power',ax=axes[0]);\n",
    "mobile.hist(column='battery_power', ax=axes[1]);"
   ]
  },
  {
   "cell_type": "code",
   "execution_count": 28,
   "id": "7198bf95",
   "metadata": {},
   "outputs": [
    {
     "data": {
      "image/png": "[encoded data removed]",
      "text/plain": [
       "<Figure size 648x360 with 2 Axes>"
      ]
     },
     "metadata": {
      "needs_background": "light"
     },
     "output_type": "display_data"
    }
   ],
   "source": [
    "fig, axes= plt.subplots(1,2, gridspec_kw={'width_ratios': [1, 4]}, figsize=(9,5))\n",
    "mobile.boxplot(column='clock_speed',ax=axes[0]);\n",
    "mobile.hist(column='clock_speed', ax=axes[1]);"
   ]
  },
  {
   "cell_type": "code",
   "execution_count": 29,
   "id": "92ce465c",
   "metadata": {},
   "outputs": [
    {
     "data": {
      "image/png": "[encoded data removed]",
      "text/plain": [
       "<Figure size 648x360 with 2 Axes>"
      ]
     },
     "metadata": {
      "needs_background": "light"
     },
     "output_type": "display_data"
    }
   ],
   "source": [
    "fig, axes= plt.subplots(1,2, gridspec_kw={'width_ratios': [1, 4]}, figsize=(9,5))\n",
    "mobile.boxplot(column='int_memory',ax=axes[0]);\n",
    "mobile.hist(column='int_memory', ax=axes[1]);"
   ]
  },
  {
   "cell_type": "code",
   "execution_count": 30,
   "id": "200bdf60",
   "metadata": {},
   "outputs": [
    {
     "data": {
      "image/png": "[encoded data removed]",
      "text/plain": [
       "<Figure size 648x360 with 2 Axes>"
      ]
     },
     "metadata": {
      "needs_background": "light"
     },
     "output_type": "display_data"
    }
   ],
   "source": [
    "fig, axes= plt.subplots(1,2, gridspec_kw={'width_ratios': [1, 4]}, figsize=(9,5))\n",
    "mobile.boxplot(column='m_dep',ax=axes[0]);\n",
    "mobile.hist(column='m_dep', ax=axes[1]);"
   ]
  },
  {
   "cell_type": "code",
   "execution_count": 31,
   "id": "406e584d",
   "metadata": {},
   "outputs": [
    {
     "data": {
      "image/png": "[encoded data removed]",
      "text/plain": [
       "<Figure size 648x360 with 2 Axes>"
      ]
     },
     "metadata": {
      "needs_background": "light"
     },
     "output_type": "display_data"
    }
   ],
   "source": [
    "fig, axes= plt.subplots(1,2, gridspec_kw={'width_ratios': [1, 4]}, figsize=(9,5))\n",
    "mobile.boxplot(column='mobile_wt',ax=axes[0]);\n",
    "mobile.hist(column='mobile_wt', ax=axes[1]);"
   ]
  },
  {
   "cell_type": "code",
   "execution_count": 32,
   "id": "5756d4d1",
   "metadata": {},
   "outputs": [
    {
     "data": {
      "image/png": "[encoded data removed]",
      "text/plain": [
       "<Figure size 648x360 with 2 Axes>"
      ]
     },
     "metadata": {
      "needs_background": "light"
     },
     "output_type": "display_data"
    }
   ],
   "source": [
    "fig, axes= plt.subplots(1,2, gridspec_kw={'width_ratios': [1, 4]}, figsize=(9,5))\n",
    "mobile.boxplot(column='n_cores',ax=axes[0]);\n",
    "mobile.hist(column='n_cores', ax=axes[1]);"
   ]
  },
  {
   "cell_type": "code",
   "execution_count": 33,
   "id": "14c71ff2",
   "metadata": {},
   "outputs": [
    {
     "data": {
      "image/png": "[encoded data removed]",
      "text/plain": [
       "<Figure size 648x360 with 2 Axes>"
      ]
     },
     "metadata": {
      "needs_background": "light"
     },
     "output_type": "display_data"
    }
   ],
   "source": [
    "fig, axes= plt.subplots(1,2, gridspec_kw={'width_ratios': [1, 4]}, figsize=(9,5))\n",
    "mobile.boxplot(column='pc',ax=axes[0]);\n",
    "mobile.hist(column='pc', ax=axes[1]);"
   ]
  },
  {
   "cell_type": "code",
   "execution_count": 34,
   "id": "bfcfbeb3",
   "metadata": {},
   "outputs": [
    {
     "data": {
      "image/png": "[encoded data removed]",
      "text/plain": [
       "<Figure size 648x360 with 2 Axes>"
      ]
     },
     "metadata": {
      "needs_background": "light"
     },
     "output_type": "display_data"
    }
   ],
   "source": [
    "fig, axes= plt.subplots(1,2, gridspec_kw={'width_ratios': [1, 4]}, figsize=(9,5))\n",
    "mobile.boxplot(column='px_width',ax=axes[0]);\n",
    "mobile.hist(column='px_width', ax=axes[1]);"
   ]
  },
  {
   "cell_type": "code",
   "execution_count": 35,
   "id": "af2cfafe",
   "metadata": {},
   "outputs": [
    {
     "data": {
      "image/png": "[encoded data removed]",
      "text/plain": [
       "<Figure size 648x360 with 2 Axes>"
      ]
     },
     "metadata": {
      "needs_background": "light"
     },
     "output_type": "display_data"
    }
   ],
   "source": [
    "fig, axes= plt.subplots(1,2, gridspec_kw={'width_ratios': [1, 4]}, figsize=(9,5))\n",
    "mobile.boxplot(column='ram',ax=axes[0]);\n",
    "mobile.hist(column='ram', ax=axes[1]);"
   ]
  },
  {
   "cell_type": "code",
   "execution_count": 36,
   "id": "00a1731f",
   "metadata": {},
   "outputs": [
    {
     "data": {
      "image/png": "[encoded data removed]",
      "text/plain": [
       "<Figure size 648x360 with 2 Axes>"
      ]
     },
     "metadata": {
      "needs_background": "light"
     },
     "output_type": "display_data"
    }
   ],
   "source": [
    "fig, axes= plt.subplots(1,2, gridspec_kw={'width_ratios': [1, 4]}, figsize=(9,5))\n",
    "mobile.boxplot(column='sc_h',ax=axes[0]);\n",
    "mobile.hist(column='sc_h', ax=axes[1]);"
   ]
  },
  {
   "cell_type": "code",
   "execution_count": 37,
   "id": "43ad0aca",
   "metadata": {},
   "outputs": [
    {
     "data": {
      "image/png": "[encoded data removed]",
      "text/plain": [
       "<Figure size 648x360 with 2 Axes>"
      ]
     },
     "metadata": {
      "needs_background": "light"
     },
     "output_type": "display_data"
    }
   ],
   "source": [
    "fig, axes= plt.subplots(1,2, gridspec_kw={'width_ratios': [1, 4]}, figsize=(9,5))\n",
    "mobile.boxplot(column='sc_w',ax=axes[0]);\n",
    "mobile.hist(column='sc_w', ax=axes[1]);"
   ]
  },
  {
   "cell_type": "code",
   "execution_count": 38,
   "id": "e1b4a388",
   "metadata": {},
   "outputs": [
    {
     "data": {
      "image/png": "[encoded data removed]",
      "text/plain": [
       "<Figure size 648x360 with 2 Axes>"
      ]
     },
     "metadata": {
      "needs_background": "light"
     },
     "output_type": "display_data"
    }
   ],
   "source": [
    "fig, axes= plt.subplots(1,2, gridspec_kw={'width_ratios': [1, 4]}, figsize=(9,5))\n",
    "mobile.boxplot(column='talk_time',ax=axes[0]);\n",
    "mobile.hist(column='talk_time', ax=axes[1]);"
   ]
  },
  {
   "cell_type": "code",
   "execution_count": 39,
   "id": "eec8c9ce",
   "metadata": {},
   "outputs": [
    {
     "data": {
      "image/png": "[encoded data removed]",
      "text/plain": [
       "<Figure size 648x360 with 2 Axes>"
      ]
     },
     "metadata": {
      "needs_background": "light"
     },
     "output_type": "display_data"
    }
   ],
   "source": [
    "fig, axes= plt.subplots(1,2, gridspec_kw={'width_ratios': [1, 4]}, figsize=(9,5))\n",
    "mobile.boxplot(column='fc',ax=axes[0]);\n",
    "mobile.hist(column='fc', ax=axes[1]);"
   ]
  },
  {
   "cell_type": "markdown",
   "id": "47f3416f",
   "metadata": {},
   "source": [
    "The result above show there is an outlier, here we use IQR.\n",
    "\n",
    "IQR\n",
    "One easy criteria to decide which values are outliers is to use the distance between quartiles. Specifically, you define the outliers as:\n",
    "\n",
    "    The values smaller than Q1 - 1.5*IQR\n",
    "    The values bigger than Q3 + 1.5*IQR\n",
    "\n",
    "This is the criteria used in the boxplots to marc the outliers. "
   ]
  },
  {
   "cell_type": "code",
   "execution_count": 40,
   "id": "1b09496d",
   "metadata": {},
   "outputs": [
    {
     "data": {
      "text/plain": [
       "(2.0, 8.0, 6.0)"
      ]
     },
     "execution_count": 40,
     "metadata": {},
     "output_type": "execute_result"
    }
   ],
   "source": [
    "Q1 = mobile['fc'].quantile(0.25)\n",
    "Q3 = mobile['fc'].quantile(0.75)\n",
    "IQR = Q3 - Q1\n",
    "\n",
    "Q1, Q3, IQR"
   ]
  },
  {
   "cell_type": "code",
   "execution_count": 41,
   "id": "0ebaf942",
   "metadata": {},
   "outputs": [
    {
     "data": {
      "text/plain": [
       "(0, 20)"
      ]
     },
     "execution_count": 41,
     "metadata": {},
     "output_type": "execute_result"
    }
   ],
   "source": [
    "small_outliers = mobile['fc'] < (Q1 - 1.5 * IQR)\n",
    "big_outliers = mobile['fc'] > (Q3 + 1.5 * IQR)\n",
    "\n",
    "sum(small_outliers), sum(big_outliers)"
   ]
  },
  {
   "cell_type": "markdown",
   "id": "9081608f",
   "metadata": {},
   "source": [
    "Performing median value imputation to deal with outliers in \"fc\" feature"
   ]
  },
  {
   "cell_type": "code",
   "execution_count": 42,
   "id": "9b754bac",
   "metadata": {},
   "outputs": [
    {
     "data": {
      "image/png": "[encoded data removed]",
      "text/plain": [
       "<Figure size 432x288 with 1 Axes>"
      ]
     },
     "metadata": {
      "needs_background": "light"
     },
     "output_type": "display_data"
    }
   ],
   "source": [
    "for i in mobile['fc']:\n",
    "    Q1 = mobile['fc'].quantile(0.25)\n",
    "    Q3 = mobile['fc'].quantile(0.75)\n",
    "    IQR = Q3 - Q1\n",
    "    lower_tail = Q1 - 1.5 * IQR\n",
    "    upper_tail = Q3 + 1.5 * IQR\n",
    "    if i > upper_tail or i < lower_tail:\n",
    "        mobile['fc'] = mobile['fc'].replace(i,np.median(mobile['fc']))\n",
    "\n",
    "plt.title(\"Box plot after median imputation\")\n",
    "mobile.boxplot(column='fc',figsize=(8,8));"
   ]
  },
  {
   "cell_type": "code",
   "execution_count": 43,
   "id": "2e5e929b",
   "metadata": {},
   "outputs": [
    {
     "data": {
      "image/png": "[encoded data removed]",
      "text/plain": [
       "<Figure size 648x360 with 2 Axes>"
      ]
     },
     "metadata": {
      "needs_background": "light"
     },
     "output_type": "display_data"
    }
   ],
   "source": [
    "fig, axes= plt.subplots(1,2, gridspec_kw={'width_ratios': [1, 4]}, figsize=(9,5))\n",
    "mobile.boxplot(column='px_height',ax=axes[0]);\n",
    "mobile.hist(column='px_height', ax=axes[1]);"
   ]
  },
  {
   "cell_type": "code",
   "execution_count": 44,
   "id": "ccff5aa3",
   "metadata": {},
   "outputs": [
    {
     "data": {
      "text/plain": [
       "(284.0, 948.0, 664.0)"
      ]
     },
     "execution_count": 44,
     "metadata": {},
     "output_type": "execute_result"
    }
   ],
   "source": [
    "Q1 = mobile['px_height'].quantile(0.25)\n",
    "Q3 = mobile['px_height'].quantile(0.75)\n",
    "IQR = Q3 - Q1\n",
    "\n",
    "Q1, Q3, IQR"
   ]
  },
  {
   "cell_type": "code",
   "execution_count": 45,
   "id": "3a0e0a7c",
   "metadata": {},
   "outputs": [
    {
     "data": {
      "text/plain": [
       "(0, 2)"
      ]
     },
     "execution_count": 45,
     "metadata": {},
     "output_type": "execute_result"
    }
   ],
   "source": [
    "small_outliers = mobile['px_height'] < (Q1 - 1.5 * IQR)\n",
    "big_outliers = mobile['px_height'] > (Q3 + 1.5 * IQR)\n",
    "\n",
    "sum(small_outliers), sum(big_outliers)"
   ]
  },
  {
   "cell_type": "markdown",
   "id": "d50bf688",
   "metadata": {},
   "source": [
    "Performing median value imputation to deal with outliers in \"px_height\" feature"
   ]
  },
  {
   "cell_type": "code",
   "execution_count": 46,
   "id": "bbaa0ac4",
   "metadata": {},
   "outputs": [
    {
     "data": {
      "image/png": "[encoded data removed]",
      "text/plain": [
       "<Figure size 432x288 with 1 Axes>"
      ]
     },
     "metadata": {
      "needs_background": "light"
     },
     "output_type": "display_data"
    }
   ],
   "source": [
    "for i in mobile['px_height']:\n",
    "    Q1 = mobile['px_height'].quantile(0.25)\n",
    "    Q3 = mobile['px_height'].quantile(0.75)\n",
    "    IQR = Q3 - Q1\n",
    "    lower_tail = Q1 - 1.5 * IQR\n",
    "    upper_tail = Q3 + 1.5 * IQR\n",
    "    if i > upper_tail or i < lower_tail:\n",
    "        mobile['px_height'] = mobile['px_height'].replace(i,np.median(mobile['px_height']))\n",
    "\n",
    "plt.title(\"Box plot after median imputation\")\n",
    "mobile.boxplot(column='px_height',figsize=(8,8));"
   ]
  },
  {
   "cell_type": "markdown",
   "id": "c0a579a5",
   "metadata": {},
   "source": [
    "# Section 5: Data Distribution"
   ]
  },
  {
   "cell_type": "markdown",
   "id": "771108f8",
   "metadata": {},
   "source": [
    "In this section we will visualize our datasets to see the distribution of values in each features and see if there is Gaussianity(normal distribution of data) in those features.\n"
   ]
  },
  {
   "cell_type": "code",
   "execution_count": 47,
   "id": "0a4a69ee",
   "metadata": {},
   "outputs": [],
   "source": [
    "#Divide the features into categorical and continuous\n",
    "categorical_features=list()\n",
    "continous_features=list()\n",
    "for column_name in mobile.columns:\n",
    "    unique_values = len(mobile[column_name].unique())\n",
    "    if unique_values < 20:\n",
    "      categorical_features.append(column_name)\n",
    "    else:\n",
    "      continous_features.append(column_name)"
   ]
  },
  {
   "cell_type": "code",
   "execution_count": 48,
   "id": "05ea2532",
   "metadata": {},
   "outputs": [
    {
     "data": {
      "image/png": "[encoded data removed]",
      "text/plain": [
       "<Figure size 864x864 with 6 Axes>"
      ]
     },
     "metadata": {
      "needs_background": "light"
     },
     "output_type": "display_data"
    }
   ],
   "source": [
    "fig = plt.figure(figsize=(12,12))\n",
    "for i in range(6):\n",
    "    ax = fig.add_subplot(3, 3, i+1)\n",
    "    mobile[mobile.columns[i+9]].plot.kde()\n",
    "    plt.title(mobile.columns[i+9])\n",
    "fig.tight_layout();"
   ]
  },
  {
   "cell_type": "code",
   "execution_count": 49,
   "id": "f71b05ae",
   "metadata": {
    "scrolled": true
   },
   "outputs": [
    {
     "data": {
      "image/png": "[encoded data removed]",
      "text/plain": [
       "<Figure size 864x864 with 12 Axes>"
      ]
     },
     "metadata": {
      "needs_background": "light"
     },
     "output_type": "display_data"
    }
   ],
   "source": [
    "mobile.loc[:,'sc_w':'price_range'].plot.kde(subplots=True,\n",
    "                                                       layout=(4,3),\n",
    "                                                       sharex=False, \n",
    "                                                       figsize=(12,12));"
   ]
  },
  {
   "cell_type": "markdown",
   "id": "c854cf69",
   "metadata": {},
   "source": [
    "#### Observation of data distribution of the features:\n",
    "1. Most of categorical features such as bluetooth (blue), dual_sim, 4G (four_g), touch_screen, wifi and price_range has balanced distribution of values however only 3G (three_g) show imbalance distribution of the data value where there is low number of row with no 3G, but this has no impact to our dataset and analysis since it is clear that most of mobile phone we use have 3G features.\n",
    "\n",
    "2. Some continous features such as battery power,internal memory (int_memory),mobile depth (m_depth), mobile weight (mobile_wt) show gausiann distribution but there are some which show posititively skewed distribution(right side).\n",
    "\n",
    "3. Features with Positively skewed distribution (right side) are Screen Width (sc_w), Front Camera (fc), Pixel resolution height (px_height)\n",
    "    \n"
   ]
  },
  {
   "cell_type": "markdown",
   "id": "819b1b25",
   "metadata": {},
   "source": [
    "# SECTION 5: Correlation Analysis"
   ]
  },
  {
   "cell_type": "markdown",
   "id": "c5af47b0",
   "metadata": {},
   "source": [
    "Correlation analysis help to compute pairwise correlation of columns. It is useful in data analysis and modeling to better understand the relationships between variables. This is beacuse variables within a dataset can be related for many reasons. For example one variablecould cause or depend on the values of another variable or slightly associated to another variable.\n",
    "\n",
    "A correlation among variable can be: Positive Correlation: both variables change in the same direction. (1) Neutral Correlation: No relationship in the change of the variables.(0) Negative Correlation: variables change in opposite directions.(-1)\n"
   ]
  },
  {
   "cell_type": "code",
   "execution_count": 50,
   "id": "3dd043b0",
   "metadata": {},
   "outputs": [
    {
     "name": "stdout",
     "output_type": "stream",
     "text": [
      "price_range      1.000e+00\n",
      "ram              9.170e-01\n",
      "battery_power    2.007e-01\n",
      "px_width         1.658e-01\n",
      "px_height        1.489e-01\n",
      "int_memory       4.443e-02\n",
      "sc_w             2.541e-02\n",
      "three_g          2.361e-02\n",
      "sc_h             2.299e-02\n",
      "fc               2.234e-02\n",
      "talk_time        2.186e-02\n",
      "blue             2.057e-02\n",
      "wifi             1.878e-02\n",
      "dual_sim         1.744e-02\n",
      "pc               1.681e-02\n",
      "four_g           1.477e-02\n",
      "n_cores          4.399e-03\n",
      "m_dep            8.530e-04\n",
      "clock_speed     -6.606e-03\n",
      "mobile_wt       -3.030e-02\n",
      "touch_screen    -3.041e-02\n",
      "Name: price_range, dtype: float64 \n",
      "\n"
     ]
    }
   ],
   "source": [
    "correlation = mobile.corr()\n",
    "print(correlation['price_range'].sort_values(ascending = False),'\\n')"
   ]
  },
  {
   "cell_type": "code",
   "execution_count": 62,
   "id": "89fa3118",
   "metadata": {},
   "outputs": [
    {
     "name": "stdout",
     "output_type": "stream",
     "text": [
      "Index(['price_range', 'ram', 'battery_power', 'px_width', 'px_height',\n",
      "       'int_memory', 'sc_w', 'three_g', 'sc_h', 'fc'],\n",
      "      dtype='object')\n"
     ]
    },
    {
     "data": {
      "text/plain": [
       "<AxesSubplot:>"
      ]
     },
     "execution_count": 62,
     "metadata": {},
     "output_type": "execute_result"
    },
    {
     "data": {
      "text/plain": [
       "Text(0.5, 1.0, 'The correlation matrix of Top 10 correlated features')"
      ]
     },
     "execution_count": 62,
     "metadata": {},
     "output_type": "execute_result"
    },
    {
     "data": {
      "image/png": "[encoded data removed]",
      "text/plain": [
       "<Figure size 720x720 with 2 Axes>"
      ]
     },
     "metadata": {
      "needs_background": "light"
     },
     "output_type": "display_data"
    }
   ],
   "source": [
    "correlation = mobile.corr()\n",
    "#looking correlation of the best 10features\n",
    "k= 10\n",
    "cols = correlation.nlargest(k,'price_range')['price_range'].index\n",
    "print(cols)\n",
    "cm = np.corrcoef(mobile[cols].values.T)\n",
    "f , ax = plt.subplots(figsize = (10,10))\n",
    "sn.heatmap(cm, vmax=.8, linewidths=0.01,square=True,annot=True,cmap='viridis',\n",
    "            linecolor=\"white\",xticklabels = cols.values ,annot_kws = {'size':12},yticklabels = cols.values)\n",
    "plt.title('The correlation matrix of Top 10 correlated features')\n",
    "plt.show()\n",
    "f.savefig('Figures/correlation_matrix.jpeg')"
   ]
  },
  {
   "cell_type": "code",
   "execution_count": 52,
   "id": "7e04dc2c",
   "metadata": {},
   "outputs": [
    {
     "name": "stdout",
     "output_type": "stream",
     "text": [
      "Most Positive Correlations\n",
      " price_range      1.000\n",
      "ram              0.917\n",
      "battery_power    0.201\n",
      "px_width         0.166\n",
      "px_height        0.149\n",
      "Name: price_range, dtype: float64 \n",
      "\n",
      "Most Negative Correlations\n",
      " n_cores         4.399e-03\n",
      "m_dep           8.530e-04\n",
      "clock_speed    -6.606e-03\n",
      "mobile_wt      -3.030e-02\n",
      "touch_screen   -3.041e-02\n",
      "Name: price_range, dtype: float64\n"
     ]
    }
   ],
   "source": [
    "priceCorr = correlation.price_range.sort_values(ascending = False)\n",
    "print('Most Positive Correlations\\n',priceCorr.head(),'\\n')\n",
    "print('Most Negative Correlations\\n', priceCorr.tail())"
   ]
  },
  {
   "cell_type": "markdown",
   "id": "986265b9",
   "metadata": {},
   "source": [
    "### Results of Correlation Analysis\n",
    "\n",
    "The most features which are correlated to our target feature(price_range) are RAM, battery power, pixel resolution width and height,since we do have many features in our dataset will keep using all the features to train the model and after that we will train the model again with most correlated features to see if there will be any improvement of the accuracy of the model prediction. The Most 5 negatives correlation features are number of core of processor(n_cores), mobile depth(m_dep), clock speed of the processor, mobile weight and touch_screen\n"
   ]
  },
  {
   "cell_type": "markdown",
   "id": "f620dc9b",
   "metadata": {},
   "source": [
    "# SECTION 6: Feature Selection\n",
    "Feature Selection is the process where you automatically or manually select those features which contribute most to your prediction variable or output in which you are interested in. Having irrelevant features in your data can decrease the accuracy of the models and make your model learn based on irrelevant features. Therefore we will use correlation analysis and feature_importances_ method of The scikit-learn library to filter out most important features of our dataset"
   ]
  },
  {
   "cell_type": "markdown",
   "id": "1f9cec3e",
   "metadata": {},
   "source": [
    "#### Feature Importance\n",
    "\n",
    "Feature importance refers to techniques that assign a score to input features based on how useful they are at predicting a target variable.\n",
    "\n",
    "There are many types and sources of feature importance scores, although popular examples include statistical correlation scores, coefficients calculated as part of linear models, decision trees, and permutation importance scores.\n",
    "\n",
    "Feature importance scores play an important role in a predictive modeling project, including providing insight into the data, insight into the model, and the basis for dimensionality reduction and feature selection that can improve the efficiency and effectiveness of a predictive model on the problem.\n"
   ]
  },
  {
   "cell_type": "code",
   "execution_count": 53,
   "id": "80fb4071",
   "metadata": {},
   "outputs": [],
   "source": [
    "from sklearn.model_selection import train_test_split\n",
    "#Data set without target variable\n",
    "X = mobile.loc[:,mobile.columns != 'price_range']\n",
    "\n",
    "#target variable\n",
    "y = mobile['price_range']\n",
    "X_train, X_test, y_train, y_test = train_test_split(X, y, test_size=0.33, random_state = 42)"
   ]
  },
  {
   "cell_type": "code",
   "execution_count": 54,
   "id": "8b59d483",
   "metadata": {},
   "outputs": [],
   "source": [
    "#library\n",
    "from sklearn.feature_selection import SelectKBest, chi2\n",
    "\n",
    "bestfeatures = SelectKBest(score_func=chi2, k=4)\n",
    "model = bestfeatures.fit(X,y)"
   ]
  },
  {
   "cell_type": "code",
   "execution_count": 55,
   "id": "2989b0cf",
   "metadata": {},
   "outputs": [
    {
     "name": "stdout",
     "output_type": "stream",
     "text": [
      "          Feature       Score\n",
      "13            ram  931267.519\n",
      "11      px_height   17585.294\n",
      "0   battery_power   14129.867\n",
      "12       px_width    9810.587\n",
      "8       mobile_wt      95.973\n",
      "6      int_memory      89.839\n",
      "4              fc      15.497\n",
      "15           sc_w      14.244\n",
      "16      talk_time      13.236\n",
      "14           sc_h       9.615\n",
      "9         n_cores       9.098\n",
      "18   touch_screen       1.928\n",
      "10             pc       1.815\n",
      "5          four_g       1.522\n",
      "7           m_dep       0.746\n",
      "1            blue       0.723\n",
      "2     clock_speed       0.648\n",
      "3        dual_sim       0.631\n",
      "19           wifi       0.422\n",
      "17        three_g       0.328\n"
     ]
    }
   ],
   "source": [
    "dfscores = pd.DataFrame(model.scores_)\n",
    "dfcolumns = pd.DataFrame(X.columns)\n",
    "feature_scores = pd.concat([dfcolumns,dfscores],axis=1)\n",
    "feature_scores.columns = ['Feature','Score'] \n",
    "print(feature_scores.nlargest(20,'Score')) "
   ]
  },
  {
   "cell_type": "code",
   "execution_count": 56,
   "id": "44eec4f9",
   "metadata": {},
   "outputs": [
    {
     "data": {
      "text/plain": [
       "ExtraTreesClassifier()"
      ]
     },
     "execution_count": 56,
     "metadata": {},
     "output_type": "execute_result"
    },
    {
     "data": {
      "text/plain": [
       "<AxesSubplot:>"
      ]
     },
     "execution_count": 56,
     "metadata": {},
     "output_type": "execute_result"
    },
    {
     "data": {
      "text/plain": [
       "Text(0.5, 1.0, 'The top 10 best important features')"
      ]
     },
     "execution_count": 56,
     "metadata": {},
     "output_type": "execute_result"
    },
    {
     "data": {
      "image/png": "[encoded data removed]",
      "text/plain": [
       "<Figure size 432x288 with 1 Axes>"
      ]
     },
     "metadata": {
      "needs_background": "light"
     },
     "output_type": "display_data"
    }
   ],
   "source": [
    "#Apply Feature Importance Method to select most important features\n",
    "from sklearn.ensemble import ExtraTreesClassifier  \n",
    "model = ExtraTreesClassifier()\n",
    "model.fit(X , y)\n",
    "important_features = pd.Series(model.feature_importances_ , index = X.columns)\n",
    "important_features.nlargest(10).plot(kind = 'barh')\n",
    "plt.title(\"The top 10 best important features\")\n",
    "plt.show()"
   ]
  },
  {
   "cell_type": "markdown",
   "id": "3b58b2ec",
   "metadata": {},
   "source": [
    "# SECTION 7: Finishing the preprocessing "
   ]
  },
  {
   "cell_type": "markdown",
   "id": "7ffbed81",
   "metadata": {},
   "source": [
    "After completing all the preprocessing work we want to save another file which contain preprocessed data which can be used for creating model. However before saving the data we want to split the preprocessed data into two randomly of 80% to 20% spit that can be used for training and testing (which be used for final model testing ) respectively. Through all the learning process we will use training seting."
   ]
  },
  {
   "cell_type": "markdown",
   "id": "82a4b6d4",
   "metadata": {},
   "source": [
    "Randddomly split the preprocessed dataset that can de used for final testing of the model we create "
   ]
  },
  {
   "cell_type": "code",
   "execution_count": 57,
   "id": "d8f0cd01",
   "metadata": {},
   "outputs": [],
   "source": [
    "from sklearn.model_selection import train_test_split\n",
    "train, test = train_test_split(mobile, test_size=0.20, shuffle= True, random_state=3, stratify=mobile['price_range'])\n",
    "train = train.reset_index(drop=True)\n",
    "test = test.reset_index(drop=True)"
   ]
  },
  {
   "cell_type": "code",
   "execution_count": 58,
   "id": "c622189e",
   "metadata": {},
   "outputs": [
    {
     "data": {
      "text/html": [
       "<div>\n",
       "<style scoped>\n",
       "    .dataframe tbody tr th:only-of-type {\n",
       "        vertical-align: middle;\n",
       "    }\n",
       "\n",
       "    .dataframe tbody tr th {\n",
       "        vertical-align: top;\n",
       "    }\n",
       "\n",
       "    .dataframe thead th {\n",
       "        text-align: right;\n",
       "    }\n",
       "</style>\n",
       "<table border=\"1\" class=\"dataframe\">\n",
       "  <thead>\n",
       "    <tr style=\"text-align: right;\">\n",
       "      <th></th>\n",
       "      <th>battery_power</th>\n",
       "      <th>blue</th>\n",
       "      <th>clock_speed</th>\n",
       "      <th>dual_sim</th>\n",
       "      <th>fc</th>\n",
       "      <th>four_g</th>\n",
       "      <th>int_memory</th>\n",
       "      <th>m_dep</th>\n",
       "      <th>mobile_wt</th>\n",
       "      <th>n_cores</th>\n",
       "      <th>...</th>\n",
       "      <th>px_height</th>\n",
       "      <th>px_width</th>\n",
       "      <th>ram</th>\n",
       "      <th>sc_h</th>\n",
       "      <th>sc_w</th>\n",
       "      <th>talk_time</th>\n",
       "      <th>three_g</th>\n",
       "      <th>touch_screen</th>\n",
       "      <th>wifi</th>\n",
       "      <th>price_range</th>\n",
       "    </tr>\n",
       "  </thead>\n",
       "  <tbody>\n",
       "    <tr>\n",
       "      <th>0</th>\n",
       "      <td>959</td>\n",
       "      <td>1</td>\n",
       "      <td>2.6</td>\n",
       "      <td>1</td>\n",
       "      <td>15.0</td>\n",
       "      <td>0</td>\n",
       "      <td>20</td>\n",
       "      <td>1.0</td>\n",
       "      <td>84</td>\n",
       "      <td>4</td>\n",
       "      <td>...</td>\n",
       "      <td>561.0</td>\n",
       "      <td>1631</td>\n",
       "      <td>3965</td>\n",
       "      <td>16</td>\n",
       "      <td>1.0</td>\n",
       "      <td>6</td>\n",
       "      <td>1</td>\n",
       "      <td>0</td>\n",
       "      <td>0</td>\n",
       "      <td>3</td>\n",
       "    </tr>\n",
       "    <tr>\n",
       "      <th>1</th>\n",
       "      <td>1724</td>\n",
       "      <td>0</td>\n",
       "      <td>2.0</td>\n",
       "      <td>1</td>\n",
       "      <td>2.0</td>\n",
       "      <td>1</td>\n",
       "      <td>57</td>\n",
       "      <td>0.5</td>\n",
       "      <td>177</td>\n",
       "      <td>3</td>\n",
       "      <td>...</td>\n",
       "      <td>1605.0</td>\n",
       "      <td>1924</td>\n",
       "      <td>2822</td>\n",
       "      <td>19</td>\n",
       "      <td>3.0</td>\n",
       "      <td>16</td>\n",
       "      <td>1</td>\n",
       "      <td>1</td>\n",
       "      <td>0</td>\n",
       "      <td>3</td>\n",
       "    </tr>\n",
       "    <tr>\n",
       "      <th>2</th>\n",
       "      <td>1456</td>\n",
       "      <td>1</td>\n",
       "      <td>0.5</td>\n",
       "      <td>1</td>\n",
       "      <td>7.0</td>\n",
       "      <td>0</td>\n",
       "      <td>7</td>\n",
       "      <td>0.4</td>\n",
       "      <td>105</td>\n",
       "      <td>5</td>\n",
       "      <td>...</td>\n",
       "      <td>823.0</td>\n",
       "      <td>1104</td>\n",
       "      <td>1587</td>\n",
       "      <td>6</td>\n",
       "      <td>5.0</td>\n",
       "      <td>20</td>\n",
       "      <td>1</td>\n",
       "      <td>0</td>\n",
       "      <td>1</td>\n",
       "      <td>1</td>\n",
       "    </tr>\n",
       "    <tr>\n",
       "      <th>3</th>\n",
       "      <td>1993</td>\n",
       "      <td>1</td>\n",
       "      <td>0.5</td>\n",
       "      <td>0</td>\n",
       "      <td>10.0</td>\n",
       "      <td>1</td>\n",
       "      <td>27</td>\n",
       "      <td>0.3</td>\n",
       "      <td>147</td>\n",
       "      <td>8</td>\n",
       "      <td>...</td>\n",
       "      <td>150.0</td>\n",
       "      <td>510</td>\n",
       "      <td>2437</td>\n",
       "      <td>14</td>\n",
       "      <td>1.0</td>\n",
       "      <td>9</td>\n",
       "      <td>1</td>\n",
       "      <td>0</td>\n",
       "      <td>0</td>\n",
       "      <td>2</td>\n",
       "    </tr>\n",
       "    <tr>\n",
       "      <th>4</th>\n",
       "      <td>864</td>\n",
       "      <td>0</td>\n",
       "      <td>1.6</td>\n",
       "      <td>1</td>\n",
       "      <td>2.0</td>\n",
       "      <td>1</td>\n",
       "      <td>53</td>\n",
       "      <td>0.3</td>\n",
       "      <td>88</td>\n",
       "      <td>6</td>\n",
       "      <td>...</td>\n",
       "      <td>262.0</td>\n",
       "      <td>1436</td>\n",
       "      <td>493</td>\n",
       "      <td>18</td>\n",
       "      <td>9.0</td>\n",
       "      <td>10</td>\n",
       "      <td>1</td>\n",
       "      <td>1</td>\n",
       "      <td>0</td>\n",
       "      <td>0</td>\n",
       "    </tr>\n",
       "  </tbody>\n",
       "</table>\n",
       "<p>5 rows × 21 columns</p>\n",
       "</div>"
      ],
      "text/plain": [
       "   battery_power  blue  clock_speed  dual_sim    fc  four_g  int_memory  \\\n",
       "0            959     1          2.6         1  15.0       0          20   \n",
       "1           1724     0          2.0         1   2.0       1          57   \n",
       "2           1456     1          0.5         1   7.0       0           7   \n",
       "3           1993     1          0.5         0  10.0       1          27   \n",
       "4            864     0          1.6         1   2.0       1          53   \n",
       "\n",
       "   m_dep  mobile_wt  n_cores  ...  px_height  px_width   ram  sc_h  sc_w  \\\n",
       "0    1.0         84        4  ...      561.0      1631  3965    16   1.0   \n",
       "1    0.5        177        3  ...     1605.0      1924  2822    19   3.0   \n",
       "2    0.4        105        5  ...      823.0      1104  1587     6   5.0   \n",
       "3    0.3        147        8  ...      150.0       510  2437    14   1.0   \n",
       "4    0.3         88        6  ...      262.0      1436   493    18   9.0   \n",
       "\n",
       "   talk_time  three_g  touch_screen  wifi  price_range  \n",
       "0          6        1             0     0            3  \n",
       "1         16        1             1     0            3  \n",
       "2         20        1             0     1            1  \n",
       "3          9        1             0     0            2  \n",
       "4         10        1             1     0            0  \n",
       "\n",
       "[5 rows x 21 columns]"
      ]
     },
     "execution_count": 58,
     "metadata": {},
     "output_type": "execute_result"
    }
   ],
   "source": [
    "#Checking if the split contain all the data\n",
    "train.head()"
   ]
  },
  {
   "cell_type": "code",
   "execution_count": 59,
   "id": "bd640ad6",
   "metadata": {},
   "outputs": [
    {
     "data": {
      "text/plain": [
       "(1600, 21)"
      ]
     },
     "execution_count": 59,
     "metadata": {},
     "output_type": "execute_result"
    }
   ],
   "source": [
    "train.shape"
   ]
  },
  {
   "cell_type": "code",
   "execution_count": 60,
   "id": "fdbc37bb",
   "metadata": {},
   "outputs": [
    {
     "data": {
      "text/plain": [
       "(400, 21)"
      ]
     },
     "execution_count": 60,
     "metadata": {},
     "output_type": "execute_result"
    }
   ],
   "source": [
    "test.shape"
   ]
  },
  {
   "cell_type": "code",
   "execution_count": 61,
   "id": "86f8a8ee",
   "metadata": {},
   "outputs": [],
   "source": [
    "#Save the file into .csv so that we can use them later\n",
    "train.to_csv('Data/clean_train.csv', index=False)\n",
    "test.to_csv('Data/clean_test.csv', index=False)"
   ]
  }
 ],
 "metadata": {
  "kernelspec": {
   "display_name": "Python 3",
   "language": "python",
   "name": "python3"
  },
  "language_info": {
   "codemirror_mode": {
    "name": "ipython",
    "version": 3
   },
   "file_extension": ".py",
   "mimetype": "text/x-python",
   "name": "python",
   "nbconvert_exporter": "python",
   "pygments_lexer": "ipython3",
   "version": "3.8.8"
  }
 },
 "nbformat": 4,
 "nbformat_minor": 5
}
